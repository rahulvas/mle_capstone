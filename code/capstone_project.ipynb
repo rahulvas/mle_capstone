{
 "cells": [
  {
   "cell_type": "markdown",
   "metadata": {},
   "source": [
    "# Google Analytics Customer Lifetime Value Capstone\n",
    "\n",
    "This project’s aim is to analyze Google Merchandise Store data, specifically the customer dataset, in order to run predictions for revenue per customer. This is a form of a customer lifetime value model. Essentially, this project’s aim is to use machine learning, specifically regression, in order to predict how much a customer may spend in the store given customer attributes and segments.\n",
    "\n",
    "**Question**\n",
    "\n",
    "We will use customer transaction data as an input to predict total customer spend within a certain window via clustering and regression techniques. This helps answer the question: _Can we accurately predict how much a customer will spend, thus allowing marketers to target high spending customers with more advertisements?_"
   ]
  },
  {
   "cell_type": "markdown",
   "metadata": {
    "toc-hr-collapsed": true,
    "toc-nb-collapsed": true
   },
   "source": [
    "### Exploratory Data Analysis"
   ]
  },
  {
   "cell_type": "code",
   "execution_count": 42,
   "metadata": {},
   "outputs": [],
   "source": [
    "import pandas as pd\n",
    "import matplotlib.pyplot as plt\n",
    "import numpy as np\n",
    "plt.style.use('ggplot')\n",
    "import seaborn as sns\n",
    "from datetime import datetime\n",
    "import pickle"
   ]
  },
  {
   "cell_type": "code",
   "execution_count": 40,
   "metadata": {},
   "outputs": [
    {
     "name": "stderr",
     "output_type": "stream",
     "text": [
      "/home/ec2-user/anaconda3/envs/mxnet_p36/lib/python3.6/site-packages/IPython/core/interactiveshell.py:2785: DtypeWarning: Columns (2) have mixed types. Specify dtype option on import or set low_memory=False.\n",
      "  interactivity=interactivity, compiler=compiler, result=result)\n"
     ]
    }
   ],
   "source": [
    "train = pd.read_csv('../data/train_clean.csv')\n",
    "test = pd.read_csv('../data/test_clean.csv')"
   ]
  },
  {
   "cell_type": "code",
   "execution_count": 4,
   "metadata": {},
   "outputs": [
    {
     "data": {
      "text/plain": [
       "channelGrouping                object\n",
       "date                            int64\n",
       "fullVisitorId                  object\n",
       "visitId                         int64\n",
       "visitNumber                     int64\n",
       "visitStartTime                  int64\n",
       "device.browser                 object\n",
       "device.deviceCategory          object\n",
       "device.isMobile                  bool\n",
       "device.operatingSystem         object\n",
       "geoNetwork.city                object\n",
       "geoNetwork.continent           object\n",
       "geoNetwork.country             object\n",
       "geoNetwork.metro               object\n",
       "geoNetwork.networkDomain       object\n",
       "geoNetwork.region              object\n",
       "geoNetwork.subContinent        object\n",
       "totals.bounces                float64\n",
       "totals.hits                     int64\n",
       "totals.newVisits              float64\n",
       "totals.pageviews              float64\n",
       "totals.transactionRevenue     float64\n",
       "trafficSource.adContent        object\n",
       "trafficSource.campaign         object\n",
       "trafficSource.isTrueDirect     object\n",
       "trafficSource.keyword          object\n",
       "trafficSource.medium           object\n",
       "trafficSource.referralPath     object\n",
       "trafficSource.source           object\n",
       "dtype: object"
      ]
     },
     "execution_count": 4,
     "metadata": {},
     "output_type": "execute_result"
    }
   ],
   "source": [
    "train.dtypes"
   ]
  },
  {
   "cell_type": "code",
   "execution_count": 5,
   "metadata": {},
   "outputs": [
    {
     "data": {
      "text/html": [
       "<div>\n",
       "<style scoped>\n",
       "    .dataframe tbody tr th:only-of-type {\n",
       "        vertical-align: middle;\n",
       "    }\n",
       "\n",
       "    .dataframe tbody tr th {\n",
       "        vertical-align: top;\n",
       "    }\n",
       "\n",
       "    .dataframe thead th {\n",
       "        text-align: right;\n",
       "    }\n",
       "</style>\n",
       "<table border=\"1\" class=\"dataframe\">\n",
       "  <thead>\n",
       "    <tr style=\"text-align: right;\">\n",
       "      <th></th>\n",
       "      <th>channelGrouping</th>\n",
       "      <th>date</th>\n",
       "      <th>fullVisitorId</th>\n",
       "      <th>visitId</th>\n",
       "      <th>visitNumber</th>\n",
       "      <th>visitStartTime</th>\n",
       "      <th>device.browser</th>\n",
       "      <th>device.deviceCategory</th>\n",
       "      <th>device.isMobile</th>\n",
       "      <th>device.operatingSystem</th>\n",
       "      <th>...</th>\n",
       "      <th>totals.newVisits</th>\n",
       "      <th>totals.pageviews</th>\n",
       "      <th>totals.transactionRevenue</th>\n",
       "      <th>trafficSource.adContent</th>\n",
       "      <th>trafficSource.campaign</th>\n",
       "      <th>trafficSource.isTrueDirect</th>\n",
       "      <th>trafficSource.keyword</th>\n",
       "      <th>trafficSource.medium</th>\n",
       "      <th>trafficSource.referralPath</th>\n",
       "      <th>trafficSource.source</th>\n",
       "    </tr>\n",
       "  </thead>\n",
       "  <tbody>\n",
       "    <tr>\n",
       "      <th>128433</th>\n",
       "      <td>Organic Search</td>\n",
       "      <td>20170310</td>\n",
       "      <td>9023039691397222879</td>\n",
       "      <td>1489181412</td>\n",
       "      <td>2</td>\n",
       "      <td>1489181412</td>\n",
       "      <td>Safari</td>\n",
       "      <td>mobile</td>\n",
       "      <td>True</td>\n",
       "      <td>iOS</td>\n",
       "      <td>...</td>\n",
       "      <td>NaN</td>\n",
       "      <td>1.0</td>\n",
       "      <td>NaN</td>\n",
       "      <td>NaN</td>\n",
       "      <td>(not set)</td>\n",
       "      <td>True</td>\n",
       "      <td>(not provided)</td>\n",
       "      <td>organic</td>\n",
       "      <td>NaN</td>\n",
       "      <td>google</td>\n",
       "    </tr>\n",
       "    <tr>\n",
       "      <th>132052</th>\n",
       "      <td>Organic Search</td>\n",
       "      <td>20170428</td>\n",
       "      <td>7696464481964516300</td>\n",
       "      <td>1493436044</td>\n",
       "      <td>2</td>\n",
       "      <td>1493436044</td>\n",
       "      <td>Chrome</td>\n",
       "      <td>mobile</td>\n",
       "      <td>True</td>\n",
       "      <td>Android</td>\n",
       "      <td>...</td>\n",
       "      <td>NaN</td>\n",
       "      <td>6.0</td>\n",
       "      <td>NaN</td>\n",
       "      <td>NaN</td>\n",
       "      <td>(not set)</td>\n",
       "      <td>NaN</td>\n",
       "      <td>(not provided)</td>\n",
       "      <td>organic</td>\n",
       "      <td>NaN</td>\n",
       "      <td>google</td>\n",
       "    </tr>\n",
       "    <tr>\n",
       "      <th>454795</th>\n",
       "      <td>Organic Search</td>\n",
       "      <td>20170703</td>\n",
       "      <td>2263346730230488026</td>\n",
       "      <td>1499150387</td>\n",
       "      <td>1</td>\n",
       "      <td>1499150387</td>\n",
       "      <td>Chrome</td>\n",
       "      <td>mobile</td>\n",
       "      <td>True</td>\n",
       "      <td>Android</td>\n",
       "      <td>...</td>\n",
       "      <td>1.0</td>\n",
       "      <td>3.0</td>\n",
       "      <td>NaN</td>\n",
       "      <td>NaN</td>\n",
       "      <td>(not set)</td>\n",
       "      <td>NaN</td>\n",
       "      <td>(not provided)</td>\n",
       "      <td>organic</td>\n",
       "      <td>NaN</td>\n",
       "      <td>google</td>\n",
       "    </tr>\n",
       "    <tr>\n",
       "      <th>419171</th>\n",
       "      <td>Direct</td>\n",
       "      <td>20161205</td>\n",
       "      <td>9518260508423519976</td>\n",
       "      <td>1480976520</td>\n",
       "      <td>2</td>\n",
       "      <td>1480976520</td>\n",
       "      <td>Chrome</td>\n",
       "      <td>mobile</td>\n",
       "      <td>True</td>\n",
       "      <td>iOS</td>\n",
       "      <td>...</td>\n",
       "      <td>NaN</td>\n",
       "      <td>1.0</td>\n",
       "      <td>NaN</td>\n",
       "      <td>NaN</td>\n",
       "      <td>(not set)</td>\n",
       "      <td>True</td>\n",
       "      <td>NaN</td>\n",
       "      <td>(none)</td>\n",
       "      <td>NaN</td>\n",
       "      <td>(direct)</td>\n",
       "    </tr>\n",
       "    <tr>\n",
       "      <th>3754</th>\n",
       "      <td>Social</td>\n",
       "      <td>20170126</td>\n",
       "      <td>7917158608419454026</td>\n",
       "      <td>1485499664</td>\n",
       "      <td>1</td>\n",
       "      <td>1485499664</td>\n",
       "      <td>Edge</td>\n",
       "      <td>desktop</td>\n",
       "      <td>False</td>\n",
       "      <td>Windows</td>\n",
       "      <td>...</td>\n",
       "      <td>1.0</td>\n",
       "      <td>1.0</td>\n",
       "      <td>NaN</td>\n",
       "      <td>NaN</td>\n",
       "      <td>(not set)</td>\n",
       "      <td>NaN</td>\n",
       "      <td>NaN</td>\n",
       "      <td>referral</td>\n",
       "      <td>/yt/about/ur/index.html</td>\n",
       "      <td>youtube.com</td>\n",
       "    </tr>\n",
       "  </tbody>\n",
       "</table>\n",
       "<p>5 rows × 29 columns</p>\n",
       "</div>"
      ],
      "text/plain": [
       "       channelGrouping      date        fullVisitorId     visitId  \\\n",
       "128433  Organic Search  20170310  9023039691397222879  1489181412   \n",
       "132052  Organic Search  20170428  7696464481964516300  1493436044   \n",
       "454795  Organic Search  20170703  2263346730230488026  1499150387   \n",
       "419171          Direct  20161205  9518260508423519976  1480976520   \n",
       "3754            Social  20170126  7917158608419454026  1485499664   \n",
       "\n",
       "        visitNumber  visitStartTime device.browser device.deviceCategory  \\\n",
       "128433            2      1489181412         Safari                mobile   \n",
       "132052            2      1493436044         Chrome                mobile   \n",
       "454795            1      1499150387         Chrome                mobile   \n",
       "419171            2      1480976520         Chrome                mobile   \n",
       "3754              1      1485499664           Edge               desktop   \n",
       "\n",
       "        device.isMobile device.operatingSystem  ... totals.newVisits  \\\n",
       "128433             True                    iOS  ...              NaN   \n",
       "132052             True                Android  ...              NaN   \n",
       "454795             True                Android  ...              1.0   \n",
       "419171             True                    iOS  ...              NaN   \n",
       "3754              False                Windows  ...              1.0   \n",
       "\n",
       "       totals.pageviews totals.transactionRevenue trafficSource.adContent  \\\n",
       "128433              1.0                       NaN                     NaN   \n",
       "132052              6.0                       NaN                     NaN   \n",
       "454795              3.0                       NaN                     NaN   \n",
       "419171              1.0                       NaN                     NaN   \n",
       "3754                1.0                       NaN                     NaN   \n",
       "\n",
       "       trafficSource.campaign trafficSource.isTrueDirect  \\\n",
       "128433              (not set)                       True   \n",
       "132052              (not set)                        NaN   \n",
       "454795              (not set)                        NaN   \n",
       "419171              (not set)                       True   \n",
       "3754                (not set)                        NaN   \n",
       "\n",
       "       trafficSource.keyword  trafficSource.medium  \\\n",
       "128433        (not provided)               organic   \n",
       "132052        (not provided)               organic   \n",
       "454795        (not provided)               organic   \n",
       "419171                   NaN                (none)   \n",
       "3754                     NaN              referral   \n",
       "\n",
       "        trafficSource.referralPath  trafficSource.source  \n",
       "128433                         NaN                google  \n",
       "132052                         NaN                google  \n",
       "454795                         NaN                google  \n",
       "419171                         NaN              (direct)  \n",
       "3754       /yt/about/ur/index.html           youtube.com  \n",
       "\n",
       "[5 rows x 29 columns]"
      ]
     },
     "execution_count": 5,
     "metadata": {},
     "output_type": "execute_result"
    }
   ],
   "source": [
    "train.sample(5)"
   ]
  },
  {
   "cell_type": "code",
   "execution_count": 6,
   "metadata": {},
   "outputs": [
    {
     "data": {
      "text/plain": [
       "(903653, 29)"
      ]
     },
     "execution_count": 6,
     "metadata": {},
     "output_type": "execute_result"
    }
   ],
   "source": [
    "train.shape"
   ]
  },
  {
   "cell_type": "code",
   "execution_count": 7,
   "metadata": {},
   "outputs": [
    {
     "data": {
      "text/html": [
       "<div>\n",
       "<style scoped>\n",
       "    .dataframe tbody tr th:only-of-type {\n",
       "        vertical-align: middle;\n",
       "    }\n",
       "\n",
       "    .dataframe tbody tr th {\n",
       "        vertical-align: top;\n",
       "    }\n",
       "\n",
       "    .dataframe thead th {\n",
       "        text-align: right;\n",
       "    }\n",
       "</style>\n",
       "<table border=\"1\" class=\"dataframe\">\n",
       "  <thead>\n",
       "    <tr style=\"text-align: right;\">\n",
       "      <th></th>\n",
       "      <th>date</th>\n",
       "      <th>visitId</th>\n",
       "      <th>visitNumber</th>\n",
       "      <th>visitStartTime</th>\n",
       "      <th>totals.bounces</th>\n",
       "      <th>totals.hits</th>\n",
       "      <th>totals.newVisits</th>\n",
       "      <th>totals.pageviews</th>\n",
       "      <th>totals.transactionRevenue</th>\n",
       "    </tr>\n",
       "  </thead>\n",
       "  <tbody>\n",
       "    <tr>\n",
       "      <th>count</th>\n",
       "      <td>9.036530e+05</td>\n",
       "      <td>9.036530e+05</td>\n",
       "      <td>903653.000000</td>\n",
       "      <td>9.036530e+05</td>\n",
       "      <td>450630.0</td>\n",
       "      <td>903653.000000</td>\n",
       "      <td>703060.0</td>\n",
       "      <td>903553.000000</td>\n",
       "      <td>1.151500e+04</td>\n",
       "    </tr>\n",
       "    <tr>\n",
       "      <th>mean</th>\n",
       "      <td>2.016589e+07</td>\n",
       "      <td>1.485007e+09</td>\n",
       "      <td>2.264897</td>\n",
       "      <td>1.485007e+09</td>\n",
       "      <td>1.0</td>\n",
       "      <td>4.596538</td>\n",
       "      <td>1.0</td>\n",
       "      <td>3.849764</td>\n",
       "      <td>1.337448e+08</td>\n",
       "    </tr>\n",
       "    <tr>\n",
       "      <th>std</th>\n",
       "      <td>4.697698e+03</td>\n",
       "      <td>9.022124e+06</td>\n",
       "      <td>9.283735</td>\n",
       "      <td>9.022124e+06</td>\n",
       "      <td>0.0</td>\n",
       "      <td>9.641437</td>\n",
       "      <td>0.0</td>\n",
       "      <td>7.025274</td>\n",
       "      <td>4.482852e+08</td>\n",
       "    </tr>\n",
       "    <tr>\n",
       "      <th>min</th>\n",
       "      <td>2.016080e+07</td>\n",
       "      <td>1.470035e+09</td>\n",
       "      <td>1.000000</td>\n",
       "      <td>1.470035e+09</td>\n",
       "      <td>1.0</td>\n",
       "      <td>1.000000</td>\n",
       "      <td>1.0</td>\n",
       "      <td>1.000000</td>\n",
       "      <td>1.000000e+04</td>\n",
       "    </tr>\n",
       "    <tr>\n",
       "      <th>25%</th>\n",
       "      <td>2.016103e+07</td>\n",
       "      <td>1.477561e+09</td>\n",
       "      <td>1.000000</td>\n",
       "      <td>1.477561e+09</td>\n",
       "      <td>1.0</td>\n",
       "      <td>1.000000</td>\n",
       "      <td>1.0</td>\n",
       "      <td>1.000000</td>\n",
       "      <td>2.493000e+07</td>\n",
       "    </tr>\n",
       "    <tr>\n",
       "      <th>50%</th>\n",
       "      <td>2.017011e+07</td>\n",
       "      <td>1.483949e+09</td>\n",
       "      <td>1.000000</td>\n",
       "      <td>1.483949e+09</td>\n",
       "      <td>1.0</td>\n",
       "      <td>2.000000</td>\n",
       "      <td>1.0</td>\n",
       "      <td>1.000000</td>\n",
       "      <td>4.945000e+07</td>\n",
       "    </tr>\n",
       "    <tr>\n",
       "      <th>75%</th>\n",
       "      <td>2.017042e+07</td>\n",
       "      <td>1.492759e+09</td>\n",
       "      <td>1.000000</td>\n",
       "      <td>1.492759e+09</td>\n",
       "      <td>1.0</td>\n",
       "      <td>4.000000</td>\n",
       "      <td>1.0</td>\n",
       "      <td>4.000000</td>\n",
       "      <td>1.076550e+08</td>\n",
       "    </tr>\n",
       "    <tr>\n",
       "      <th>max</th>\n",
       "      <td>2.017080e+07</td>\n",
       "      <td>1.501657e+09</td>\n",
       "      <td>395.000000</td>\n",
       "      <td>1.501657e+09</td>\n",
       "      <td>1.0</td>\n",
       "      <td>500.000000</td>\n",
       "      <td>1.0</td>\n",
       "      <td>469.000000</td>\n",
       "      <td>2.312950e+10</td>\n",
       "    </tr>\n",
       "  </tbody>\n",
       "</table>\n",
       "</div>"
      ],
      "text/plain": [
       "               date       visitId    visitNumber  visitStartTime  \\\n",
       "count  9.036530e+05  9.036530e+05  903653.000000    9.036530e+05   \n",
       "mean   2.016589e+07  1.485007e+09       2.264897    1.485007e+09   \n",
       "std    4.697698e+03  9.022124e+06       9.283735    9.022124e+06   \n",
       "min    2.016080e+07  1.470035e+09       1.000000    1.470035e+09   \n",
       "25%    2.016103e+07  1.477561e+09       1.000000    1.477561e+09   \n",
       "50%    2.017011e+07  1.483949e+09       1.000000    1.483949e+09   \n",
       "75%    2.017042e+07  1.492759e+09       1.000000    1.492759e+09   \n",
       "max    2.017080e+07  1.501657e+09     395.000000    1.501657e+09   \n",
       "\n",
       "       totals.bounces    totals.hits  totals.newVisits  totals.pageviews  \\\n",
       "count        450630.0  903653.000000          703060.0     903553.000000   \n",
       "mean              1.0       4.596538               1.0          3.849764   \n",
       "std               0.0       9.641437               0.0          7.025274   \n",
       "min               1.0       1.000000               1.0          1.000000   \n",
       "25%               1.0       1.000000               1.0          1.000000   \n",
       "50%               1.0       2.000000               1.0          1.000000   \n",
       "75%               1.0       4.000000               1.0          4.000000   \n",
       "max               1.0     500.000000               1.0        469.000000   \n",
       "\n",
       "       totals.transactionRevenue  \n",
       "count               1.151500e+04  \n",
       "mean                1.337448e+08  \n",
       "std                 4.482852e+08  \n",
       "min                 1.000000e+04  \n",
       "25%                 2.493000e+07  \n",
       "50%                 4.945000e+07  \n",
       "75%                 1.076550e+08  \n",
       "max                 2.312950e+10  "
      ]
     },
     "execution_count": 7,
     "metadata": {},
     "output_type": "execute_result"
    }
   ],
   "source": [
    "train.describe()"
   ]
  },
  {
   "cell_type": "code",
   "execution_count": 8,
   "metadata": {},
   "outputs": [
    {
     "data": {
      "text/plain": [
       "array(['organic', 'referral', 'cpc', 'affiliate', '(none)', 'cpm',\n",
       "       '(not set)'], dtype=object)"
      ]
     },
     "execution_count": 8,
     "metadata": {},
     "output_type": "execute_result"
    }
   ],
   "source": [
    "train['trafficSource.medium'].unique()"
   ]
  },
  {
   "cell_type": "markdown",
   "metadata": {},
   "source": [
    "#### Outcome: `totals.transactionRevenue`"
   ]
  },
  {
   "cell_type": "markdown",
   "metadata": {},
   "source": [
    "We are trying to predict the natural log of transaction revenue by users, so we first apply the natural log and then sort the values from smallest to largest."
   ]
  },
  {
   "cell_type": "code",
   "execution_count": 9,
   "metadata": {},
   "outputs": [
    {
     "data": {
      "image/png": "[encoded data removed]",
      "text/plain": [
       "<Figure size 576x432 with 1 Axes>"
      ]
     },
     "metadata": {},
     "output_type": "display_data"
    }
   ],
   "source": [
    "train['totals.transactionRevenue'] = train['totals.transactionRevenue'].astype('float')\n",
    "txns_by_users = train.groupby(\"fullVisitorId\")[\"totals.transactionRevenue\"].sum().reset_index()\n",
    "\n",
    "plt.figure(figsize=(8,6))\n",
    "plt.scatter(range(txns_by_users.shape[0]), np.sort(np.log1p(txns_by_users[\"totals.transactionRevenue\"].values)))\n",
    "plt.xlabel('index', fontsize=12)\n",
    "plt.ylabel('Logged Transaction Revenue', fontsize=12)\n",
    "plt.title('Total Transactions')\n",
    "plt.show()"
   ]
  },
  {
   "cell_type": "markdown",
   "metadata": {},
   "source": [
    "The Kaggle competition that I am using started off with saying that 80% of the transactions come from 20% of the users, and this visualization seems to be in line with that logic. Let's take a look at the top users who spend the most."
   ]
  },
  {
   "cell_type": "code",
   "execution_count": 10,
   "metadata": {},
   "outputs": [
    {
     "data": {
      "text/html": [
       "<div>\n",
       "<style scoped>\n",
       "    .dataframe tbody tr th:only-of-type {\n",
       "        vertical-align: middle;\n",
       "    }\n",
       "\n",
       "    .dataframe tbody tr th {\n",
       "        vertical-align: top;\n",
       "    }\n",
       "\n",
       "    .dataframe thead th {\n",
       "        text-align: right;\n",
       "    }\n",
       "</style>\n",
       "<table border=\"1\" class=\"dataframe\">\n",
       "  <thead>\n",
       "    <tr style=\"text-align: right;\">\n",
       "      <th></th>\n",
       "      <th>fullVisitorId</th>\n",
       "      <th>totals.transactionRevenue</th>\n",
       "    </tr>\n",
       "  </thead>\n",
       "  <tbody>\n",
       "    <tr>\n",
       "      <th>182593</th>\n",
       "      <td>1957458976293878100</td>\n",
       "      <td>7.591669e+10</td>\n",
       "    </tr>\n",
       "    <tr>\n",
       "      <th>392626</th>\n",
       "      <td>5632276788326171571</td>\n",
       "      <td>1.602375e+10</td>\n",
       "    </tr>\n",
       "    <tr>\n",
       "      <th>610261</th>\n",
       "      <td>9417857471295131045</td>\n",
       "      <td>1.517012e+10</td>\n",
       "    </tr>\n",
       "    <tr>\n",
       "      <th>326192</th>\n",
       "      <td>4471415710206918415</td>\n",
       "      <td>1.121110e+10</td>\n",
       "    </tr>\n",
       "    <tr>\n",
       "      <th>355498</th>\n",
       "      <td>4984366501121503466</td>\n",
       "      <td>9.513900e+09</td>\n",
       "    </tr>\n",
       "  </tbody>\n",
       "</table>\n",
       "</div>"
      ],
      "text/plain": [
       "              fullVisitorId  totals.transactionRevenue\n",
       "182593  1957458976293878100               7.591669e+10\n",
       "392626  5632276788326171571               1.602375e+10\n",
       "610261  9417857471295131045               1.517012e+10\n",
       "326192  4471415710206918415               1.121110e+10\n",
       "355498  4984366501121503466               9.513900e+09"
      ]
     },
     "execution_count": 10,
     "metadata": {},
     "output_type": "execute_result"
    }
   ],
   "source": [
    "txns_by_users.sort_values('totals.transactionRevenue', ascending = False).head(5)"
   ]
  },
  {
   "cell_type": "code",
   "execution_count": 11,
   "metadata": {},
   "outputs": [
    {
     "data": {
      "text/html": [
       "<div>\n",
       "<style scoped>\n",
       "    .dataframe tbody tr th:only-of-type {\n",
       "        vertical-align: middle;\n",
       "    }\n",
       "\n",
       "    .dataframe tbody tr th {\n",
       "        vertical-align: top;\n",
       "    }\n",
       "\n",
       "    .dataframe thead th {\n",
       "        text-align: right;\n",
       "    }\n",
       "</style>\n",
       "<table border=\"1\" class=\"dataframe\">\n",
       "  <thead>\n",
       "    <tr style=\"text-align: right;\">\n",
       "      <th></th>\n",
       "      <th>channelGrouping</th>\n",
       "      <th>date</th>\n",
       "      <th>fullVisitorId</th>\n",
       "      <th>visitId</th>\n",
       "      <th>visitNumber</th>\n",
       "      <th>visitStartTime</th>\n",
       "      <th>device.browser</th>\n",
       "      <th>device.deviceCategory</th>\n",
       "      <th>device.isMobile</th>\n",
       "      <th>device.operatingSystem</th>\n",
       "      <th>...</th>\n",
       "      <th>totals.newVisits</th>\n",
       "      <th>totals.pageviews</th>\n",
       "      <th>totals.transactionRevenue</th>\n",
       "      <th>trafficSource.adContent</th>\n",
       "      <th>trafficSource.campaign</th>\n",
       "      <th>trafficSource.isTrueDirect</th>\n",
       "      <th>trafficSource.keyword</th>\n",
       "      <th>trafficSource.medium</th>\n",
       "      <th>trafficSource.referralPath</th>\n",
       "      <th>trafficSource.source</th>\n",
       "    </tr>\n",
       "  </thead>\n",
       "  <tbody>\n",
       "    <tr>\n",
       "      <th>22500</th>\n",
       "      <td>Direct</td>\n",
       "      <td>20161110</td>\n",
       "      <td>4984366501121503466</td>\n",
       "      <td>1478792651</td>\n",
       "      <td>6</td>\n",
       "      <td>1478792651</td>\n",
       "      <td>Chrome</td>\n",
       "      <td>desktop</td>\n",
       "      <td>False</td>\n",
       "      <td>Chrome OS</td>\n",
       "      <td>...</td>\n",
       "      <td>NaN</td>\n",
       "      <td>32.0</td>\n",
       "      <td>5.382000e+08</td>\n",
       "      <td>NaN</td>\n",
       "      <td>(not set)</td>\n",
       "      <td>True</td>\n",
       "      <td>NaN</td>\n",
       "      <td>(none)</td>\n",
       "      <td>NaN</td>\n",
       "      <td>(direct)</td>\n",
       "    </tr>\n",
       "    <tr>\n",
       "      <th>89918</th>\n",
       "      <td>Direct</td>\n",
       "      <td>20161130</td>\n",
       "      <td>4984366501121503466</td>\n",
       "      <td>1480527609</td>\n",
       "      <td>8</td>\n",
       "      <td>1480527609</td>\n",
       "      <td>Chrome</td>\n",
       "      <td>desktop</td>\n",
       "      <td>False</td>\n",
       "      <td>Chrome OS</td>\n",
       "      <td>...</td>\n",
       "      <td>NaN</td>\n",
       "      <td>30.0</td>\n",
       "      <td>6.970000e+08</td>\n",
       "      <td>NaN</td>\n",
       "      <td>(not set)</td>\n",
       "      <td>True</td>\n",
       "      <td>NaN</td>\n",
       "      <td>(none)</td>\n",
       "      <td>NaN</td>\n",
       "      <td>(direct)</td>\n",
       "    </tr>\n",
       "    <tr>\n",
       "      <th>126655</th>\n",
       "      <td>Direct</td>\n",
       "      <td>20161018</td>\n",
       "      <td>4984366501121503466</td>\n",
       "      <td>1476808875</td>\n",
       "      <td>2</td>\n",
       "      <td>1476808875</td>\n",
       "      <td>Chrome</td>\n",
       "      <td>desktop</td>\n",
       "      <td>False</td>\n",
       "      <td>Chrome OS</td>\n",
       "      <td>...</td>\n",
       "      <td>NaN</td>\n",
       "      <td>22.0</td>\n",
       "      <td>2.740000e+08</td>\n",
       "      <td>NaN</td>\n",
       "      <td>(not set)</td>\n",
       "      <td>True</td>\n",
       "      <td>NaN</td>\n",
       "      <td>(none)</td>\n",
       "      <td>NaN</td>\n",
       "      <td>(direct)</td>\n",
       "    </tr>\n",
       "    <tr>\n",
       "      <th>142416</th>\n",
       "      <td>Direct</td>\n",
       "      <td>20170410</td>\n",
       "      <td>4984366501121503466</td>\n",
       "      <td>1491864249</td>\n",
       "      <td>22</td>\n",
       "      <td>1491864249</td>\n",
       "      <td>Chrome</td>\n",
       "      <td>desktop</td>\n",
       "      <td>False</td>\n",
       "      <td>Chrome OS</td>\n",
       "      <td>...</td>\n",
       "      <td>NaN</td>\n",
       "      <td>43.0</td>\n",
       "      <td>4.597000e+07</td>\n",
       "      <td>NaN</td>\n",
       "      <td>(not set)</td>\n",
       "      <td>True</td>\n",
       "      <td>NaN</td>\n",
       "      <td>(none)</td>\n",
       "      <td>NaN</td>\n",
       "      <td>(direct)</td>\n",
       "    </tr>\n",
       "    <tr>\n",
       "      <th>249668</th>\n",
       "      <td>Direct</td>\n",
       "      <td>20170105</td>\n",
       "      <td>4984366501121503466</td>\n",
       "      <td>1483653271</td>\n",
       "      <td>14</td>\n",
       "      <td>1483653271</td>\n",
       "      <td>Chrome</td>\n",
       "      <td>desktop</td>\n",
       "      <td>False</td>\n",
       "      <td>Chrome OS</td>\n",
       "      <td>...</td>\n",
       "      <td>NaN</td>\n",
       "      <td>39.0</td>\n",
       "      <td>1.633420e+09</td>\n",
       "      <td>NaN</td>\n",
       "      <td>(not set)</td>\n",
       "      <td>True</td>\n",
       "      <td>NaN</td>\n",
       "      <td>(none)</td>\n",
       "      <td>NaN</td>\n",
       "      <td>(direct)</td>\n",
       "    </tr>\n",
       "    <tr>\n",
       "      <th>275470</th>\n",
       "      <td>Direct</td>\n",
       "      <td>20170620</td>\n",
       "      <td>4984366501121503466</td>\n",
       "      <td>1497998174</td>\n",
       "      <td>24</td>\n",
       "      <td>1497998174</td>\n",
       "      <td>Chrome</td>\n",
       "      <td>desktop</td>\n",
       "      <td>False</td>\n",
       "      <td>Chrome OS</td>\n",
       "      <td>...</td>\n",
       "      <td>NaN</td>\n",
       "      <td>26.0</td>\n",
       "      <td>7.310800e+08</td>\n",
       "      <td>NaN</td>\n",
       "      <td>(not set)</td>\n",
       "      <td>True</td>\n",
       "      <td>NaN</td>\n",
       "      <td>(none)</td>\n",
       "      <td>NaN</td>\n",
       "      <td>(direct)</td>\n",
       "    </tr>\n",
       "    <tr>\n",
       "      <th>287213</th>\n",
       "      <td>Direct</td>\n",
       "      <td>20170728</td>\n",
       "      <td>9417857471295131045</td>\n",
       "      <td>1501255344</td>\n",
       "      <td>19</td>\n",
       "      <td>1501255344</td>\n",
       "      <td>Chrome</td>\n",
       "      <td>desktop</td>\n",
       "      <td>False</td>\n",
       "      <td>Windows</td>\n",
       "      <td>...</td>\n",
       "      <td>NaN</td>\n",
       "      <td>51.0</td>\n",
       "      <td>6.855200e+08</td>\n",
       "      <td>NaN</td>\n",
       "      <td>(not set)</td>\n",
       "      <td>True</td>\n",
       "      <td>NaN</td>\n",
       "      <td>(none)</td>\n",
       "      <td>NaN</td>\n",
       "      <td>(direct)</td>\n",
       "    </tr>\n",
       "    <tr>\n",
       "      <th>339913</th>\n",
       "      <td>Direct</td>\n",
       "      <td>20170721</td>\n",
       "      <td>9417857471295131045</td>\n",
       "      <td>1500657634</td>\n",
       "      <td>10</td>\n",
       "      <td>1500657634</td>\n",
       "      <td>Chrome</td>\n",
       "      <td>desktop</td>\n",
       "      <td>False</td>\n",
       "      <td>Windows</td>\n",
       "      <td>...</td>\n",
       "      <td>NaN</td>\n",
       "      <td>76.0</td>\n",
       "      <td>1.064080e+09</td>\n",
       "      <td>NaN</td>\n",
       "      <td>(not set)</td>\n",
       "      <td>True</td>\n",
       "      <td>NaN</td>\n",
       "      <td>(none)</td>\n",
       "      <td>NaN</td>\n",
       "      <td>(direct)</td>\n",
       "    </tr>\n",
       "    <tr>\n",
       "      <th>348275</th>\n",
       "      <td>Display</td>\n",
       "      <td>20170601</td>\n",
       "      <td>1957458976293878100</td>\n",
       "      <td>1496342143</td>\n",
       "      <td>295</td>\n",
       "      <td>1496342143</td>\n",
       "      <td>Firefox</td>\n",
       "      <td>desktop</td>\n",
       "      <td>False</td>\n",
       "      <td>Windows</td>\n",
       "      <td>...</td>\n",
       "      <td>NaN</td>\n",
       "      <td>24.0</td>\n",
       "      <td>2.344000e+08</td>\n",
       "      <td>NaN</td>\n",
       "      <td>(not set)</td>\n",
       "      <td>True</td>\n",
       "      <td>NaN</td>\n",
       "      <td>cpm</td>\n",
       "      <td>NaN</td>\n",
       "      <td>dfa</td>\n",
       "    </tr>\n",
       "    <tr>\n",
       "      <th>354592</th>\n",
       "      <td>Direct</td>\n",
       "      <td>20161027</td>\n",
       "      <td>4984366501121503466</td>\n",
       "      <td>1477584959</td>\n",
       "      <td>3</td>\n",
       "      <td>1477584959</td>\n",
       "      <td>Chrome</td>\n",
       "      <td>desktop</td>\n",
       "      <td>False</td>\n",
       "      <td>Chrome OS</td>\n",
       "      <td>...</td>\n",
       "      <td>NaN</td>\n",
       "      <td>43.0</td>\n",
       "      <td>2.904000e+08</td>\n",
       "      <td>NaN</td>\n",
       "      <td>(not set)</td>\n",
       "      <td>True</td>\n",
       "      <td>NaN</td>\n",
       "      <td>(none)</td>\n",
       "      <td>NaN</td>\n",
       "      <td>(direct)</td>\n",
       "    </tr>\n",
       "  </tbody>\n",
       "</table>\n",
       "<p>10 rows × 29 columns</p>\n",
       "</div>"
      ],
      "text/plain": [
       "       channelGrouping      date        fullVisitorId     visitId  \\\n",
       "22500           Direct  20161110  4984366501121503466  1478792651   \n",
       "89918           Direct  20161130  4984366501121503466  1480527609   \n",
       "126655          Direct  20161018  4984366501121503466  1476808875   \n",
       "142416          Direct  20170410  4984366501121503466  1491864249   \n",
       "249668          Direct  20170105  4984366501121503466  1483653271   \n",
       "275470          Direct  20170620  4984366501121503466  1497998174   \n",
       "287213          Direct  20170728  9417857471295131045  1501255344   \n",
       "339913          Direct  20170721  9417857471295131045  1500657634   \n",
       "348275         Display  20170601  1957458976293878100  1496342143   \n",
       "354592          Direct  20161027  4984366501121503466  1477584959   \n",
       "\n",
       "        visitNumber  visitStartTime device.browser device.deviceCategory  \\\n",
       "22500             6      1478792651         Chrome               desktop   \n",
       "89918             8      1480527609         Chrome               desktop   \n",
       "126655            2      1476808875         Chrome               desktop   \n",
       "142416           22      1491864249         Chrome               desktop   \n",
       "249668           14      1483653271         Chrome               desktop   \n",
       "275470           24      1497998174         Chrome               desktop   \n",
       "287213           19      1501255344         Chrome               desktop   \n",
       "339913           10      1500657634         Chrome               desktop   \n",
       "348275          295      1496342143        Firefox               desktop   \n",
       "354592            3      1477584959         Chrome               desktop   \n",
       "\n",
       "        device.isMobile device.operatingSystem  ... totals.newVisits  \\\n",
       "22500             False              Chrome OS  ...              NaN   \n",
       "89918             False              Chrome OS  ...              NaN   \n",
       "126655            False              Chrome OS  ...              NaN   \n",
       "142416            False              Chrome OS  ...              NaN   \n",
       "249668            False              Chrome OS  ...              NaN   \n",
       "275470            False              Chrome OS  ...              NaN   \n",
       "287213            False                Windows  ...              NaN   \n",
       "339913            False                Windows  ...              NaN   \n",
       "348275            False                Windows  ...              NaN   \n",
       "354592            False              Chrome OS  ...              NaN   \n",
       "\n",
       "       totals.pageviews totals.transactionRevenue trafficSource.adContent  \\\n",
       "22500              32.0              5.382000e+08                     NaN   \n",
       "89918              30.0              6.970000e+08                     NaN   \n",
       "126655             22.0              2.740000e+08                     NaN   \n",
       "142416             43.0              4.597000e+07                     NaN   \n",
       "249668             39.0              1.633420e+09                     NaN   \n",
       "275470             26.0              7.310800e+08                     NaN   \n",
       "287213             51.0              6.855200e+08                     NaN   \n",
       "339913             76.0              1.064080e+09                     NaN   \n",
       "348275             24.0              2.344000e+08                     NaN   \n",
       "354592             43.0              2.904000e+08                     NaN   \n",
       "\n",
       "       trafficSource.campaign trafficSource.isTrueDirect  \\\n",
       "22500               (not set)                       True   \n",
       "89918               (not set)                       True   \n",
       "126655              (not set)                       True   \n",
       "142416              (not set)                       True   \n",
       "249668              (not set)                       True   \n",
       "275470              (not set)                       True   \n",
       "287213              (not set)                       True   \n",
       "339913              (not set)                       True   \n",
       "348275              (not set)                       True   \n",
       "354592              (not set)                       True   \n",
       "\n",
       "       trafficSource.keyword  trafficSource.medium  \\\n",
       "22500                    NaN                (none)   \n",
       "89918                    NaN                (none)   \n",
       "126655                   NaN                (none)   \n",
       "142416                   NaN                (none)   \n",
       "249668                   NaN                (none)   \n",
       "275470                   NaN                (none)   \n",
       "287213                   NaN                (none)   \n",
       "339913                   NaN                (none)   \n",
       "348275                   NaN                   cpm   \n",
       "354592                   NaN                (none)   \n",
       "\n",
       "        trafficSource.referralPath  trafficSource.source  \n",
       "22500                          NaN              (direct)  \n",
       "89918                          NaN              (direct)  \n",
       "126655                         NaN              (direct)  \n",
       "142416                         NaN              (direct)  \n",
       "249668                         NaN              (direct)  \n",
       "275470                         NaN              (direct)  \n",
       "287213                         NaN              (direct)  \n",
       "339913                         NaN              (direct)  \n",
       "348275                         NaN                   dfa  \n",
       "354592                         NaN              (direct)  \n",
       "\n",
       "[10 rows x 29 columns]"
      ]
     },
     "execution_count": 11,
     "metadata": {},
     "output_type": "execute_result"
    }
   ],
   "source": [
    "train.loc[train.fullVisitorId.isin(txns_by_users.sort_values('totals.transactionRevenue', ascending = False).head(5)['fullVisitorId'])].loc[~pd.isnull(train['totals.transactionRevenue'])].head(10)"
   ]
  },
  {
   "cell_type": "markdown",
   "metadata": {},
   "source": [
    "From the sample above, it looks like top users use desktops to make transactions; however, their operating systems are quite diverse between Windows, Chrome, and Mac. There is still some hesitation that these could be affiliate companies or internal employees buying large amount of items for their teams, but this is something worth exploring."
   ]
  },
  {
   "cell_type": "code",
   "execution_count": 12,
   "metadata": {},
   "outputs": [
    {
     "data": {
      "text/plain": [
       "(0.0127427231470487, 0.013976902495279737)"
      ]
     },
     "execution_count": 12,
     "metadata": {},
     "output_type": "execute_result"
    }
   ],
   "source": [
    "not_null_rev = train.loc[~pd.isna(train['totals.transactionRevenue'])]['fullVisitorId'].count()\n",
    "no_spend_customers = txns_by_users.loc[txns_by_users['totals.transactionRevenue'] > 0]['fullVisitorId'].count()\n",
    "not_null_rev/train.shape[0], no_spend_customers/txns_by_users.shape[0]"
   ]
  },
  {
   "cell_type": "markdown",
   "metadata": {},
   "source": [
    "We note from above that out of all visitors visiting the Google Store, only 1.4% of visitors are revenue generating customers. \n",
    "\n",
    "*Note that this data begins from August 01 2016 and ends on August 01 2017"
   ]
  },
  {
   "cell_type": "markdown",
   "metadata": {},
   "source": [
    "#### Device Category, Operating System, and Browser"
   ]
  },
  {
   "cell_type": "code",
   "execution_count": 13,
   "metadata": {},
   "outputs": [
    {
     "data": {
      "text/plain": [
       "<pandas.core.groupby.generic.SeriesGroupBy object at 0x7f1ec1e3cd68>"
      ]
     },
     "execution_count": 13,
     "metadata": {},
     "output_type": "execute_result"
    }
   ],
   "source": [
    "train.groupby('device.deviceCategory')['totals.transactionRevenue']"
   ]
  },
  {
   "cell_type": "code",
   "execution_count": 14,
   "metadata": {},
   "outputs": [
    {
     "data": {
      "image/png": "[encoded data removed]",
      "text/plain": [
       "<Figure size 720x864 with 3 Axes>"
      ]
     },
     "metadata": {},
     "output_type": "display_data"
    }
   ],
   "source": [
    "f, axes = plt.subplots(3, figsize=(10, 12), sharex=True)\n",
    "for i, k in enumerate(['device.deviceCategory', 'device.operatingSystem', 'device.browser']):\n",
    "#     tmp = train[[k, 'totals.transactionRevenue']]\n",
    "#     tmp = tmp.loc[~pd.isnull(tmp['totals.transactionRevenue'])]\n",
    "#     tmp['logged_val'] = tmp['totals.transactionRevenue'].apply(lambda x : np.log1p(x))\n",
    "#     sns.boxplot(y=k, x=\"logged_val\", data=tmp, dodge=False, ax=axes[i])\n",
    "    sns.boxplot(y=k, x=\"totals.transactionRevenue\", data=train.loc[~pd.isnull(train['totals.transactionRevenue'])], dodge=False, ax=axes[i])\n",
    "    axes[i].set_xscale('log')"
   ]
  },
  {
   "cell_type": "markdown",
   "metadata": {},
   "source": [
    "Above we see boxplots for device types, operating systems, and browsers of non-null transaction revenues. We note a few observations:\n",
    "- The majority of customers use Desktops for purchases.\n",
    "    - Surprisingly tablets are the second highest usage for purchases, followed by mobile phones.\n",
    "- Chrome OS has the highest median spend at the Google store, this plays into my theory that it could be Google employees who are purchasing Google products.\n",
    "- Unsurprisingly, Chrome had the highest median revenue of the web browsers; however, Firefox was a surprise in second place."
   ]
  },
  {
   "cell_type": "markdown",
   "metadata": {},
   "source": [
    "#### Potential Indirect Outcome: Page Views"
   ]
  },
  {
   "cell_type": "code",
   "execution_count": 15,
   "metadata": {},
   "outputs": [
    {
     "data": {
      "image/png": "[encoded data removed]",
      "text/plain": [
       "<Figure size 576x432 with 1 Axes>"
      ]
     },
     "metadata": {},
     "output_type": "display_data"
    }
   ],
   "source": [
    "train['totals.pageviews'] = train['totals.pageviews'].astype('float')\n",
    "pg_by_users = train.groupby(\"fullVisitorId\")[\"totals.pageviews\"].sum().reset_index()\n",
    "\n",
    "plt.figure(figsize=(8,6))\n",
    "plt.scatter(range(pg_by_users.shape[0]), np.sort(pg_by_users[\"totals.pageviews\"].values))\n",
    "plt.xlabel('index', fontsize=12)\n",
    "plt.ylabel('Page Views', fontsize=12)\n",
    "plt.title('Total Page Views')\n",
    "plt.show()"
   ]
  },
  {
   "cell_type": "markdown",
   "metadata": {},
   "source": [
    "We note the similarities between page views and total revenue, thus we can use page views as an indirect outcome because ultimately users need to view a page before purchasing a product. This allows us to switch our cluster methodology from: Recency, Frequency, and Monetary to Recency, Frequency, and Views."
   ]
  },
  {
   "cell_type": "markdown",
   "metadata": {},
   "source": [
    "### Feature Engineering"
   ]
  },
  {
   "cell_type": "markdown",
   "metadata": {},
   "source": [
    "#### Recency Cluster"
   ]
  },
  {
   "cell_type": "code",
   "execution_count": 132,
   "metadata": {},
   "outputs": [],
   "source": [
    "non_zero_txn = train.loc[pd.notnull(train['totals.transactionRevenue'])]"
   ]
  },
  {
   "cell_type": "code",
   "execution_count": 133,
   "metadata": {},
   "outputs": [],
   "source": [
    "tx_user = pd.DataFrame(non_zero_txn['fullVisitorId'].unique())\n",
    "tx_user.columns = ['fullVisitorId']"
   ]
  },
  {
   "cell_type": "code",
   "execution_count": 134,
   "metadata": {},
   "outputs": [],
   "source": [
    "train['date_format'] = pd.to_datetime(train['date'], format=\"%Y%m%d\")\n",
    "tx_max_purchase = train.groupby('fullVisitorId').date_format.max().reset_index()\n",
    "tx_max_purchase.columns = ['fullVisitorId','date_format']\n",
    "\n",
    "tx_max_purchase['recency'] = (tx_max_purchase['date_format'].max() - tx_max_purchase['date_format']).dt.days\n",
    "\n",
    "tx_user = pd.merge(tx_user, tx_max_purchase[['fullVisitorId','recency']], on='fullVisitorId')"
   ]
  },
  {
   "cell_type": "code",
   "execution_count": 135,
   "metadata": {},
   "outputs": [
    {
     "data": {
      "text/plain": [
       "fullVisitorId    731421\n",
       "date_format      731421\n",
       "recency          731421\n",
       "dtype: int64"
      ]
     },
     "execution_count": 135,
     "metadata": {},
     "output_type": "execute_result"
    }
   ],
   "source": [
    "tx_max_purchase.count()"
   ]
  },
  {
   "cell_type": "code",
   "execution_count": 136,
   "metadata": {},
   "outputs": [
    {
     "name": "stderr",
     "output_type": "stream",
     "text": [
      "/home/ec2-user/anaconda3/envs/mxnet_p36/lib/python3.6/site-packages/matplotlib/axes/_axes.py:6521: MatplotlibDeprecationWarning: \n",
      "The 'normed' kwarg was deprecated in Matplotlib 2.1 and will be removed in 3.1. Use 'density' instead.\n",
      "  alternative=\"'density'\", removal=\"3.1\")\n"
     ]
    },
    {
     "data": {
      "text/plain": [
       "<matplotlib.axes._subplots.AxesSubplot at 0x7f1e987b4780>"
      ]
     },
     "execution_count": 136,
     "metadata": {},
     "output_type": "execute_result"
    },
    {
     "data": {
      "image/png": "[encoded data removed]",
      "text/plain": [
       "<Figure size 432x288 with 1 Axes>"
      ]
     },
     "metadata": {},
     "output_type": "display_data"
    }
   ],
   "source": [
    "sns.distplot(tx_user['recency'])"
   ]
  },
  {
   "cell_type": "code",
   "execution_count": 137,
   "metadata": {},
   "outputs": [
    {
     "data": {
      "text/html": [
       "<div>\n",
       "<style scoped>\n",
       "    .dataframe tbody tr th:only-of-type {\n",
       "        vertical-align: middle;\n",
       "    }\n",
       "\n",
       "    .dataframe tbody tr th {\n",
       "        vertical-align: top;\n",
       "    }\n",
       "\n",
       "    .dataframe thead th {\n",
       "        text-align: right;\n",
       "    }\n",
       "</style>\n",
       "<table border=\"1\" class=\"dataframe\">\n",
       "  <thead>\n",
       "    <tr style=\"text-align: right;\">\n",
       "      <th></th>\n",
       "      <th>recency</th>\n",
       "    </tr>\n",
       "  </thead>\n",
       "  <tbody>\n",
       "    <tr>\n",
       "      <th>count</th>\n",
       "      <td>10223.000000</td>\n",
       "    </tr>\n",
       "    <tr>\n",
       "      <th>mean</th>\n",
       "      <td>173.245818</td>\n",
       "    </tr>\n",
       "    <tr>\n",
       "      <th>std</th>\n",
       "      <td>108.380458</td>\n",
       "    </tr>\n",
       "    <tr>\n",
       "      <th>min</th>\n",
       "      <td>0.000000</td>\n",
       "    </tr>\n",
       "    <tr>\n",
       "      <th>25%</th>\n",
       "      <td>78.000000</td>\n",
       "    </tr>\n",
       "    <tr>\n",
       "      <th>50%</th>\n",
       "      <td>175.000000</td>\n",
       "    </tr>\n",
       "    <tr>\n",
       "      <th>75%</th>\n",
       "      <td>261.000000</td>\n",
       "    </tr>\n",
       "    <tr>\n",
       "      <th>max</th>\n",
       "      <td>365.000000</td>\n",
       "    </tr>\n",
       "  </tbody>\n",
       "</table>\n",
       "</div>"
      ],
      "text/plain": [
       "            recency\n",
       "count  10223.000000\n",
       "mean     173.245818\n",
       "std      108.380458\n",
       "min        0.000000\n",
       "25%       78.000000\n",
       "50%      175.000000\n",
       "75%      261.000000\n",
       "max      365.000000"
      ]
     },
     "execution_count": 137,
     "metadata": {},
     "output_type": "execute_result"
    }
   ],
   "source": [
    "tx_user.describe()"
   ]
  },
  {
   "cell_type": "markdown",
   "metadata": {},
   "source": [
    "We see that the median recency is 175 days, while the mean is close -- 173. We may be able to infer from the graph above that the median purchases were made between 261 and 175 days prior to August 1 2017, which is around from November 2016 to February 2017, which makes sense because this is around the holiday season."
   ]
  },
  {
   "cell_type": "code",
   "execution_count": 138,
   "metadata": {},
   "outputs": [
    {
     "data": {
      "text/plain": [
       "datetime.datetime(2016, 11, 13, 0, 0)"
      ]
     },
     "execution_count": 138,
     "metadata": {},
     "output_type": "execute_result"
    }
   ],
   "source": [
    "from datetime import timedelta\n",
    "datetime(2017,8,1) - timedelta(261)"
   ]
  },
  {
   "cell_type": "code",
   "execution_count": 139,
   "metadata": {},
   "outputs": [
    {
     "data": {
      "image/png": "[encoded data removed]",
      "text/plain": [
       "<Figure size 432x288 with 1 Axes>"
      ]
     },
     "metadata": {},
     "output_type": "display_data"
    },
    {
     "data": {
      "text/plain": [
       "{1: 120070921.25873032,\n",
       " 2: 27599295.841837794,\n",
       " 3: 13294268.429974128,\n",
       " 4: 6832606.570889071,\n",
       " 5: 4260578.116659052,\n",
       " 6: 3008921.0791957597,\n",
       " 7: 2181768.3341162223,\n",
       " 8: 1653431.7679139217,\n",
       " 9: 1308480.1964049013}"
      ]
     },
     "execution_count": 139,
     "metadata": {},
     "output_type": "execute_result"
    }
   ],
   "source": [
    "from sklearn.cluster import KMeans\n",
    "\n",
    "def plot_kmeans_inertia(feature):\n",
    "    tmp = tx_user[[feature]]\n",
    "    sse={}\n",
    "    for k in range(1, 10):\n",
    "        kmeans = KMeans(n_clusters=k, max_iter=1000).fit(tmp)\n",
    "        sse[k] = kmeans.inertia_ \n",
    "    plt.figure()\n",
    "    plt.plot(list(sse.keys()), list(sse.values()))\n",
    "    plt.xlabel(\"Number of cluster\")\n",
    "    plt.show()\n",
    "    return sse\n",
    "    \n",
    "plot_kmeans_inertia('recency')"
   ]
  },
  {
   "cell_type": "markdown",
   "metadata": {},
   "source": [
    "We see from the chart above that we can choose either 3 or 4 clusters. We will choose 4 just to have more features in our model. "
   ]
  },
  {
   "cell_type": "code",
   "execution_count": 140,
   "metadata": {},
   "outputs": [],
   "source": [
    "kmeans = KMeans(n_clusters = 4)\n",
    "kmeans.fit(tx_user[['recency']])\n",
    "\n",
    "## Save model to use for test as well\n",
    "filename = '../feature_models/kmeans_recency.sav'\n",
    "pickle.dump(kmeans, open(filename, 'wb'))"
   ]
  },
  {
   "cell_type": "code",
   "execution_count": 141,
   "metadata": {},
   "outputs": [],
   "source": [
    "# def engineer_features(user_df, df, model_file, col_name):\n",
    "#     mod1 = pickle.load(open(model_file, 'rb'))\n",
    "#     user_df[col_name+\"_cluster\"] = mod1.predict(user_df[col_name])\n",
    "#     df = pd.merge(df, user_df[['fullVisitorId']])   "
   ]
  },
  {
   "cell_type": "code",
   "execution_count": 142,
   "metadata": {},
   "outputs": [],
   "source": [
    "model_file = filename\n",
    "mod1 = pickle.load(open(model_file, 'rb'))\n",
    "tx_user['recency_cluster'] = mod1.predict(tx_user[['recency']])"
   ]
  },
  {
   "cell_type": "code",
   "execution_count": 143,
   "metadata": {},
   "outputs": [
    {
     "data": {
      "text/html": [
       "<div>\n",
       "<style scoped>\n",
       "    .dataframe tbody tr th:only-of-type {\n",
       "        vertical-align: middle;\n",
       "    }\n",
       "\n",
       "    .dataframe tbody tr th {\n",
       "        vertical-align: top;\n",
       "    }\n",
       "\n",
       "    .dataframe thead tr th {\n",
       "        text-align: left;\n",
       "    }\n",
       "\n",
       "    .dataframe thead tr:last-of-type th {\n",
       "        text-align: right;\n",
       "    }\n",
       "</style>\n",
       "<table border=\"1\" class=\"dataframe\">\n",
       "  <thead>\n",
       "    <tr>\n",
       "      <th></th>\n",
       "      <th colspan=\"3\" halign=\"left\">recency</th>\n",
       "    </tr>\n",
       "    <tr>\n",
       "      <th></th>\n",
       "      <th>min</th>\n",
       "      <th>max</th>\n",
       "      <th>mean</th>\n",
       "    </tr>\n",
       "    <tr>\n",
       "      <th>recency_cluster</th>\n",
       "      <th></th>\n",
       "      <th></th>\n",
       "      <th></th>\n",
       "    </tr>\n",
       "  </thead>\n",
       "  <tbody>\n",
       "    <tr>\n",
       "      <th>0</th>\n",
       "      <td>274</td>\n",
       "      <td>365</td>\n",
       "      <td>320.169943</td>\n",
       "    </tr>\n",
       "    <tr>\n",
       "      <th>1</th>\n",
       "      <td>0</td>\n",
       "      <td>78</td>\n",
       "      <td>35.267671</td>\n",
       "    </tr>\n",
       "    <tr>\n",
       "      <th>2</th>\n",
       "      <td>79</td>\n",
       "      <td>174</td>\n",
       "      <td>122.097619</td>\n",
       "    </tr>\n",
       "    <tr>\n",
       "      <th>3</th>\n",
       "      <td>175</td>\n",
       "      <td>273</td>\n",
       "      <td>226.275752</td>\n",
       "    </tr>\n",
       "  </tbody>\n",
       "</table>\n",
       "</div>"
      ],
      "text/plain": [
       "                recency                 \n",
       "                    min  max        mean\n",
       "recency_cluster                         \n",
       "0                   274  365  320.169943\n",
       "1                     0   78   35.267671\n",
       "2                    79  174  122.097619\n",
       "3                   175  273  226.275752"
      ]
     },
     "execution_count": 143,
     "metadata": {},
     "output_type": "execute_result"
    }
   ],
   "source": [
    "tx_user.groupby(['recency_cluster']).agg({'recency' : ['min', 'max', 'mean']})"
   ]
  },
  {
   "cell_type": "markdown",
   "metadata": {},
   "source": [
    "#### Frequency Cluster"
   ]
  },
  {
   "cell_type": "code",
   "execution_count": 144,
   "metadata": {},
   "outputs": [],
   "source": [
    "tx_frequency = non_zero_txn.groupby('fullVisitorId').visitId.count().reset_index()"
   ]
  },
  {
   "cell_type": "code",
   "execution_count": 145,
   "metadata": {},
   "outputs": [],
   "source": [
    "tx_frequency.columns = ['fullVisitorId','frequency']"
   ]
  },
  {
   "cell_type": "code",
   "execution_count": 146,
   "metadata": {},
   "outputs": [],
   "source": [
    "tx_user = pd.merge(tx_user, tx_frequency, on='fullVisitorId')"
   ]
  },
  {
   "cell_type": "code",
   "execution_count": 147,
   "metadata": {},
   "outputs": [
    {
     "data": {
      "text/html": [
       "<div>\n",
       "<style scoped>\n",
       "    .dataframe tbody tr th:only-of-type {\n",
       "        vertical-align: middle;\n",
       "    }\n",
       "\n",
       "    .dataframe tbody tr th {\n",
       "        vertical-align: top;\n",
       "    }\n",
       "\n",
       "    .dataframe thead th {\n",
       "        text-align: right;\n",
       "    }\n",
       "</style>\n",
       "<table border=\"1\" class=\"dataframe\">\n",
       "  <thead>\n",
       "    <tr style=\"text-align: right;\">\n",
       "      <th></th>\n",
       "      <th>recency</th>\n",
       "      <th>recency_cluster</th>\n",
       "      <th>frequency</th>\n",
       "    </tr>\n",
       "  </thead>\n",
       "  <tbody>\n",
       "    <tr>\n",
       "      <th>count</th>\n",
       "      <td>10223.000000</td>\n",
       "      <td>10223.000000</td>\n",
       "      <td>10223.000000</td>\n",
       "    </tr>\n",
       "    <tr>\n",
       "      <th>mean</th>\n",
       "      <td>173.245818</td>\n",
       "      <td>1.575271</td>\n",
       "      <td>1.126382</td>\n",
       "    </tr>\n",
       "    <tr>\n",
       "      <th>std</th>\n",
       "      <td>108.380458</td>\n",
       "      <td>1.115771</td>\n",
       "      <td>0.625919</td>\n",
       "    </tr>\n",
       "    <tr>\n",
       "      <th>min</th>\n",
       "      <td>0.000000</td>\n",
       "      <td>0.000000</td>\n",
       "      <td>1.000000</td>\n",
       "    </tr>\n",
       "    <tr>\n",
       "      <th>25%</th>\n",
       "      <td>78.000000</td>\n",
       "      <td>1.000000</td>\n",
       "      <td>1.000000</td>\n",
       "    </tr>\n",
       "    <tr>\n",
       "      <th>50%</th>\n",
       "      <td>175.000000</td>\n",
       "      <td>2.000000</td>\n",
       "      <td>1.000000</td>\n",
       "    </tr>\n",
       "    <tr>\n",
       "      <th>75%</th>\n",
       "      <td>261.000000</td>\n",
       "      <td>3.000000</td>\n",
       "      <td>1.000000</td>\n",
       "    </tr>\n",
       "    <tr>\n",
       "      <th>max</th>\n",
       "      <td>365.000000</td>\n",
       "      <td>3.000000</td>\n",
       "      <td>29.000000</td>\n",
       "    </tr>\n",
       "  </tbody>\n",
       "</table>\n",
       "</div>"
      ],
      "text/plain": [
       "            recency  recency_cluster     frequency\n",
       "count  10223.000000     10223.000000  10223.000000\n",
       "mean     173.245818         1.575271      1.126382\n",
       "std      108.380458         1.115771      0.625919\n",
       "min        0.000000         0.000000      1.000000\n",
       "25%       78.000000         1.000000      1.000000\n",
       "50%      175.000000         2.000000      1.000000\n",
       "75%      261.000000         3.000000      1.000000\n",
       "max      365.000000         3.000000     29.000000"
      ]
     },
     "execution_count": 147,
     "metadata": {},
     "output_type": "execute_result"
    }
   ],
   "source": [
    "tx_user.describe()"
   ]
  },
  {
   "cell_type": "code",
   "execution_count": 148,
   "metadata": {},
   "outputs": [
    {
     "data": {
      "image/png": "[encoded data removed]",
      "text/plain": [
       "<Figure size 432x288 with 1 Axes>"
      ]
     },
     "metadata": {},
     "output_type": "display_data"
    },
    {
     "data": {
      "text/plain": [
       "{1: 4004.7148586520593,\n",
       " 2: 2069.2935283264683,\n",
       " 3: 973.018450184502,\n",
       " 4: 505.35468189715726,\n",
       " 5: 259.240194975628,\n",
       " 6: 109.59219269102991,\n",
       " 7: 62.13346253229974,\n",
       " 8: 34.2264239028945,\n",
       " 9: 17.374074074074077}"
      ]
     },
     "execution_count": 148,
     "metadata": {},
     "output_type": "execute_result"
    }
   ],
   "source": [
    "plot_kmeans_inertia('frequency')"
   ]
  },
  {
   "cell_type": "markdown",
   "metadata": {},
   "source": [
    "Our intertia graph above doesn't have a concrete elbow; however, I will select 5 clusters to have more variance in the feature space."
   ]
  },
  {
   "cell_type": "code",
   "execution_count": 149,
   "metadata": {},
   "outputs": [],
   "source": [
    "kmeans = KMeans(n_clusters = 5)\n",
    "kmeans.fit(tx_user[['frequency']])\n",
    "\n",
    "## Save model to use for test as well\n",
    "filename = '../feature_models/kmeans_frequency.sav'\n",
    "pickle.dump(kmeans, open(filename, 'wb'))\n",
    "model_file = filename\n",
    "mod1 = pickle.load(open(model_file, 'rb'))\n",
    "tx_user['frequency_cluster'] = mod1.predict(tx_user[['frequency']])"
   ]
  },
  {
   "cell_type": "code",
   "execution_count": 151,
   "metadata": {},
   "outputs": [
    {
     "data": {
      "text/html": [
       "<div>\n",
       "<style scoped>\n",
       "    .dataframe tbody tr th:only-of-type {\n",
       "        vertical-align: middle;\n",
       "    }\n",
       "\n",
       "    .dataframe tbody tr th {\n",
       "        vertical-align: top;\n",
       "    }\n",
       "\n",
       "    .dataframe thead tr th {\n",
       "        text-align: left;\n",
       "    }\n",
       "\n",
       "    .dataframe thead tr:last-of-type th {\n",
       "        text-align: right;\n",
       "    }\n",
       "</style>\n",
       "<table border=\"1\" class=\"dataframe\">\n",
       "  <thead>\n",
       "    <tr>\n",
       "      <th></th>\n",
       "      <th colspan=\"2\" halign=\"left\">frequency</th>\n",
       "    </tr>\n",
       "    <tr>\n",
       "      <th></th>\n",
       "      <th>min</th>\n",
       "      <th>max</th>\n",
       "    </tr>\n",
       "    <tr>\n",
       "      <th>frequency_cluster</th>\n",
       "      <th></th>\n",
       "      <th></th>\n",
       "    </tr>\n",
       "  </thead>\n",
       "  <tbody>\n",
       "    <tr>\n",
       "      <th>0</th>\n",
       "      <td>1</td>\n",
       "      <td>1</td>\n",
       "    </tr>\n",
       "    <tr>\n",
       "      <th>1</th>\n",
       "      <td>4</td>\n",
       "      <td>8</td>\n",
       "    </tr>\n",
       "    <tr>\n",
       "      <th>2</th>\n",
       "      <td>9</td>\n",
       "      <td>16</td>\n",
       "    </tr>\n",
       "    <tr>\n",
       "      <th>3</th>\n",
       "      <td>2</td>\n",
       "      <td>3</td>\n",
       "    </tr>\n",
       "    <tr>\n",
       "      <th>4</th>\n",
       "      <td>29</td>\n",
       "      <td>29</td>\n",
       "    </tr>\n",
       "  </tbody>\n",
       "</table>\n",
       "</div>"
      ],
      "text/plain": [
       "                  frequency    \n",
       "                        min max\n",
       "frequency_cluster              \n",
       "0                         1   1\n",
       "1                         4   8\n",
       "2                         9  16\n",
       "3                         2   3\n",
       "4                        29  29"
      ]
     },
     "execution_count": 151,
     "metadata": {},
     "output_type": "execute_result"
    }
   ],
   "source": [
    "tx_user.groupby(['frequency_cluster']).agg({'frequency' : ['min', 'max']})"
   ]
  },
  {
   "cell_type": "markdown",
   "metadata": {},
   "source": [
    "#### Page View Cluster"
   ]
  },
  {
   "cell_type": "code",
   "execution_count": 153,
   "metadata": {},
   "outputs": [],
   "source": [
    "tx_pv = non_zero_txn.groupby('fullVisitorId').agg({'totals.pageviews' : 'sum'}).reset_index()\n",
    "tx_pv.columns = ['fullVisitorId','pg_views']\n",
    "tx_user = pd.merge(tx_user, tx_pv, on='fullVisitorId')"
   ]
  },
  {
   "cell_type": "code",
   "execution_count": 154,
   "metadata": {},
   "outputs": [
    {
     "data": {
      "text/html": [
       "<div>\n",
       "<style scoped>\n",
       "    .dataframe tbody tr th:only-of-type {\n",
       "        vertical-align: middle;\n",
       "    }\n",
       "\n",
       "    .dataframe tbody tr th {\n",
       "        vertical-align: top;\n",
       "    }\n",
       "\n",
       "    .dataframe thead th {\n",
       "        text-align: right;\n",
       "    }\n",
       "</style>\n",
       "<table border=\"1\" class=\"dataframe\">\n",
       "  <thead>\n",
       "    <tr style=\"text-align: right;\">\n",
       "      <th></th>\n",
       "      <th>recency</th>\n",
       "      <th>recency_cluster</th>\n",
       "      <th>frequency</th>\n",
       "      <th>frequency_cluster</th>\n",
       "      <th>pg_views</th>\n",
       "    </tr>\n",
       "  </thead>\n",
       "  <tbody>\n",
       "    <tr>\n",
       "      <th>count</th>\n",
       "      <td>10223.000000</td>\n",
       "      <td>10223.000000</td>\n",
       "      <td>10223.000000</td>\n",
       "      <td>10223.000000</td>\n",
       "      <td>10223.000000</td>\n",
       "    </tr>\n",
       "    <tr>\n",
       "      <th>mean</th>\n",
       "      <td>173.245818</td>\n",
       "      <td>1.575271</td>\n",
       "      <td>1.126382</td>\n",
       "      <td>0.232417</td>\n",
       "      <td>31.910887</td>\n",
       "    </tr>\n",
       "    <tr>\n",
       "      <th>std</th>\n",
       "      <td>108.380458</td>\n",
       "      <td>1.115771</td>\n",
       "      <td>0.625919</td>\n",
       "      <td>0.792734</td>\n",
       "      <td>31.939338</td>\n",
       "    </tr>\n",
       "    <tr>\n",
       "      <th>min</th>\n",
       "      <td>0.000000</td>\n",
       "      <td>0.000000</td>\n",
       "      <td>1.000000</td>\n",
       "      <td>0.000000</td>\n",
       "      <td>2.000000</td>\n",
       "    </tr>\n",
       "    <tr>\n",
       "      <th>25%</th>\n",
       "      <td>78.000000</td>\n",
       "      <td>1.000000</td>\n",
       "      <td>1.000000</td>\n",
       "      <td>0.000000</td>\n",
       "      <td>17.000000</td>\n",
       "    </tr>\n",
       "    <tr>\n",
       "      <th>50%</th>\n",
       "      <td>175.000000</td>\n",
       "      <td>2.000000</td>\n",
       "      <td>1.000000</td>\n",
       "      <td>0.000000</td>\n",
       "      <td>24.000000</td>\n",
       "    </tr>\n",
       "    <tr>\n",
       "      <th>75%</th>\n",
       "      <td>261.000000</td>\n",
       "      <td>3.000000</td>\n",
       "      <td>1.000000</td>\n",
       "      <td>0.000000</td>\n",
       "      <td>37.000000</td>\n",
       "    </tr>\n",
       "    <tr>\n",
       "      <th>max</th>\n",
       "      <td>365.000000</td>\n",
       "      <td>3.000000</td>\n",
       "      <td>29.000000</td>\n",
       "      <td>4.000000</td>\n",
       "      <td>671.000000</td>\n",
       "    </tr>\n",
       "  </tbody>\n",
       "</table>\n",
       "</div>"
      ],
      "text/plain": [
       "            recency  recency_cluster     frequency  frequency_cluster  \\\n",
       "count  10223.000000     10223.000000  10223.000000       10223.000000   \n",
       "mean     173.245818         1.575271      1.126382           0.232417   \n",
       "std      108.380458         1.115771      0.625919           0.792734   \n",
       "min        0.000000         0.000000      1.000000           0.000000   \n",
       "25%       78.000000         1.000000      1.000000           0.000000   \n",
       "50%      175.000000         2.000000      1.000000           0.000000   \n",
       "75%      261.000000         3.000000      1.000000           0.000000   \n",
       "max      365.000000         3.000000     29.000000           4.000000   \n",
       "\n",
       "           pg_views  \n",
       "count  10223.000000  \n",
       "mean      31.910887  \n",
       "std       31.939338  \n",
       "min        2.000000  \n",
       "25%       17.000000  \n",
       "50%       24.000000  \n",
       "75%       37.000000  \n",
       "max      671.000000  "
      ]
     },
     "execution_count": 154,
     "metadata": {},
     "output_type": "execute_result"
    }
   ],
   "source": [
    "tx_user.describe()"
   ]
  },
  {
   "cell_type": "code",
   "execution_count": 155,
   "metadata": {},
   "outputs": [
    {
     "data": {
      "image/png": "[encoded data removed]",
      "text/plain": [
       "<Figure size 432x288 with 1 Axes>"
      ]
     },
     "metadata": {},
     "output_type": "display_data"
    },
    {
     "data": {
      "text/plain": [
       "{1: 10427679.818252958,\n",
       " 2: 5282271.50306487,\n",
       " 3: 2415901.6304565934,\n",
       " 4: 1419538.2049963013,\n",
       " 5: 1006245.4196820487,\n",
       " 6: 734201.7605694033,\n",
       " 7: 572506.0052355207,\n",
       " 8: 440536.93001583597,\n",
       " 9: 347406.3919958332}"
      ]
     },
     "execution_count": 155,
     "metadata": {},
     "output_type": "execute_result"
    }
   ],
   "source": [
    "plot_kmeans_inertia('pg_views')"
   ]
  },
  {
   "cell_type": "code",
   "execution_count": 156,
   "metadata": {},
   "outputs": [],
   "source": [
    "kmeans = KMeans(n_clusters = 4)\n",
    "kmeans.fit(tx_user[['pg_views']])\n",
    "\n",
    "## Save model to use for test as well\n",
    "filename = '../feature_models/kmeans_pg_views.sav'\n",
    "pickle.dump(kmeans, open(filename, 'wb'))\n",
    "model_file = filename\n",
    "mod1 = pickle.load(open(model_file, 'rb'))\n",
    "tx_user['pg_views_cluster'] = mod1.predict(tx_user[['pg_views']])"
   ]
  },
  {
   "cell_type": "code",
   "execution_count": 157,
   "metadata": {},
   "outputs": [
    {
     "data": {
      "text/html": [
       "<div>\n",
       "<style scoped>\n",
       "    .dataframe tbody tr th:only-of-type {\n",
       "        vertical-align: middle;\n",
       "    }\n",
       "\n",
       "    .dataframe tbody tr th {\n",
       "        vertical-align: top;\n",
       "    }\n",
       "\n",
       "    .dataframe thead tr th {\n",
       "        text-align: left;\n",
       "    }\n",
       "\n",
       "    .dataframe thead tr:last-of-type th {\n",
       "        text-align: right;\n",
       "    }\n",
       "</style>\n",
       "<table border=\"1\" class=\"dataframe\">\n",
       "  <thead>\n",
       "    <tr>\n",
       "      <th></th>\n",
       "      <th colspan=\"2\" halign=\"left\">pg_views</th>\n",
       "    </tr>\n",
       "    <tr>\n",
       "      <th></th>\n",
       "      <th>min</th>\n",
       "      <th>max</th>\n",
       "    </tr>\n",
       "    <tr>\n",
       "      <th>pg_views_cluster</th>\n",
       "      <th></th>\n",
       "      <th></th>\n",
       "    </tr>\n",
       "  </thead>\n",
       "  <tbody>\n",
       "    <tr>\n",
       "      <th>0</th>\n",
       "      <td>2.0</td>\n",
       "      <td>34.0</td>\n",
       "    </tr>\n",
       "    <tr>\n",
       "      <th>1</th>\n",
       "      <td>79.0</td>\n",
       "      <td>233.0</td>\n",
       "    </tr>\n",
       "    <tr>\n",
       "      <th>2</th>\n",
       "      <td>253.0</td>\n",
       "      <td>671.0</td>\n",
       "    </tr>\n",
       "    <tr>\n",
       "      <th>3</th>\n",
       "      <td>35.0</td>\n",
       "      <td>78.0</td>\n",
       "    </tr>\n",
       "  </tbody>\n",
       "</table>\n",
       "</div>"
      ],
      "text/plain": [
       "                 pg_views       \n",
       "                      min    max\n",
       "pg_views_cluster                \n",
       "0                     2.0   34.0\n",
       "1                    79.0  233.0\n",
       "2                   253.0  671.0\n",
       "3                    35.0   78.0"
      ]
     },
     "execution_count": 157,
     "metadata": {},
     "output_type": "execute_result"
    }
   ],
   "source": [
    "tx_user.groupby(['pg_views_cluster']).agg({'pg_views' : ['min', 'max']})"
   ]
  },
  {
   "cell_type": "code",
   "execution_count": null,
   "metadata": {},
   "outputs": [],
   "source": []
  }
 ],
 "metadata": {
  "kernelspec": {
   "display_name": "conda_mxnet_p36",
   "language": "python",
   "name": "conda_mxnet_p36"
  },
  "language_info": {
   "codemirror_mode": {
    "name": "ipython",
    "version": 3
   },
   "file_extension": ".py",
   "mimetype": "text/x-python",
   "name": "python",
   "nbconvert_exporter": "python",
   "pygments_lexer": "ipython3",
   "version": "3.6.5"
  }
 },
 "nbformat": 4,
 "nbformat_minor": 4
}
