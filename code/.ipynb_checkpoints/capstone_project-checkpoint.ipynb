{
 "cells": [
  {
   "cell_type": "markdown",
   "metadata": {},
   "source": [
    "# Google Analytics Customer Lifetime Value Capstone\n",
    "\n",
    "This project’s aim is to analyze Google Merchandise Store data, specifically the customer dataset, in order to run predictions for revenue per customer. This is a form of a customer lifetime value model. Essentially, this project’s aim is to use machine learning, specifically regression, in order to predict how much a customer may spend in the store given customer attributes and segments.\n",
    "\n",
    "**Question**\n",
    "\n",
    "We will use customer transaction data as an input to predict total customer spend within a certain window via clustering and regression techniques. This helps answer the question: _Can we accurately predict how much a customer will spend, thus allowing marketers to target high spending customers with more advertisements?_"
   ]
  },
  {
   "cell_type": "markdown",
   "metadata": {},
   "source": [
    "## Exploratory Data Analysis"
   ]
  },
  {
   "cell_type": "code",
   "execution_count": 182,
   "metadata": {},
   "outputs": [],
   "source": [
    "import pandas as pd\n",
    "import matplotlib.pyplot as plt\n",
    "import numpy as np\n",
    "plt.style.use('ggplot')\n",
    "import seaborn as sns\n",
    "from datetime import datetime\n",
    "from datetime import timedelta\n",
    "import pickle\n",
    "from sklearn.model_selection import train_test_split\n",
    "from sklearn.cluster import KMeans\n",
    "import os\n",
    "from sklearn.preprocessing import LabelEncoder, MinMaxScaler\n",
    "from sklearn.metrics import mean_squared_error"
   ]
  },
  {
   "cell_type": "code",
   "execution_count": 2,
   "metadata": {},
   "outputs": [],
   "source": [
    "# sagemaker\n",
    "import boto3\n",
    "import sagemaker\n",
    "from sagemaker import get_execution_role"
   ]
  },
  {
   "cell_type": "code",
   "execution_count": 3,
   "metadata": {},
   "outputs": [],
   "source": [
    "# SageMaker session and role\n",
    "sagemaker_session = sagemaker.Session()\n",
    "role = sagemaker.get_execution_role()\n",
    "\n",
    "# default S3 bucket\n",
    "bucket = sagemaker_session.default_bucket()"
   ]
  },
  {
   "cell_type": "code",
   "execution_count": 52,
   "metadata": {},
   "outputs": [
    {
     "name": "stderr",
     "output_type": "stream",
     "text": [
      "/home/ec2-user/anaconda3/envs/mxnet_p36/lib/python3.6/site-packages/IPython/core/interactiveshell.py:2785: DtypeWarning: Columns (2) have mixed types. Specify dtype option on import or set low_memory=False.\n",
      "  interactivity=interactivity, compiler=compiler, result=result)\n"
     ]
    }
   ],
   "source": [
    "train = pd.read_csv('../data/train_clean.csv')\n",
    "test = pd.read_csv('../data/test_clean.csv')"
   ]
  },
  {
   "cell_type": "code",
   "execution_count": 5,
   "metadata": {},
   "outputs": [
    {
     "data": {
      "text/plain": [
       "channelGrouping                object\n",
       "date                            int64\n",
       "fullVisitorId                  object\n",
       "visitId                         int64\n",
       "visitNumber                     int64\n",
       "visitStartTime                  int64\n",
       "device.browser                 object\n",
       "device.deviceCategory          object\n",
       "device.isMobile                  bool\n",
       "device.operatingSystem         object\n",
       "geoNetwork.city                object\n",
       "geoNetwork.continent           object\n",
       "geoNetwork.country             object\n",
       "geoNetwork.metro               object\n",
       "geoNetwork.networkDomain       object\n",
       "geoNetwork.region              object\n",
       "geoNetwork.subContinent        object\n",
       "totals.bounces                float64\n",
       "totals.hits                     int64\n",
       "totals.newVisits              float64\n",
       "totals.pageviews              float64\n",
       "totals.transactionRevenue     float64\n",
       "trafficSource.adContent        object\n",
       "trafficSource.campaign         object\n",
       "trafficSource.isTrueDirect     object\n",
       "trafficSource.keyword          object\n",
       "trafficSource.medium           object\n",
       "trafficSource.referralPath     object\n",
       "trafficSource.source           object\n",
       "dtype: object"
      ]
     },
     "execution_count": 5,
     "metadata": {},
     "output_type": "execute_result"
    }
   ],
   "source": [
    "train.dtypes"
   ]
  },
  {
   "cell_type": "code",
   "execution_count": 6,
   "metadata": {},
   "outputs": [
    {
     "data": {
      "text/html": [
       "<div>\n",
       "<style scoped>\n",
       "    .dataframe tbody tr th:only-of-type {\n",
       "        vertical-align: middle;\n",
       "    }\n",
       "\n",
       "    .dataframe tbody tr th {\n",
       "        vertical-align: top;\n",
       "    }\n",
       "\n",
       "    .dataframe thead th {\n",
       "        text-align: right;\n",
       "    }\n",
       "</style>\n",
       "<table border=\"1\" class=\"dataframe\">\n",
       "  <thead>\n",
       "    <tr style=\"text-align: right;\">\n",
       "      <th></th>\n",
       "      <th>channelGrouping</th>\n",
       "      <th>date</th>\n",
       "      <th>fullVisitorId</th>\n",
       "      <th>visitId</th>\n",
       "      <th>visitNumber</th>\n",
       "      <th>visitStartTime</th>\n",
       "      <th>device.browser</th>\n",
       "      <th>device.deviceCategory</th>\n",
       "      <th>device.isMobile</th>\n",
       "      <th>device.operatingSystem</th>\n",
       "      <th>...</th>\n",
       "      <th>totals.newVisits</th>\n",
       "      <th>totals.pageviews</th>\n",
       "      <th>totals.transactionRevenue</th>\n",
       "      <th>trafficSource.adContent</th>\n",
       "      <th>trafficSource.campaign</th>\n",
       "      <th>trafficSource.isTrueDirect</th>\n",
       "      <th>trafficSource.keyword</th>\n",
       "      <th>trafficSource.medium</th>\n",
       "      <th>trafficSource.referralPath</th>\n",
       "      <th>trafficSource.source</th>\n",
       "    </tr>\n",
       "  </thead>\n",
       "  <tbody>\n",
       "    <tr>\n",
       "      <th>190321</th>\n",
       "      <td>Social</td>\n",
       "      <td>20160901</td>\n",
       "      <td>5598915828525099033</td>\n",
       "      <td>1472722051</td>\n",
       "      <td>1</td>\n",
       "      <td>1472722051</td>\n",
       "      <td>Chrome</td>\n",
       "      <td>desktop</td>\n",
       "      <td>False</td>\n",
       "      <td>Windows</td>\n",
       "      <td>...</td>\n",
       "      <td>1.0</td>\n",
       "      <td>1.0</td>\n",
       "      <td>NaN</td>\n",
       "      <td>NaN</td>\n",
       "      <td>(not set)</td>\n",
       "      <td>NaN</td>\n",
       "      <td>NaN</td>\n",
       "      <td>referral</td>\n",
       "      <td>/yt/about/tr/</td>\n",
       "      <td>youtube.com</td>\n",
       "    </tr>\n",
       "    <tr>\n",
       "      <th>255822</th>\n",
       "      <td>Organic Search</td>\n",
       "      <td>20160813</td>\n",
       "      <td>2254679158116429824</td>\n",
       "      <td>1471108773</td>\n",
       "      <td>1</td>\n",
       "      <td>1471108773</td>\n",
       "      <td>Safari</td>\n",
       "      <td>mobile</td>\n",
       "      <td>True</td>\n",
       "      <td>iOS</td>\n",
       "      <td>...</td>\n",
       "      <td>1.0</td>\n",
       "      <td>1.0</td>\n",
       "      <td>NaN</td>\n",
       "      <td>NaN</td>\n",
       "      <td>(not set)</td>\n",
       "      <td>NaN</td>\n",
       "      <td>(not provided)</td>\n",
       "      <td>organic</td>\n",
       "      <td>NaN</td>\n",
       "      <td>google</td>\n",
       "    </tr>\n",
       "    <tr>\n",
       "      <th>324159</th>\n",
       "      <td>Organic Search</td>\n",
       "      <td>20161009</td>\n",
       "      <td>5784541772477326661</td>\n",
       "      <td>1476032054</td>\n",
       "      <td>8</td>\n",
       "      <td>1476032054</td>\n",
       "      <td>Chrome</td>\n",
       "      <td>desktop</td>\n",
       "      <td>False</td>\n",
       "      <td>Windows</td>\n",
       "      <td>...</td>\n",
       "      <td>NaN</td>\n",
       "      <td>1.0</td>\n",
       "      <td>NaN</td>\n",
       "      <td>NaN</td>\n",
       "      <td>(not set)</td>\n",
       "      <td>True</td>\n",
       "      <td>(not provided)</td>\n",
       "      <td>organic</td>\n",
       "      <td>NaN</td>\n",
       "      <td>google</td>\n",
       "    </tr>\n",
       "    <tr>\n",
       "      <th>153446</th>\n",
       "      <td>Social</td>\n",
       "      <td>20161026</td>\n",
       "      <td>315634001685820280</td>\n",
       "      <td>1477546256</td>\n",
       "      <td>1</td>\n",
       "      <td>1477546256</td>\n",
       "      <td>Chrome</td>\n",
       "      <td>desktop</td>\n",
       "      <td>False</td>\n",
       "      <td>Windows</td>\n",
       "      <td>...</td>\n",
       "      <td>1.0</td>\n",
       "      <td>1.0</td>\n",
       "      <td>NaN</td>\n",
       "      <td>NaN</td>\n",
       "      <td>(not set)</td>\n",
       "      <td>NaN</td>\n",
       "      <td>NaN</td>\n",
       "      <td>referral</td>\n",
       "      <td>/yt/about/vi/</td>\n",
       "      <td>youtube.com</td>\n",
       "    </tr>\n",
       "    <tr>\n",
       "      <th>252260</th>\n",
       "      <td>Direct</td>\n",
       "      <td>20170426</td>\n",
       "      <td>826122121462058835</td>\n",
       "      <td>1493214467</td>\n",
       "      <td>2</td>\n",
       "      <td>1493214467</td>\n",
       "      <td>Chrome</td>\n",
       "      <td>mobile</td>\n",
       "      <td>True</td>\n",
       "      <td>Android</td>\n",
       "      <td>...</td>\n",
       "      <td>NaN</td>\n",
       "      <td>1.0</td>\n",
       "      <td>NaN</td>\n",
       "      <td>NaN</td>\n",
       "      <td>(not set)</td>\n",
       "      <td>True</td>\n",
       "      <td>NaN</td>\n",
       "      <td>(none)</td>\n",
       "      <td>NaN</td>\n",
       "      <td>(direct)</td>\n",
       "    </tr>\n",
       "  </tbody>\n",
       "</table>\n",
       "<p>5 rows × 29 columns</p>\n",
       "</div>"
      ],
      "text/plain": [
       "       channelGrouping      date        fullVisitorId     visitId  \\\n",
       "190321          Social  20160901  5598915828525099033  1472722051   \n",
       "255822  Organic Search  20160813  2254679158116429824  1471108773   \n",
       "324159  Organic Search  20161009  5784541772477326661  1476032054   \n",
       "153446          Social  20161026   315634001685820280  1477546256   \n",
       "252260          Direct  20170426   826122121462058835  1493214467   \n",
       "\n",
       "        visitNumber  visitStartTime device.browser device.deviceCategory  \\\n",
       "190321            1      1472722051         Chrome               desktop   \n",
       "255822            1      1471108773         Safari                mobile   \n",
       "324159            8      1476032054         Chrome               desktop   \n",
       "153446            1      1477546256         Chrome               desktop   \n",
       "252260            2      1493214467         Chrome                mobile   \n",
       "\n",
       "        device.isMobile device.operatingSystem  ... totals.newVisits  \\\n",
       "190321            False                Windows  ...              1.0   \n",
       "255822             True                    iOS  ...              1.0   \n",
       "324159            False                Windows  ...              NaN   \n",
       "153446            False                Windows  ...              1.0   \n",
       "252260             True                Android  ...              NaN   \n",
       "\n",
       "       totals.pageviews totals.transactionRevenue trafficSource.adContent  \\\n",
       "190321              1.0                       NaN                     NaN   \n",
       "255822              1.0                       NaN                     NaN   \n",
       "324159              1.0                       NaN                     NaN   \n",
       "153446              1.0                       NaN                     NaN   \n",
       "252260              1.0                       NaN                     NaN   \n",
       "\n",
       "       trafficSource.campaign trafficSource.isTrueDirect  \\\n",
       "190321              (not set)                        NaN   \n",
       "255822              (not set)                        NaN   \n",
       "324159              (not set)                       True   \n",
       "153446              (not set)                        NaN   \n",
       "252260              (not set)                       True   \n",
       "\n",
       "       trafficSource.keyword  trafficSource.medium  \\\n",
       "190321                   NaN              referral   \n",
       "255822        (not provided)               organic   \n",
       "324159        (not provided)               organic   \n",
       "153446                   NaN              referral   \n",
       "252260                   NaN                (none)   \n",
       "\n",
       "        trafficSource.referralPath  trafficSource.source  \n",
       "190321               /yt/about/tr/           youtube.com  \n",
       "255822                         NaN                google  \n",
       "324159                         NaN                google  \n",
       "153446               /yt/about/vi/           youtube.com  \n",
       "252260                         NaN              (direct)  \n",
       "\n",
       "[5 rows x 29 columns]"
      ]
     },
     "execution_count": 6,
     "metadata": {},
     "output_type": "execute_result"
    }
   ],
   "source": [
    "train.sample(5)"
   ]
  },
  {
   "cell_type": "code",
   "execution_count": 7,
   "metadata": {},
   "outputs": [
    {
     "data": {
      "text/plain": [
       "(903653, 29)"
      ]
     },
     "execution_count": 7,
     "metadata": {},
     "output_type": "execute_result"
    }
   ],
   "source": [
    "train.shape"
   ]
  },
  {
   "cell_type": "code",
   "execution_count": 8,
   "metadata": {},
   "outputs": [
    {
     "data": {
      "text/html": [
       "<div>\n",
       "<style scoped>\n",
       "    .dataframe tbody tr th:only-of-type {\n",
       "        vertical-align: middle;\n",
       "    }\n",
       "\n",
       "    .dataframe tbody tr th {\n",
       "        vertical-align: top;\n",
       "    }\n",
       "\n",
       "    .dataframe thead th {\n",
       "        text-align: right;\n",
       "    }\n",
       "</style>\n",
       "<table border=\"1\" class=\"dataframe\">\n",
       "  <thead>\n",
       "    <tr style=\"text-align: right;\">\n",
       "      <th></th>\n",
       "      <th>date</th>\n",
       "      <th>visitId</th>\n",
       "      <th>visitNumber</th>\n",
       "      <th>visitStartTime</th>\n",
       "      <th>totals.bounces</th>\n",
       "      <th>totals.hits</th>\n",
       "      <th>totals.newVisits</th>\n",
       "      <th>totals.pageviews</th>\n",
       "      <th>totals.transactionRevenue</th>\n",
       "    </tr>\n",
       "  </thead>\n",
       "  <tbody>\n",
       "    <tr>\n",
       "      <th>count</th>\n",
       "      <td>9.036530e+05</td>\n",
       "      <td>9.036530e+05</td>\n",
       "      <td>903653.000000</td>\n",
       "      <td>9.036530e+05</td>\n",
       "      <td>450630.0</td>\n",
       "      <td>903653.000000</td>\n",
       "      <td>703060.0</td>\n",
       "      <td>903553.000000</td>\n",
       "      <td>1.151500e+04</td>\n",
       "    </tr>\n",
       "    <tr>\n",
       "      <th>mean</th>\n",
       "      <td>2.016589e+07</td>\n",
       "      <td>1.485007e+09</td>\n",
       "      <td>2.264897</td>\n",
       "      <td>1.485007e+09</td>\n",
       "      <td>1.0</td>\n",
       "      <td>4.596538</td>\n",
       "      <td>1.0</td>\n",
       "      <td>3.849764</td>\n",
       "      <td>1.337448e+08</td>\n",
       "    </tr>\n",
       "    <tr>\n",
       "      <th>std</th>\n",
       "      <td>4.697698e+03</td>\n",
       "      <td>9.022124e+06</td>\n",
       "      <td>9.283735</td>\n",
       "      <td>9.022124e+06</td>\n",
       "      <td>0.0</td>\n",
       "      <td>9.641437</td>\n",
       "      <td>0.0</td>\n",
       "      <td>7.025274</td>\n",
       "      <td>4.482852e+08</td>\n",
       "    </tr>\n",
       "    <tr>\n",
       "      <th>min</th>\n",
       "      <td>2.016080e+07</td>\n",
       "      <td>1.470035e+09</td>\n",
       "      <td>1.000000</td>\n",
       "      <td>1.470035e+09</td>\n",
       "      <td>1.0</td>\n",
       "      <td>1.000000</td>\n",
       "      <td>1.0</td>\n",
       "      <td>1.000000</td>\n",
       "      <td>1.000000e+04</td>\n",
       "    </tr>\n",
       "    <tr>\n",
       "      <th>25%</th>\n",
       "      <td>2.016103e+07</td>\n",
       "      <td>1.477561e+09</td>\n",
       "      <td>1.000000</td>\n",
       "      <td>1.477561e+09</td>\n",
       "      <td>1.0</td>\n",
       "      <td>1.000000</td>\n",
       "      <td>1.0</td>\n",
       "      <td>1.000000</td>\n",
       "      <td>2.493000e+07</td>\n",
       "    </tr>\n",
       "    <tr>\n",
       "      <th>50%</th>\n",
       "      <td>2.017011e+07</td>\n",
       "      <td>1.483949e+09</td>\n",
       "      <td>1.000000</td>\n",
       "      <td>1.483949e+09</td>\n",
       "      <td>1.0</td>\n",
       "      <td>2.000000</td>\n",
       "      <td>1.0</td>\n",
       "      <td>1.000000</td>\n",
       "      <td>4.945000e+07</td>\n",
       "    </tr>\n",
       "    <tr>\n",
       "      <th>75%</th>\n",
       "      <td>2.017042e+07</td>\n",
       "      <td>1.492759e+09</td>\n",
       "      <td>1.000000</td>\n",
       "      <td>1.492759e+09</td>\n",
       "      <td>1.0</td>\n",
       "      <td>4.000000</td>\n",
       "      <td>1.0</td>\n",
       "      <td>4.000000</td>\n",
       "      <td>1.076550e+08</td>\n",
       "    </tr>\n",
       "    <tr>\n",
       "      <th>max</th>\n",
       "      <td>2.017080e+07</td>\n",
       "      <td>1.501657e+09</td>\n",
       "      <td>395.000000</td>\n",
       "      <td>1.501657e+09</td>\n",
       "      <td>1.0</td>\n",
       "      <td>500.000000</td>\n",
       "      <td>1.0</td>\n",
       "      <td>469.000000</td>\n",
       "      <td>2.312950e+10</td>\n",
       "    </tr>\n",
       "  </tbody>\n",
       "</table>\n",
       "</div>"
      ],
      "text/plain": [
       "               date       visitId    visitNumber  visitStartTime  \\\n",
       "count  9.036530e+05  9.036530e+05  903653.000000    9.036530e+05   \n",
       "mean   2.016589e+07  1.485007e+09       2.264897    1.485007e+09   \n",
       "std    4.697698e+03  9.022124e+06       9.283735    9.022124e+06   \n",
       "min    2.016080e+07  1.470035e+09       1.000000    1.470035e+09   \n",
       "25%    2.016103e+07  1.477561e+09       1.000000    1.477561e+09   \n",
       "50%    2.017011e+07  1.483949e+09       1.000000    1.483949e+09   \n",
       "75%    2.017042e+07  1.492759e+09       1.000000    1.492759e+09   \n",
       "max    2.017080e+07  1.501657e+09     395.000000    1.501657e+09   \n",
       "\n",
       "       totals.bounces    totals.hits  totals.newVisits  totals.pageviews  \\\n",
       "count        450630.0  903653.000000          703060.0     903553.000000   \n",
       "mean              1.0       4.596538               1.0          3.849764   \n",
       "std               0.0       9.641437               0.0          7.025274   \n",
       "min               1.0       1.000000               1.0          1.000000   \n",
       "25%               1.0       1.000000               1.0          1.000000   \n",
       "50%               1.0       2.000000               1.0          1.000000   \n",
       "75%               1.0       4.000000               1.0          4.000000   \n",
       "max               1.0     500.000000               1.0        469.000000   \n",
       "\n",
       "       totals.transactionRevenue  \n",
       "count               1.151500e+04  \n",
       "mean                1.337448e+08  \n",
       "std                 4.482852e+08  \n",
       "min                 1.000000e+04  \n",
       "25%                 2.493000e+07  \n",
       "50%                 4.945000e+07  \n",
       "75%                 1.076550e+08  \n",
       "max                 2.312950e+10  "
      ]
     },
     "execution_count": 8,
     "metadata": {},
     "output_type": "execute_result"
    }
   ],
   "source": [
    "train.describe()"
   ]
  },
  {
   "cell_type": "code",
   "execution_count": 9,
   "metadata": {},
   "outputs": [
    {
     "data": {
      "text/plain": [
       "array(['organic', 'referral', 'cpc', 'affiliate', '(none)', 'cpm',\n",
       "       '(not set)'], dtype=object)"
      ]
     },
     "execution_count": 9,
     "metadata": {},
     "output_type": "execute_result"
    }
   ],
   "source": [
    "train['trafficSource.medium'].unique()"
   ]
  },
  {
   "cell_type": "markdown",
   "metadata": {},
   "source": [
    "#### Outcome: `totals.transactionRevenue`"
   ]
  },
  {
   "cell_type": "markdown",
   "metadata": {},
   "source": [
    "We are trying to predict the natural log of transaction revenue by users, so we first apply the natural log and then sort the values from smallest to largest."
   ]
  },
  {
   "cell_type": "code",
   "execution_count": 10,
   "metadata": {},
   "outputs": [
    {
     "data": {
      "image/png": "[encoded data removed]",
      "text/plain": [
       "<Figure size 576x432 with 1 Axes>"
      ]
     },
     "metadata": {},
     "output_type": "display_data"
    }
   ],
   "source": [
    "train['totals.transactionRevenue'] = train['totals.transactionRevenue'].astype('float')\n",
    "txns_by_users = train.groupby(\"fullVisitorId\")[\"totals.transactionRevenue\"].sum().reset_index()\n",
    "\n",
    "plt.figure(figsize=(8,6))\n",
    "plt.scatter(range(txns_by_users.shape[0]), np.sort(np.log1p(txns_by_users[\"totals.transactionRevenue\"].values)))\n",
    "plt.xlabel('index', fontsize=12)\n",
    "plt.ylabel('Logged Transaction Revenue', fontsize=12)\n",
    "plt.title('Total Transactions')\n",
    "plt.show()"
   ]
  },
  {
   "cell_type": "markdown",
   "metadata": {},
   "source": [
    "The Kaggle competition that I am using started off with saying that 80% of the transactions come from 20% of the users, and this visualization seems to be in line with that logic. Let's take a look at the top users who spend the most."
   ]
  },
  {
   "cell_type": "code",
   "execution_count": 11,
   "metadata": {},
   "outputs": [
    {
     "data": {
      "text/html": [
       "<div>\n",
       "<style scoped>\n",
       "    .dataframe tbody tr th:only-of-type {\n",
       "        vertical-align: middle;\n",
       "    }\n",
       "\n",
       "    .dataframe tbody tr th {\n",
       "        vertical-align: top;\n",
       "    }\n",
       "\n",
       "    .dataframe thead th {\n",
       "        text-align: right;\n",
       "    }\n",
       "</style>\n",
       "<table border=\"1\" class=\"dataframe\">\n",
       "  <thead>\n",
       "    <tr style=\"text-align: right;\">\n",
       "      <th></th>\n",
       "      <th>fullVisitorId</th>\n",
       "      <th>totals.transactionRevenue</th>\n",
       "    </tr>\n",
       "  </thead>\n",
       "  <tbody>\n",
       "    <tr>\n",
       "      <th>182593</th>\n",
       "      <td>1957458976293878100</td>\n",
       "      <td>7.591669e+10</td>\n",
       "    </tr>\n",
       "    <tr>\n",
       "      <th>392626</th>\n",
       "      <td>5632276788326171571</td>\n",
       "      <td>1.602375e+10</td>\n",
       "    </tr>\n",
       "    <tr>\n",
       "      <th>610261</th>\n",
       "      <td>9417857471295131045</td>\n",
       "      <td>1.517012e+10</td>\n",
       "    </tr>\n",
       "    <tr>\n",
       "      <th>326192</th>\n",
       "      <td>4471415710206918415</td>\n",
       "      <td>1.121110e+10</td>\n",
       "    </tr>\n",
       "    <tr>\n",
       "      <th>355498</th>\n",
       "      <td>4984366501121503466</td>\n",
       "      <td>9.513900e+09</td>\n",
       "    </tr>\n",
       "  </tbody>\n",
       "</table>\n",
       "</div>"
      ],
      "text/plain": [
       "              fullVisitorId  totals.transactionRevenue\n",
       "182593  1957458976293878100               7.591669e+10\n",
       "392626  5632276788326171571               1.602375e+10\n",
       "610261  9417857471295131045               1.517012e+10\n",
       "326192  4471415710206918415               1.121110e+10\n",
       "355498  4984366501121503466               9.513900e+09"
      ]
     },
     "execution_count": 11,
     "metadata": {},
     "output_type": "execute_result"
    }
   ],
   "source": [
    "txns_by_users.sort_values('totals.transactionRevenue', ascending = False).head(5)"
   ]
  },
  {
   "cell_type": "code",
   "execution_count": 12,
   "metadata": {},
   "outputs": [
    {
     "data": {
      "text/html": [
       "<div>\n",
       "<style scoped>\n",
       "    .dataframe tbody tr th:only-of-type {\n",
       "        vertical-align: middle;\n",
       "    }\n",
       "\n",
       "    .dataframe tbody tr th {\n",
       "        vertical-align: top;\n",
       "    }\n",
       "\n",
       "    .dataframe thead th {\n",
       "        text-align: right;\n",
       "    }\n",
       "</style>\n",
       "<table border=\"1\" class=\"dataframe\">\n",
       "  <thead>\n",
       "    <tr style=\"text-align: right;\">\n",
       "      <th></th>\n",
       "      <th>channelGrouping</th>\n",
       "      <th>date</th>\n",
       "      <th>fullVisitorId</th>\n",
       "      <th>visitId</th>\n",
       "      <th>visitNumber</th>\n",
       "      <th>visitStartTime</th>\n",
       "      <th>device.browser</th>\n",
       "      <th>device.deviceCategory</th>\n",
       "      <th>device.isMobile</th>\n",
       "      <th>device.operatingSystem</th>\n",
       "      <th>...</th>\n",
       "      <th>totals.newVisits</th>\n",
       "      <th>totals.pageviews</th>\n",
       "      <th>totals.transactionRevenue</th>\n",
       "      <th>trafficSource.adContent</th>\n",
       "      <th>trafficSource.campaign</th>\n",
       "      <th>trafficSource.isTrueDirect</th>\n",
       "      <th>trafficSource.keyword</th>\n",
       "      <th>trafficSource.medium</th>\n",
       "      <th>trafficSource.referralPath</th>\n",
       "      <th>trafficSource.source</th>\n",
       "    </tr>\n",
       "  </thead>\n",
       "  <tbody>\n",
       "    <tr>\n",
       "      <th>22500</th>\n",
       "      <td>Direct</td>\n",
       "      <td>20161110</td>\n",
       "      <td>4984366501121503466</td>\n",
       "      <td>1478792651</td>\n",
       "      <td>6</td>\n",
       "      <td>1478792651</td>\n",
       "      <td>Chrome</td>\n",
       "      <td>desktop</td>\n",
       "      <td>False</td>\n",
       "      <td>Chrome OS</td>\n",
       "      <td>...</td>\n",
       "      <td>NaN</td>\n",
       "      <td>32.0</td>\n",
       "      <td>5.382000e+08</td>\n",
       "      <td>NaN</td>\n",
       "      <td>(not set)</td>\n",
       "      <td>True</td>\n",
       "      <td>NaN</td>\n",
       "      <td>(none)</td>\n",
       "      <td>NaN</td>\n",
       "      <td>(direct)</td>\n",
       "    </tr>\n",
       "    <tr>\n",
       "      <th>89918</th>\n",
       "      <td>Direct</td>\n",
       "      <td>20161130</td>\n",
       "      <td>4984366501121503466</td>\n",
       "      <td>1480527609</td>\n",
       "      <td>8</td>\n",
       "      <td>1480527609</td>\n",
       "      <td>Chrome</td>\n",
       "      <td>desktop</td>\n",
       "      <td>False</td>\n",
       "      <td>Chrome OS</td>\n",
       "      <td>...</td>\n",
       "      <td>NaN</td>\n",
       "      <td>30.0</td>\n",
       "      <td>6.970000e+08</td>\n",
       "      <td>NaN</td>\n",
       "      <td>(not set)</td>\n",
       "      <td>True</td>\n",
       "      <td>NaN</td>\n",
       "      <td>(none)</td>\n",
       "      <td>NaN</td>\n",
       "      <td>(direct)</td>\n",
       "    </tr>\n",
       "    <tr>\n",
       "      <th>126655</th>\n",
       "      <td>Direct</td>\n",
       "      <td>20161018</td>\n",
       "      <td>4984366501121503466</td>\n",
       "      <td>1476808875</td>\n",
       "      <td>2</td>\n",
       "      <td>1476808875</td>\n",
       "      <td>Chrome</td>\n",
       "      <td>desktop</td>\n",
       "      <td>False</td>\n",
       "      <td>Chrome OS</td>\n",
       "      <td>...</td>\n",
       "      <td>NaN</td>\n",
       "      <td>22.0</td>\n",
       "      <td>2.740000e+08</td>\n",
       "      <td>NaN</td>\n",
       "      <td>(not set)</td>\n",
       "      <td>True</td>\n",
       "      <td>NaN</td>\n",
       "      <td>(none)</td>\n",
       "      <td>NaN</td>\n",
       "      <td>(direct)</td>\n",
       "    </tr>\n",
       "    <tr>\n",
       "      <th>142416</th>\n",
       "      <td>Direct</td>\n",
       "      <td>20170410</td>\n",
       "      <td>4984366501121503466</td>\n",
       "      <td>1491864249</td>\n",
       "      <td>22</td>\n",
       "      <td>1491864249</td>\n",
       "      <td>Chrome</td>\n",
       "      <td>desktop</td>\n",
       "      <td>False</td>\n",
       "      <td>Chrome OS</td>\n",
       "      <td>...</td>\n",
       "      <td>NaN</td>\n",
       "      <td>43.0</td>\n",
       "      <td>4.597000e+07</td>\n",
       "      <td>NaN</td>\n",
       "      <td>(not set)</td>\n",
       "      <td>True</td>\n",
       "      <td>NaN</td>\n",
       "      <td>(none)</td>\n",
       "      <td>NaN</td>\n",
       "      <td>(direct)</td>\n",
       "    </tr>\n",
       "    <tr>\n",
       "      <th>249668</th>\n",
       "      <td>Direct</td>\n",
       "      <td>20170105</td>\n",
       "      <td>4984366501121503466</td>\n",
       "      <td>1483653271</td>\n",
       "      <td>14</td>\n",
       "      <td>1483653271</td>\n",
       "      <td>Chrome</td>\n",
       "      <td>desktop</td>\n",
       "      <td>False</td>\n",
       "      <td>Chrome OS</td>\n",
       "      <td>...</td>\n",
       "      <td>NaN</td>\n",
       "      <td>39.0</td>\n",
       "      <td>1.633420e+09</td>\n",
       "      <td>NaN</td>\n",
       "      <td>(not set)</td>\n",
       "      <td>True</td>\n",
       "      <td>NaN</td>\n",
       "      <td>(none)</td>\n",
       "      <td>NaN</td>\n",
       "      <td>(direct)</td>\n",
       "    </tr>\n",
       "    <tr>\n",
       "      <th>275470</th>\n",
       "      <td>Direct</td>\n",
       "      <td>20170620</td>\n",
       "      <td>4984366501121503466</td>\n",
       "      <td>1497998174</td>\n",
       "      <td>24</td>\n",
       "      <td>1497998174</td>\n",
       "      <td>Chrome</td>\n",
       "      <td>desktop</td>\n",
       "      <td>False</td>\n",
       "      <td>Chrome OS</td>\n",
       "      <td>...</td>\n",
       "      <td>NaN</td>\n",
       "      <td>26.0</td>\n",
       "      <td>7.310800e+08</td>\n",
       "      <td>NaN</td>\n",
       "      <td>(not set)</td>\n",
       "      <td>True</td>\n",
       "      <td>NaN</td>\n",
       "      <td>(none)</td>\n",
       "      <td>NaN</td>\n",
       "      <td>(direct)</td>\n",
       "    </tr>\n",
       "    <tr>\n",
       "      <th>287213</th>\n",
       "      <td>Direct</td>\n",
       "      <td>20170728</td>\n",
       "      <td>9417857471295131045</td>\n",
       "      <td>1501255344</td>\n",
       "      <td>19</td>\n",
       "      <td>1501255344</td>\n",
       "      <td>Chrome</td>\n",
       "      <td>desktop</td>\n",
       "      <td>False</td>\n",
       "      <td>Windows</td>\n",
       "      <td>...</td>\n",
       "      <td>NaN</td>\n",
       "      <td>51.0</td>\n",
       "      <td>6.855200e+08</td>\n",
       "      <td>NaN</td>\n",
       "      <td>(not set)</td>\n",
       "      <td>True</td>\n",
       "      <td>NaN</td>\n",
       "      <td>(none)</td>\n",
       "      <td>NaN</td>\n",
       "      <td>(direct)</td>\n",
       "    </tr>\n",
       "    <tr>\n",
       "      <th>339913</th>\n",
       "      <td>Direct</td>\n",
       "      <td>20170721</td>\n",
       "      <td>9417857471295131045</td>\n",
       "      <td>1500657634</td>\n",
       "      <td>10</td>\n",
       "      <td>1500657634</td>\n",
       "      <td>Chrome</td>\n",
       "      <td>desktop</td>\n",
       "      <td>False</td>\n",
       "      <td>Windows</td>\n",
       "      <td>...</td>\n",
       "      <td>NaN</td>\n",
       "      <td>76.0</td>\n",
       "      <td>1.064080e+09</td>\n",
       "      <td>NaN</td>\n",
       "      <td>(not set)</td>\n",
       "      <td>True</td>\n",
       "      <td>NaN</td>\n",
       "      <td>(none)</td>\n",
       "      <td>NaN</td>\n",
       "      <td>(direct)</td>\n",
       "    </tr>\n",
       "    <tr>\n",
       "      <th>348275</th>\n",
       "      <td>Display</td>\n",
       "      <td>20170601</td>\n",
       "      <td>1957458976293878100</td>\n",
       "      <td>1496342143</td>\n",
       "      <td>295</td>\n",
       "      <td>1496342143</td>\n",
       "      <td>Firefox</td>\n",
       "      <td>desktop</td>\n",
       "      <td>False</td>\n",
       "      <td>Windows</td>\n",
       "      <td>...</td>\n",
       "      <td>NaN</td>\n",
       "      <td>24.0</td>\n",
       "      <td>2.344000e+08</td>\n",
       "      <td>NaN</td>\n",
       "      <td>(not set)</td>\n",
       "      <td>True</td>\n",
       "      <td>NaN</td>\n",
       "      <td>cpm</td>\n",
       "      <td>NaN</td>\n",
       "      <td>dfa</td>\n",
       "    </tr>\n",
       "    <tr>\n",
       "      <th>354592</th>\n",
       "      <td>Direct</td>\n",
       "      <td>20161027</td>\n",
       "      <td>4984366501121503466</td>\n",
       "      <td>1477584959</td>\n",
       "      <td>3</td>\n",
       "      <td>1477584959</td>\n",
       "      <td>Chrome</td>\n",
       "      <td>desktop</td>\n",
       "      <td>False</td>\n",
       "      <td>Chrome OS</td>\n",
       "      <td>...</td>\n",
       "      <td>NaN</td>\n",
       "      <td>43.0</td>\n",
       "      <td>2.904000e+08</td>\n",
       "      <td>NaN</td>\n",
       "      <td>(not set)</td>\n",
       "      <td>True</td>\n",
       "      <td>NaN</td>\n",
       "      <td>(none)</td>\n",
       "      <td>NaN</td>\n",
       "      <td>(direct)</td>\n",
       "    </tr>\n",
       "  </tbody>\n",
       "</table>\n",
       "<p>10 rows × 29 columns</p>\n",
       "</div>"
      ],
      "text/plain": [
       "       channelGrouping      date        fullVisitorId     visitId  \\\n",
       "22500           Direct  20161110  4984366501121503466  1478792651   \n",
       "89918           Direct  20161130  4984366501121503466  1480527609   \n",
       "126655          Direct  20161018  4984366501121503466  1476808875   \n",
       "142416          Direct  20170410  4984366501121503466  1491864249   \n",
       "249668          Direct  20170105  4984366501121503466  1483653271   \n",
       "275470          Direct  20170620  4984366501121503466  1497998174   \n",
       "287213          Direct  20170728  9417857471295131045  1501255344   \n",
       "339913          Direct  20170721  9417857471295131045  1500657634   \n",
       "348275         Display  20170601  1957458976293878100  1496342143   \n",
       "354592          Direct  20161027  4984366501121503466  1477584959   \n",
       "\n",
       "        visitNumber  visitStartTime device.browser device.deviceCategory  \\\n",
       "22500             6      1478792651         Chrome               desktop   \n",
       "89918             8      1480527609         Chrome               desktop   \n",
       "126655            2      1476808875         Chrome               desktop   \n",
       "142416           22      1491864249         Chrome               desktop   \n",
       "249668           14      1483653271         Chrome               desktop   \n",
       "275470           24      1497998174         Chrome               desktop   \n",
       "287213           19      1501255344         Chrome               desktop   \n",
       "339913           10      1500657634         Chrome               desktop   \n",
       "348275          295      1496342143        Firefox               desktop   \n",
       "354592            3      1477584959         Chrome               desktop   \n",
       "\n",
       "        device.isMobile device.operatingSystem  ... totals.newVisits  \\\n",
       "22500             False              Chrome OS  ...              NaN   \n",
       "89918             False              Chrome OS  ...              NaN   \n",
       "126655            False              Chrome OS  ...              NaN   \n",
       "142416            False              Chrome OS  ...              NaN   \n",
       "249668            False              Chrome OS  ...              NaN   \n",
       "275470            False              Chrome OS  ...              NaN   \n",
       "287213            False                Windows  ...              NaN   \n",
       "339913            False                Windows  ...              NaN   \n",
       "348275            False                Windows  ...              NaN   \n",
       "354592            False              Chrome OS  ...              NaN   \n",
       "\n",
       "       totals.pageviews totals.transactionRevenue trafficSource.adContent  \\\n",
       "22500              32.0              5.382000e+08                     NaN   \n",
       "89918              30.0              6.970000e+08                     NaN   \n",
       "126655             22.0              2.740000e+08                     NaN   \n",
       "142416             43.0              4.597000e+07                     NaN   \n",
       "249668             39.0              1.633420e+09                     NaN   \n",
       "275470             26.0              7.310800e+08                     NaN   \n",
       "287213             51.0              6.855200e+08                     NaN   \n",
       "339913             76.0              1.064080e+09                     NaN   \n",
       "348275             24.0              2.344000e+08                     NaN   \n",
       "354592             43.0              2.904000e+08                     NaN   \n",
       "\n",
       "       trafficSource.campaign trafficSource.isTrueDirect  \\\n",
       "22500               (not set)                       True   \n",
       "89918               (not set)                       True   \n",
       "126655              (not set)                       True   \n",
       "142416              (not set)                       True   \n",
       "249668              (not set)                       True   \n",
       "275470              (not set)                       True   \n",
       "287213              (not set)                       True   \n",
       "339913              (not set)                       True   \n",
       "348275              (not set)                       True   \n",
       "354592              (not set)                       True   \n",
       "\n",
       "       trafficSource.keyword  trafficSource.medium  \\\n",
       "22500                    NaN                (none)   \n",
       "89918                    NaN                (none)   \n",
       "126655                   NaN                (none)   \n",
       "142416                   NaN                (none)   \n",
       "249668                   NaN                (none)   \n",
       "275470                   NaN                (none)   \n",
       "287213                   NaN                (none)   \n",
       "339913                   NaN                (none)   \n",
       "348275                   NaN                   cpm   \n",
       "354592                   NaN                (none)   \n",
       "\n",
       "        trafficSource.referralPath  trafficSource.source  \n",
       "22500                          NaN              (direct)  \n",
       "89918                          NaN              (direct)  \n",
       "126655                         NaN              (direct)  \n",
       "142416                         NaN              (direct)  \n",
       "249668                         NaN              (direct)  \n",
       "275470                         NaN              (direct)  \n",
       "287213                         NaN              (direct)  \n",
       "339913                         NaN              (direct)  \n",
       "348275                         NaN                   dfa  \n",
       "354592                         NaN              (direct)  \n",
       "\n",
       "[10 rows x 29 columns]"
      ]
     },
     "execution_count": 12,
     "metadata": {},
     "output_type": "execute_result"
    }
   ],
   "source": [
    "train.loc[train.fullVisitorId.isin(txns_by_users.sort_values('totals.transactionRevenue', ascending = False).head(5)['fullVisitorId'])].loc[~pd.isnull(train['totals.transactionRevenue'])].head(10)"
   ]
  },
  {
   "cell_type": "markdown",
   "metadata": {},
   "source": [
    "From the sample above, it looks like top users use desktops to make transactions; however, their operating systems are quite diverse between Windows, Chrome, and Mac. There is still some hesitation that these could be affiliate companies or internal employees buying large amount of items for their teams, but this is something worth exploring."
   ]
  },
  {
   "cell_type": "code",
   "execution_count": 13,
   "metadata": {},
   "outputs": [
    {
     "data": {
      "text/plain": [
       "(0.0127427231470487, 0.013976902495279737)"
      ]
     },
     "execution_count": 13,
     "metadata": {},
     "output_type": "execute_result"
    }
   ],
   "source": [
    "not_null_rev = train.loc[~pd.isna(train['totals.transactionRevenue'])]['fullVisitorId'].count()\n",
    "no_spend_customers = txns_by_users.loc[txns_by_users['totals.transactionRevenue'] > 0]['fullVisitorId'].count()\n",
    "not_null_rev/train.shape[0], no_spend_customers/txns_by_users.shape[0]"
   ]
  },
  {
   "cell_type": "markdown",
   "metadata": {},
   "source": [
    "We note from above that out of all visitors visiting the Google Store, only 1.4% of visitors are revenue generating customers. \n",
    "\n",
    "*Note that this data begins from August 01 2016 and ends on August 01 2017"
   ]
  },
  {
   "cell_type": "markdown",
   "metadata": {},
   "source": [
    "#### Device Category, Operating System, and Browser"
   ]
  },
  {
   "cell_type": "code",
   "execution_count": 14,
   "metadata": {},
   "outputs": [
    {
     "data": {
      "text/plain": [
       "<pandas.core.groupby.generic.SeriesGroupBy object at 0x7fbeb4e855c0>"
      ]
     },
     "execution_count": 14,
     "metadata": {},
     "output_type": "execute_result"
    }
   ],
   "source": [
    "train.groupby('device.deviceCategory')['totals.transactionRevenue']"
   ]
  },
  {
   "cell_type": "code",
   "execution_count": 15,
   "metadata": {},
   "outputs": [
    {
     "data": {
      "image/png": "[encoded data removed]",
      "text/plain": [
       "<Figure size 720x864 with 3 Axes>"
      ]
     },
     "metadata": {},
     "output_type": "display_data"
    }
   ],
   "source": [
    "f, axes = plt.subplots(3, figsize=(10, 12), sharex=True)\n",
    "for i, k in enumerate(['device.deviceCategory', 'device.operatingSystem', 'device.browser']):\n",
    "    sns.boxplot(y=k, x=\"totals.transactionRevenue\", data=train.loc[~pd.isnull(train['totals.transactionRevenue'])], dodge=False, ax=axes[i])\n",
    "    axes[i].set_xscale('log')"
   ]
  },
  {
   "cell_type": "markdown",
   "metadata": {},
   "source": [
    "Above we see boxplots for device types, operating systems, and browsers of non-null transaction revenues. We note a few observations:\n",
    "- The majority of customers use Desktops for purchases.\n",
    "    - Surprisingly tablets are the second highest usage for purchases, followed by mobile phones.\n",
    "- Chrome OS has the highest median spend at the Google store, this plays into my theory that it could be Google employees who are purchasing Google products.\n",
    "- Unsurprisingly, Chrome had the highest median revenue of the web browsers; however, Firefox was a surprise in second place."
   ]
  },
  {
   "cell_type": "markdown",
   "metadata": {},
   "source": [
    "#### Country Exploration"
   ]
  },
  {
   "cell_type": "code",
   "execution_count": 16,
   "metadata": {},
   "outputs": [
    {
     "data": {
      "image/png": "[encoded data removed]",
      "text/plain": [
       "<Figure size 720x864 with 1 Axes>"
      ]
     },
     "metadata": {},
     "output_type": "display_data"
    }
   ],
   "source": [
    "f, axes = plt.subplots(figsize=(10, 12), sharex=True)\n",
    "\n",
    "sns.boxplot(y='geoNetwork.country', x=\"totals.transactionRevenue\", data=train.loc[~pd.isnull(train['totals.transactionRevenue'])], dodge=False)\n",
    "axes.set_xscale('log')"
   ]
  },
  {
   "cell_type": "markdown",
   "metadata": {},
   "source": [
    "Country has some interesting observations. US tops in revenue as expected; however, Australia has a higher median spend than the US which is surprising. Additionally, Canada shows similar variance as the US, which was also surprising to me. This seems like an important feature to use in the model."
   ]
  },
  {
   "cell_type": "markdown",
   "metadata": {},
   "source": [
    "#### Channel Grouping"
   ]
  },
  {
   "cell_type": "code",
   "execution_count": 17,
   "metadata": {},
   "outputs": [
    {
     "data": {
      "image/png": "[encoded data removed]",
      "text/plain": [
       "<Figure size 432x576 with 1 Axes>"
      ]
     },
     "metadata": {},
     "output_type": "display_data"
    }
   ],
   "source": [
    "f, axes = plt.subplots(figsize=(6, 8), sharex=True)\n",
    "\n",
    "sns.boxplot(y='channelGrouping', x=\"totals.transactionRevenue\", data=train.loc[~pd.isnull(train['totals.transactionRevenue'])], dodge=False)\n",
    "axes.set_xscale('log')"
   ]
  },
  {
   "cell_type": "markdown",
   "metadata": {},
   "source": [
    "Channel grouping also shows some variance with Display ads having the highest median (which is also very interesting). Definitely something to consider as a potential feature in the model."
   ]
  },
  {
   "cell_type": "markdown",
   "metadata": {},
   "source": [
    "#### Potential Indirect Outcome: Page Views"
   ]
  },
  {
   "cell_type": "code",
   "execution_count": 18,
   "metadata": {},
   "outputs": [
    {
     "data": {
      "image/png": "[encoded data removed]",
      "text/plain": [
       "<Figure size 576x432 with 1 Axes>"
      ]
     },
     "metadata": {},
     "output_type": "display_data"
    }
   ],
   "source": [
    "train['totals.pageviews'] = train['totals.pageviews'].astype('float')\n",
    "pg_by_users = train.groupby(\"fullVisitorId\")[\"totals.pageviews\"].sum().reset_index()\n",
    "\n",
    "plt.figure(figsize=(8,6))\n",
    "plt.scatter(range(pg_by_users.shape[0]), np.sort(pg_by_users[\"totals.pageviews\"].values))\n",
    "plt.xlabel('index', fontsize=12)\n",
    "plt.ylabel('Page Views', fontsize=12)\n",
    "plt.title('Total Page Views')\n",
    "plt.show()"
   ]
  },
  {
   "cell_type": "markdown",
   "metadata": {},
   "source": [
    "We note the similarities between page views and total revenue, thus we can use page views as an indirect outcome because ultimately users need to view a page before purchasing a product. This allows us to switch our cluster methodology from: Recency, Frequency, and Monetary to Recency, Frequency, and Views."
   ]
  },
  {
   "cell_type": "markdown",
   "metadata": {},
   "source": [
    "## Feature Engineering"
   ]
  },
  {
   "cell_type": "markdown",
   "metadata": {},
   "source": [
    "#### Recency Cluster"
   ]
  },
  {
   "cell_type": "code",
   "execution_count": 53,
   "metadata": {},
   "outputs": [],
   "source": [
    "non_zero_txn = train.loc[pd.notnull(train['totals.pageviews'])]"
   ]
  },
  {
   "cell_type": "code",
   "execution_count": 54,
   "metadata": {},
   "outputs": [],
   "source": [
    "tx_user = pd.DataFrame(train['fullVisitorId'].unique())\n",
    "tx_user.columns = ['fullVisitorId']"
   ]
  },
  {
   "cell_type": "code",
   "execution_count": 55,
   "metadata": {},
   "outputs": [],
   "source": [
    "train['date_format'] = pd.to_datetime(train['date'], format=\"%Y%m%d\")\n",
    "tx_max_purchase = train.groupby('fullVisitorId').date_format.max().reset_index()\n",
    "tx_max_purchase.columns = ['fullVisitorId','date_format']\n",
    "\n",
    "tx_max_purchase['recency'] = (tx_max_purchase['date_format'].max() - tx_max_purchase['date_format']).dt.days\n",
    "\n",
    "tx_user = pd.merge(tx_user, tx_max_purchase[['fullVisitorId','recency']], on='fullVisitorId')"
   ]
  },
  {
   "cell_type": "code",
   "execution_count": 56,
   "metadata": {},
   "outputs": [
    {
     "data": {
      "text/plain": [
       "fullVisitorId    731421\n",
       "date_format      731421\n",
       "recency          731421\n",
       "dtype: int64"
      ]
     },
     "execution_count": 56,
     "metadata": {},
     "output_type": "execute_result"
    }
   ],
   "source": [
    "tx_max_purchase.count()"
   ]
  },
  {
   "cell_type": "code",
   "execution_count": 57,
   "metadata": {},
   "outputs": [
    {
     "name": "stderr",
     "output_type": "stream",
     "text": [
      "/home/ec2-user/anaconda3/envs/mxnet_p36/lib/python3.6/site-packages/matplotlib/axes/_axes.py:6521: MatplotlibDeprecationWarning: \n",
      "The 'normed' kwarg was deprecated in Matplotlib 2.1 and will be removed in 3.1. Use 'density' instead.\n",
      "  alternative=\"'density'\", removal=\"3.1\")\n"
     ]
    },
    {
     "data": {
      "text/plain": [
       "<matplotlib.axes._subplots.AxesSubplot at 0x7fbeb7a46c18>"
      ]
     },
     "execution_count": 57,
     "metadata": {},
     "output_type": "execute_result"
    },
    {
     "data": {
      "image/png": "[encoded data removed]",
      "text/plain": [
       "<Figure size 432x288 with 1 Axes>"
      ]
     },
     "metadata": {},
     "output_type": "display_data"
    }
   ],
   "source": [
    "sns.distplot(tx_user['recency'])"
   ]
  },
  {
   "cell_type": "code",
   "execution_count": 58,
   "metadata": {},
   "outputs": [
    {
     "data": {
      "text/html": [
       "<div>\n",
       "<style scoped>\n",
       "    .dataframe tbody tr th:only-of-type {\n",
       "        vertical-align: middle;\n",
       "    }\n",
       "\n",
       "    .dataframe tbody tr th {\n",
       "        vertical-align: top;\n",
       "    }\n",
       "\n",
       "    .dataframe thead th {\n",
       "        text-align: right;\n",
       "    }\n",
       "</style>\n",
       "<table border=\"1\" class=\"dataframe\">\n",
       "  <thead>\n",
       "    <tr style=\"text-align: right;\">\n",
       "      <th></th>\n",
       "      <th>recency</th>\n",
       "    </tr>\n",
       "  </thead>\n",
       "  <tbody>\n",
       "    <tr>\n",
       "      <th>count</th>\n",
       "      <td>731421.000000</td>\n",
       "    </tr>\n",
       "    <tr>\n",
       "      <th>mean</th>\n",
       "      <td>192.779170</td>\n",
       "    </tr>\n",
       "    <tr>\n",
       "      <th>std</th>\n",
       "      <td>104.437801</td>\n",
       "    </tr>\n",
       "    <tr>\n",
       "      <th>min</th>\n",
       "      <td>0.000000</td>\n",
       "    </tr>\n",
       "    <tr>\n",
       "      <th>25%</th>\n",
       "      <td>103.000000</td>\n",
       "    </tr>\n",
       "    <tr>\n",
       "      <th>50%</th>\n",
       "      <td>207.000000</td>\n",
       "    </tr>\n",
       "    <tr>\n",
       "      <th>75%</th>\n",
       "      <td>279.000000</td>\n",
       "    </tr>\n",
       "    <tr>\n",
       "      <th>max</th>\n",
       "      <td>365.000000</td>\n",
       "    </tr>\n",
       "  </tbody>\n",
       "</table>\n",
       "</div>"
      ],
      "text/plain": [
       "             recency\n",
       "count  731421.000000\n",
       "mean      192.779170\n",
       "std       104.437801\n",
       "min         0.000000\n",
       "25%       103.000000\n",
       "50%       207.000000\n",
       "75%       279.000000\n",
       "max       365.000000"
      ]
     },
     "execution_count": 58,
     "metadata": {},
     "output_type": "execute_result"
    }
   ],
   "source": [
    "tx_user.describe()"
   ]
  },
  {
   "cell_type": "markdown",
   "metadata": {},
   "source": [
    "We see that the median recency is 207 days, while the mean is close -- 192. We may be able to infer from the graph above that the median purchases were made between 279 and 201 days prior to August 1 2017, which is around from October 2016 to January 2017, which makes sense because this is around the holiday season."
   ]
  },
  {
   "cell_type": "code",
   "execution_count": 59,
   "metadata": {},
   "outputs": [
    {
     "data": {
      "text/plain": [
       "datetime.datetime(2016, 10, 26, 0, 0)"
      ]
     },
     "execution_count": 59,
     "metadata": {},
     "output_type": "execute_result"
    }
   ],
   "source": [
    "datetime(2017,8,1) - timedelta(279)"
   ]
  },
  {
   "cell_type": "code",
   "execution_count": 60,
   "metadata": {},
   "outputs": [
    {
     "data": {
      "image/png": "[encoded data removed]",
      "text/plain": [
       "<Figure size 432x288 with 1 Axes>"
      ]
     },
     "metadata": {},
     "output_type": "display_data"
    },
    {
     "data": {
      "text/plain": [
       "{1: 7977783913.472026,\n",
       " 2: 1867537513.8041782,\n",
       " 3: 933583755.1881189,\n",
       " 4: 503591465.3749925,\n",
       " 5: 311324888.56120056,\n",
       " 6: 222849392.30482557,\n",
       " 7: 158013209.27841213,\n",
       " 8: 125412557.99410607,\n",
       " 9: 97666929.57604559}"
      ]
     },
     "execution_count": 60,
     "metadata": {},
     "output_type": "execute_result"
    }
   ],
   "source": [
    "def plot_kmeans_inertia(feature):\n",
    "    tmp = tx_user[[feature]]\n",
    "    sse={}\n",
    "    for k in range(1, 10):\n",
    "        kmeans = KMeans(n_clusters=k, max_iter=1000).fit(tmp)\n",
    "        sse[k] = kmeans.inertia_ \n",
    "    plt.figure()\n",
    "    plt.plot(list(sse.keys()), list(sse.values()))\n",
    "    plt.xlabel(\"Number of cluster\")\n",
    "    plt.show()\n",
    "    return sse\n",
    "    \n",
    "plot_kmeans_inertia('recency')"
   ]
  },
  {
   "cell_type": "markdown",
   "metadata": {},
   "source": [
    "We see from the chart above that we can choose either 3 or 4 clusters. We will choose 4 just to have more features in our model. "
   ]
  },
  {
   "cell_type": "code",
   "execution_count": 61,
   "metadata": {},
   "outputs": [],
   "source": [
    "kmeans = KMeans(n_clusters = 4)\n",
    "kmeans.fit(tx_user[['recency']])\n",
    "\n",
    "## Save model to use for test as well\n",
    "filename = '../feature_models/kmeans_recency.sav'\n",
    "pickle.dump(kmeans, open(filename, 'wb'))"
   ]
  },
  {
   "cell_type": "code",
   "execution_count": 62,
   "metadata": {},
   "outputs": [],
   "source": [
    "# def engineer_features(user_df, df, model_file, col_name):\n",
    "#     mod1 = pickle.load(open(model_file, 'rb'))\n",
    "#     user_df[col_name+\"_cluster\"] = mod1.predict(user_df[col_name])\n",
    "#     df = pd.merge(df, user_df[['fullVisitorId']])   "
   ]
  },
  {
   "cell_type": "code",
   "execution_count": 63,
   "metadata": {},
   "outputs": [],
   "source": [
    "model_file = filename\n",
    "mod1 = pickle.load(open(model_file, 'rb'))\n",
    "tx_user['recency_cluster'] = mod1.predict(tx_user[['recency']])"
   ]
  },
  {
   "cell_type": "code",
   "execution_count": 64,
   "metadata": {},
   "outputs": [
    {
     "data": {
      "text/html": [
       "<div>\n",
       "<style scoped>\n",
       "    .dataframe tbody tr th:only-of-type {\n",
       "        vertical-align: middle;\n",
       "    }\n",
       "\n",
       "    .dataframe tbody tr th {\n",
       "        vertical-align: top;\n",
       "    }\n",
       "\n",
       "    .dataframe thead tr th {\n",
       "        text-align: left;\n",
       "    }\n",
       "\n",
       "    .dataframe thead tr:last-of-type th {\n",
       "        text-align: right;\n",
       "    }\n",
       "</style>\n",
       "<table border=\"1\" class=\"dataframe\">\n",
       "  <thead>\n",
       "    <tr>\n",
       "      <th></th>\n",
       "      <th colspan=\"3\" halign=\"left\">recency</th>\n",
       "    </tr>\n",
       "    <tr>\n",
       "      <th></th>\n",
       "      <th>min</th>\n",
       "      <th>max</th>\n",
       "      <th>mean</th>\n",
       "    </tr>\n",
       "    <tr>\n",
       "      <th>recency_cluster</th>\n",
       "      <th></th>\n",
       "      <th></th>\n",
       "      <th></th>\n",
       "    </tr>\n",
       "  </thead>\n",
       "  <tbody>\n",
       "    <tr>\n",
       "      <th>0</th>\n",
       "      <td>196</td>\n",
       "      <td>284</td>\n",
       "      <td>246.868415</td>\n",
       "    </tr>\n",
       "    <tr>\n",
       "      <th>1</th>\n",
       "      <td>0</td>\n",
       "      <td>94</td>\n",
       "      <td>45.135431</td>\n",
       "    </tr>\n",
       "    <tr>\n",
       "      <th>2</th>\n",
       "      <td>95</td>\n",
       "      <td>195</td>\n",
       "      <td>144.323179</td>\n",
       "    </tr>\n",
       "    <tr>\n",
       "      <th>3</th>\n",
       "      <td>285</td>\n",
       "      <td>365</td>\n",
       "      <td>322.797862</td>\n",
       "    </tr>\n",
       "  </tbody>\n",
       "</table>\n",
       "</div>"
      ],
      "text/plain": [
       "                recency                 \n",
       "                    min  max        mean\n",
       "recency_cluster                         \n",
       "0                   196  284  246.868415\n",
       "1                     0   94   45.135431\n",
       "2                    95  195  144.323179\n",
       "3                   285  365  322.797862"
      ]
     },
     "execution_count": 64,
     "metadata": {},
     "output_type": "execute_result"
    }
   ],
   "source": [
    "tx_user.groupby(['recency_cluster']).agg({'recency' : ['min', 'max', 'mean']})"
   ]
  },
  {
   "cell_type": "markdown",
   "metadata": {},
   "source": [
    "#### Frequency Cluster"
   ]
  },
  {
   "cell_type": "code",
   "execution_count": 65,
   "metadata": {},
   "outputs": [],
   "source": [
    "tx_frequency = non_zero_txn.groupby('fullVisitorId').visitId.count().reset_index()"
   ]
  },
  {
   "cell_type": "code",
   "execution_count": 66,
   "metadata": {},
   "outputs": [],
   "source": [
    "tx_frequency.columns = ['fullVisitorId','frequency']"
   ]
  },
  {
   "cell_type": "code",
   "execution_count": 67,
   "metadata": {},
   "outputs": [],
   "source": [
    "tx_user = pd.merge(tx_user, tx_frequency, on='fullVisitorId')"
   ]
  },
  {
   "cell_type": "code",
   "execution_count": 68,
   "metadata": {},
   "outputs": [
    {
     "data": {
      "text/html": [
       "<div>\n",
       "<style scoped>\n",
       "    .dataframe tbody tr th:only-of-type {\n",
       "        vertical-align: middle;\n",
       "    }\n",
       "\n",
       "    .dataframe tbody tr th {\n",
       "        vertical-align: top;\n",
       "    }\n",
       "\n",
       "    .dataframe thead th {\n",
       "        text-align: right;\n",
       "    }\n",
       "</style>\n",
       "<table border=\"1\" class=\"dataframe\">\n",
       "  <thead>\n",
       "    <tr style=\"text-align: right;\">\n",
       "      <th></th>\n",
       "      <th>recency</th>\n",
       "      <th>recency_cluster</th>\n",
       "      <th>frequency</th>\n",
       "    </tr>\n",
       "  </thead>\n",
       "  <tbody>\n",
       "    <tr>\n",
       "      <th>count</th>\n",
       "      <td>731407.000000</td>\n",
       "      <td>731407.000000</td>\n",
       "      <td>731407.000000</td>\n",
       "    </tr>\n",
       "    <tr>\n",
       "      <th>mean</th>\n",
       "      <td>192.778066</td>\n",
       "      <td>1.397371</td>\n",
       "      <td>1.235363</td>\n",
       "    </tr>\n",
       "    <tr>\n",
       "      <th>std</th>\n",
       "      <td>104.437826</td>\n",
       "      <td>1.136006</td>\n",
       "      <td>1.272507</td>\n",
       "    </tr>\n",
       "    <tr>\n",
       "      <th>min</th>\n",
       "      <td>0.000000</td>\n",
       "      <td>0.000000</td>\n",
       "      <td>1.000000</td>\n",
       "    </tr>\n",
       "    <tr>\n",
       "      <th>25%</th>\n",
       "      <td>103.000000</td>\n",
       "      <td>0.000000</td>\n",
       "      <td>1.000000</td>\n",
       "    </tr>\n",
       "    <tr>\n",
       "      <th>50%</th>\n",
       "      <td>207.000000</td>\n",
       "      <td>1.000000</td>\n",
       "      <td>1.000000</td>\n",
       "    </tr>\n",
       "    <tr>\n",
       "      <th>75%</th>\n",
       "      <td>279.000000</td>\n",
       "      <td>2.000000</td>\n",
       "      <td>1.000000</td>\n",
       "    </tr>\n",
       "    <tr>\n",
       "      <th>max</th>\n",
       "      <td>365.000000</td>\n",
       "      <td>3.000000</td>\n",
       "      <td>252.000000</td>\n",
       "    </tr>\n",
       "  </tbody>\n",
       "</table>\n",
       "</div>"
      ],
      "text/plain": [
       "             recency  recency_cluster      frequency\n",
       "count  731407.000000    731407.000000  731407.000000\n",
       "mean      192.778066         1.397371       1.235363\n",
       "std       104.437826         1.136006       1.272507\n",
       "min         0.000000         0.000000       1.000000\n",
       "25%       103.000000         0.000000       1.000000\n",
       "50%       207.000000         1.000000       1.000000\n",
       "75%       279.000000         2.000000       1.000000\n",
       "max       365.000000         3.000000     252.000000"
      ]
     },
     "execution_count": 68,
     "metadata": {},
     "output_type": "execute_result"
    }
   ],
   "source": [
    "tx_user.describe()"
   ]
  },
  {
   "cell_type": "code",
   "execution_count": 69,
   "metadata": {},
   "outputs": [
    {
     "data": {
      "image/png": "[encoded data removed]",
      "text/plain": [
       "<Figure size 432x288 with 1 Axes>"
      ]
     },
     "metadata": {},
     "output_type": "display_data"
    },
    {
     "data": {
      "text/plain": [
       "{1: 1184347.2353040099,\n",
       " 2: 764615.5861093879,\n",
       " 3: 440347.3759658393,\n",
       " 4: 276898.63847980666,\n",
       " 5: 183702.3566994792,\n",
       " 6: 124179.72863825502,\n",
       " 7: 91752.87594459842,\n",
       " 8: 63287.06492928522,\n",
       " 9: 48672.80575292426}"
      ]
     },
     "execution_count": 69,
     "metadata": {},
     "output_type": "execute_result"
    }
   ],
   "source": [
    "plot_kmeans_inertia('frequency')"
   ]
  },
  {
   "cell_type": "markdown",
   "metadata": {},
   "source": [
    "Our intertia graph above doesn't have a concrete elbow; however, I will select 5 clusters to have more variance in the feature space."
   ]
  },
  {
   "cell_type": "code",
   "execution_count": 70,
   "metadata": {},
   "outputs": [],
   "source": [
    "kmeans = KMeans(n_clusters = 5)\n",
    "kmeans.fit(tx_user[['frequency']])\n",
    "\n",
    "## Save model to use for test as well\n",
    "filename = '../feature_models/kmeans_frequency.sav'\n",
    "pickle.dump(kmeans, open(filename, 'wb'))\n",
    "model_file = filename\n",
    "mod1 = pickle.load(open(model_file, 'rb'))\n",
    "tx_user['frequency_cluster'] = mod1.predict(tx_user[['frequency']])"
   ]
  },
  {
   "cell_type": "code",
   "execution_count": 71,
   "metadata": {},
   "outputs": [
    {
     "data": {
      "text/html": [
       "<div>\n",
       "<style scoped>\n",
       "    .dataframe tbody tr th:only-of-type {\n",
       "        vertical-align: middle;\n",
       "    }\n",
       "\n",
       "    .dataframe tbody tr th {\n",
       "        vertical-align: top;\n",
       "    }\n",
       "\n",
       "    .dataframe thead tr th {\n",
       "        text-align: left;\n",
       "    }\n",
       "\n",
       "    .dataframe thead tr:last-of-type th {\n",
       "        text-align: right;\n",
       "    }\n",
       "</style>\n",
       "<table border=\"1\" class=\"dataframe\">\n",
       "  <thead>\n",
       "    <tr>\n",
       "      <th></th>\n",
       "      <th colspan=\"2\" halign=\"left\">frequency</th>\n",
       "    </tr>\n",
       "    <tr>\n",
       "      <th></th>\n",
       "      <th>min</th>\n",
       "      <th>max</th>\n",
       "    </tr>\n",
       "    <tr>\n",
       "      <th>frequency_cluster</th>\n",
       "      <th></th>\n",
       "      <th></th>\n",
       "    </tr>\n",
       "  </thead>\n",
       "  <tbody>\n",
       "    <tr>\n",
       "      <th>0</th>\n",
       "      <td>1</td>\n",
       "      <td>1</td>\n",
       "    </tr>\n",
       "    <tr>\n",
       "      <th>1</th>\n",
       "      <td>16</td>\n",
       "      <td>68</td>\n",
       "    </tr>\n",
       "    <tr>\n",
       "      <th>2</th>\n",
       "      <td>5</td>\n",
       "      <td>15</td>\n",
       "    </tr>\n",
       "    <tr>\n",
       "      <th>3</th>\n",
       "      <td>2</td>\n",
       "      <td>4</td>\n",
       "    </tr>\n",
       "    <tr>\n",
       "      <th>4</th>\n",
       "      <td>75</td>\n",
       "      <td>252</td>\n",
       "    </tr>\n",
       "  </tbody>\n",
       "</table>\n",
       "</div>"
      ],
      "text/plain": [
       "                  frequency     \n",
       "                        min  max\n",
       "frequency_cluster               \n",
       "0                         1    1\n",
       "1                        16   68\n",
       "2                         5   15\n",
       "3                         2    4\n",
       "4                        75  252"
      ]
     },
     "execution_count": 71,
     "metadata": {},
     "output_type": "execute_result"
    }
   ],
   "source": [
    "tx_user.groupby(['frequency_cluster']).agg({'frequency' : ['min', 'max']})"
   ]
  },
  {
   "cell_type": "markdown",
   "metadata": {},
   "source": [
    "#### Page View Cluster"
   ]
  },
  {
   "cell_type": "code",
   "execution_count": 72,
   "metadata": {},
   "outputs": [],
   "source": [
    "tx_pv = non_zero_txn.groupby('fullVisitorId').agg({'totals.pageviews' : 'sum'}).reset_index()\n",
    "tx_pv.columns = ['fullVisitorId','pg_views']\n",
    "tx_user = pd.merge(tx_user, tx_pv, on='fullVisitorId')"
   ]
  },
  {
   "cell_type": "code",
   "execution_count": 73,
   "metadata": {},
   "outputs": [
    {
     "data": {
      "text/html": [
       "<div>\n",
       "<style scoped>\n",
       "    .dataframe tbody tr th:only-of-type {\n",
       "        vertical-align: middle;\n",
       "    }\n",
       "\n",
       "    .dataframe tbody tr th {\n",
       "        vertical-align: top;\n",
       "    }\n",
       "\n",
       "    .dataframe thead th {\n",
       "        text-align: right;\n",
       "    }\n",
       "</style>\n",
       "<table border=\"1\" class=\"dataframe\">\n",
       "  <thead>\n",
       "    <tr style=\"text-align: right;\">\n",
       "      <th></th>\n",
       "      <th>recency</th>\n",
       "      <th>recency_cluster</th>\n",
       "      <th>frequency</th>\n",
       "      <th>frequency_cluster</th>\n",
       "      <th>pg_views</th>\n",
       "    </tr>\n",
       "  </thead>\n",
       "  <tbody>\n",
       "    <tr>\n",
       "      <th>count</th>\n",
       "      <td>731407.000000</td>\n",
       "      <td>731407.000000</td>\n",
       "      <td>731407.000000</td>\n",
       "      <td>731407.000000</td>\n",
       "      <td>731407.000000</td>\n",
       "    </tr>\n",
       "    <tr>\n",
       "      <th>mean</th>\n",
       "      <td>192.778066</td>\n",
       "      <td>1.397371</td>\n",
       "      <td>1.235363</td>\n",
       "      <td>0.353845</td>\n",
       "      <td>4.755855</td>\n",
       "    </tr>\n",
       "    <tr>\n",
       "      <th>std</th>\n",
       "      <td>104.437826</td>\n",
       "      <td>1.136006</td>\n",
       "      <td>1.272507</td>\n",
       "      <td>0.955360</td>\n",
       "      <td>13.004957</td>\n",
       "    </tr>\n",
       "    <tr>\n",
       "      <th>min</th>\n",
       "      <td>0.000000</td>\n",
       "      <td>0.000000</td>\n",
       "      <td>1.000000</td>\n",
       "      <td>0.000000</td>\n",
       "      <td>1.000000</td>\n",
       "    </tr>\n",
       "    <tr>\n",
       "      <th>25%</th>\n",
       "      <td>103.000000</td>\n",
       "      <td>0.000000</td>\n",
       "      <td>1.000000</td>\n",
       "      <td>0.000000</td>\n",
       "      <td>1.000000</td>\n",
       "    </tr>\n",
       "    <tr>\n",
       "      <th>50%</th>\n",
       "      <td>207.000000</td>\n",
       "      <td>1.000000</td>\n",
       "      <td>1.000000</td>\n",
       "      <td>0.000000</td>\n",
       "      <td>2.000000</td>\n",
       "    </tr>\n",
       "    <tr>\n",
       "      <th>75%</th>\n",
       "      <td>279.000000</td>\n",
       "      <td>2.000000</td>\n",
       "      <td>1.000000</td>\n",
       "      <td>0.000000</td>\n",
       "      <td>4.000000</td>\n",
       "    </tr>\n",
       "    <tr>\n",
       "      <th>max</th>\n",
       "      <td>365.000000</td>\n",
       "      <td>3.000000</td>\n",
       "      <td>252.000000</td>\n",
       "      <td>4.000000</td>\n",
       "      <td>3513.000000</td>\n",
       "    </tr>\n",
       "  </tbody>\n",
       "</table>\n",
       "</div>"
      ],
      "text/plain": [
       "             recency  recency_cluster      frequency  frequency_cluster  \\\n",
       "count  731407.000000    731407.000000  731407.000000      731407.000000   \n",
       "mean      192.778066         1.397371       1.235363           0.353845   \n",
       "std       104.437826         1.136006       1.272507           0.955360   \n",
       "min         0.000000         0.000000       1.000000           0.000000   \n",
       "25%       103.000000         0.000000       1.000000           0.000000   \n",
       "50%       207.000000         1.000000       1.000000           0.000000   \n",
       "75%       279.000000         2.000000       1.000000           0.000000   \n",
       "max       365.000000         3.000000     252.000000           4.000000   \n",
       "\n",
       "            pg_views  \n",
       "count  731407.000000  \n",
       "mean        4.755855  \n",
       "std        13.004957  \n",
       "min         1.000000  \n",
       "25%         1.000000  \n",
       "50%         2.000000  \n",
       "75%         4.000000  \n",
       "max      3513.000000  "
      ]
     },
     "execution_count": 73,
     "metadata": {},
     "output_type": "execute_result"
    }
   ],
   "source": [
    "tx_user.describe()"
   ]
  },
  {
   "cell_type": "code",
   "execution_count": 74,
   "metadata": {},
   "outputs": [
    {
     "data": {
      "image/png": "[encoded data removed]",
      "text/plain": [
       "<Figure size 432x288 with 1 Axes>"
      ]
     },
     "metadata": {},
     "output_type": "display_data"
    },
    {
     "data": {
      "text/plain": [
       "{1: 123701900.35987896,\n",
       " 2: 73935481.96393521,\n",
       " 3: 49975382.37333333,\n",
       " 4: 33692989.18748228,\n",
       " 5: 21832795.808658056,\n",
       " 6: 15448358.498059532,\n",
       " 7: 11462811.840571232,\n",
       " 8: 9019850.35626106,\n",
       " 9: 7047820.691085498}"
      ]
     },
     "execution_count": 74,
     "metadata": {},
     "output_type": "execute_result"
    }
   ],
   "source": [
    "plot_kmeans_inertia('pg_views')"
   ]
  },
  {
   "cell_type": "code",
   "execution_count": 75,
   "metadata": {},
   "outputs": [],
   "source": [
    "kmeans = KMeans(n_clusters = 4)\n",
    "kmeans.fit(tx_user[['pg_views']])\n",
    "\n",
    "## Save model to use for test as well\n",
    "filename = '../feature_models/kmeans_pg_views.sav'\n",
    "pickle.dump(kmeans, open(filename, 'wb'))\n",
    "model_file = filename\n",
    "mod1 = pickle.load(open(model_file, 'rb'))\n",
    "tx_user['pg_views_cluster'] = mod1.predict(tx_user[['pg_views']])"
   ]
  },
  {
   "cell_type": "code",
   "execution_count": 76,
   "metadata": {},
   "outputs": [
    {
     "data": {
      "text/html": [
       "<div>\n",
       "<style scoped>\n",
       "    .dataframe tbody tr th:only-of-type {\n",
       "        vertical-align: middle;\n",
       "    }\n",
       "\n",
       "    .dataframe tbody tr th {\n",
       "        vertical-align: top;\n",
       "    }\n",
       "\n",
       "    .dataframe thead tr th {\n",
       "        text-align: left;\n",
       "    }\n",
       "\n",
       "    .dataframe thead tr:last-of-type th {\n",
       "        text-align: right;\n",
       "    }\n",
       "</style>\n",
       "<table border=\"1\" class=\"dataframe\">\n",
       "  <thead>\n",
       "    <tr>\n",
       "      <th></th>\n",
       "      <th colspan=\"2\" halign=\"left\">pg_views</th>\n",
       "    </tr>\n",
       "    <tr>\n",
       "      <th></th>\n",
       "      <th>min</th>\n",
       "      <th>max</th>\n",
       "    </tr>\n",
       "    <tr>\n",
       "      <th>pg_views_cluster</th>\n",
       "      <th></th>\n",
       "      <th></th>\n",
       "    </tr>\n",
       "  </thead>\n",
       "  <tbody>\n",
       "    <tr>\n",
       "      <th>0</th>\n",
       "      <td>1.0</td>\n",
       "      <td>22.0</td>\n",
       "    </tr>\n",
       "    <tr>\n",
       "      <th>1</th>\n",
       "      <td>23.0</td>\n",
       "      <td>129.0</td>\n",
       "    </tr>\n",
       "    <tr>\n",
       "      <th>2</th>\n",
       "      <td>1477.0</td>\n",
       "      <td>3513.0</td>\n",
       "    </tr>\n",
       "    <tr>\n",
       "      <th>3</th>\n",
       "      <td>130.0</td>\n",
       "      <td>969.0</td>\n",
       "    </tr>\n",
       "  </tbody>\n",
       "</table>\n",
       "</div>"
      ],
      "text/plain": [
       "                 pg_views        \n",
       "                      min     max\n",
       "pg_views_cluster                 \n",
       "0                     1.0    22.0\n",
       "1                    23.0   129.0\n",
       "2                  1477.0  3513.0\n",
       "3                   130.0   969.0"
      ]
     },
     "execution_count": 76,
     "metadata": {},
     "output_type": "execute_result"
    }
   ],
   "source": [
    "tx_user.groupby(['pg_views_cluster']).agg({'pg_views' : ['min', 'max']})"
   ]
  },
  {
   "cell_type": "markdown",
   "metadata": {},
   "source": [
    "#### Country Cluster"
   ]
  },
  {
   "cell_type": "code",
   "execution_count": 77,
   "metadata": {},
   "outputs": [],
   "source": [
    "df_country = train.loc[pd.notnull(train['totals.pageviews'])].groupby(['geoNetwork.country']).agg({'totals.pageviews' : ['mean', 'median', 'sum', 'std']}).reset_index()\n",
    "df_country.columns = ['geoNetwork.country', 'mean', 'median', 'sum', 'std']\n",
    "df_country.fillna(0, inplace=True)\n",
    "mm = MinMaxScaler()\n",
    "for col in df_country.columns[1:]:\n",
    "    df_country[col + \"_scl\"] = mm.fit_transform(df_country[[col]])"
   ]
  },
  {
   "cell_type": "code",
   "execution_count": 78,
   "metadata": {},
   "outputs": [
    {
     "data": {
      "text/html": [
       "<div>\n",
       "<style scoped>\n",
       "    .dataframe tbody tr th:only-of-type {\n",
       "        vertical-align: middle;\n",
       "    }\n",
       "\n",
       "    .dataframe tbody tr th {\n",
       "        vertical-align: top;\n",
       "    }\n",
       "\n",
       "    .dataframe thead th {\n",
       "        text-align: right;\n",
       "    }\n",
       "</style>\n",
       "<table border=\"1\" class=\"dataframe\">\n",
       "  <thead>\n",
       "    <tr style=\"text-align: right;\">\n",
       "      <th></th>\n",
       "      <th>geoNetwork.country</th>\n",
       "      <th>mean</th>\n",
       "      <th>median</th>\n",
       "      <th>sum</th>\n",
       "      <th>std</th>\n",
       "      <th>mean_scl</th>\n",
       "      <th>median_scl</th>\n",
       "      <th>sum_scl</th>\n",
       "      <th>std_scl</th>\n",
       "    </tr>\n",
       "  </thead>\n",
       "  <tbody>\n",
       "    <tr>\n",
       "      <th>0</th>\n",
       "      <td>(not set)</td>\n",
       "      <td>2.675989</td>\n",
       "      <td>1.0</td>\n",
       "      <td>3923.0</td>\n",
       "      <td>4.540985</td>\n",
       "      <td>0.119714</td>\n",
       "      <td>0.0</td>\n",
       "      <td>0.001930</td>\n",
       "      <td>0.153162</td>\n",
       "    </tr>\n",
       "    <tr>\n",
       "      <th>1</th>\n",
       "      <td>Afghanistan</td>\n",
       "      <td>2.052632</td>\n",
       "      <td>1.0</td>\n",
       "      <td>117.0</td>\n",
       "      <td>2.966606</td>\n",
       "      <td>0.075188</td>\n",
       "      <td>0.0</td>\n",
       "      <td>0.000057</td>\n",
       "      <td>0.100060</td>\n",
       "    </tr>\n",
       "    <tr>\n",
       "      <th>2</th>\n",
       "      <td>Albania</td>\n",
       "      <td>1.661792</td>\n",
       "      <td>1.0</td>\n",
       "      <td>909.0</td>\n",
       "      <td>1.719545</td>\n",
       "      <td>0.047271</td>\n",
       "      <td>0.0</td>\n",
       "      <td>0.000447</td>\n",
       "      <td>0.057998</td>\n",
       "    </tr>\n",
       "    <tr>\n",
       "      <th>3</th>\n",
       "      <td>Algeria</td>\n",
       "      <td>1.696837</td>\n",
       "      <td>1.0</td>\n",
       "      <td>3487.0</td>\n",
       "      <td>2.442935</td>\n",
       "      <td>0.049774</td>\n",
       "      <td>0.0</td>\n",
       "      <td>0.001716</td>\n",
       "      <td>0.082397</td>\n",
       "    </tr>\n",
       "    <tr>\n",
       "      <th>4</th>\n",
       "      <td>American Samoa</td>\n",
       "      <td>1.000000</td>\n",
       "      <td>1.0</td>\n",
       "      <td>1.0</td>\n",
       "      <td>0.000000</td>\n",
       "      <td>0.000000</td>\n",
       "      <td>0.0</td>\n",
       "      <td>0.000000</td>\n",
       "      <td>0.000000</td>\n",
       "    </tr>\n",
       "  </tbody>\n",
       "</table>\n",
       "</div>"
      ],
      "text/plain": [
       "  geoNetwork.country      mean  median     sum       std  mean_scl  \\\n",
       "0          (not set)  2.675989     1.0  3923.0  4.540985  0.119714   \n",
       "1        Afghanistan  2.052632     1.0   117.0  2.966606  0.075188   \n",
       "2            Albania  1.661792     1.0   909.0  1.719545  0.047271   \n",
       "3            Algeria  1.696837     1.0  3487.0  2.442935  0.049774   \n",
       "4     American Samoa  1.000000     1.0     1.0  0.000000  0.000000   \n",
       "\n",
       "   median_scl   sum_scl   std_scl  \n",
       "0         0.0  0.001930  0.153162  \n",
       "1         0.0  0.000057  0.100060  \n",
       "2         0.0  0.000447  0.057998  \n",
       "3         0.0  0.001716  0.082397  \n",
       "4         0.0  0.000000  0.000000  "
      ]
     },
     "execution_count": 78,
     "metadata": {},
     "output_type": "execute_result"
    }
   ],
   "source": [
    "df_country.head()"
   ]
  },
  {
   "cell_type": "code",
   "execution_count": 79,
   "metadata": {},
   "outputs": [
    {
     "data": {
      "image/png": "[encoded data removed]",
      "text/plain": [
       "<Figure size 432x288 with 1 Axes>"
      ]
     },
     "metadata": {},
     "output_type": "display_data"
    }
   ],
   "source": [
    "tmp = df_country[['mean_scl', 'median_scl', 'sum_scl', 'std_scl']]\n",
    "sse={}\n",
    "for k in range(1, 10):\n",
    "    kmeans = KMeans(n_clusters=k, max_iter=1000).fit(tmp)\n",
    "    sse[k] = kmeans.inertia_ \n",
    "plt.figure()\n",
    "plt.plot(list(sse.keys()), list(sse.values()))\n",
    "plt.xlabel(\"Number of cluster\")\n",
    "plt.show()"
   ]
  },
  {
   "cell_type": "markdown",
   "metadata": {},
   "source": [
    "From the chart above, it looks like the elbow can be anywhere from 4-6; however, for more variability, we will choose 6."
   ]
  },
  {
   "cell_type": "code",
   "execution_count": 83,
   "metadata": {},
   "outputs": [],
   "source": [
    "kmeans = KMeans(n_clusters = 6)\n",
    "kmeans.fit(df_country[['mean_scl', 'median_scl', 'sum_scl', 'std_scl']])\n",
    "## Save model to use for test as well\n",
    "filename = '../feature_models/kmeans_country.sav'\n",
    "pickle.dump(kmeans, open(filename, 'wb'))\n",
    "model_file = filename\n",
    "mod1 = pickle.load(open(model_file, 'rb'))\n",
    "df_country['country_cluster'] = mod1.predict(df_country[['mean_scl', 'median_scl', 'sum_scl', 'std_scl']])"
   ]
  },
  {
   "cell_type": "code",
   "execution_count": 94,
   "metadata": {},
   "outputs": [
    {
     "data": {
      "text/html": [
       "<div>\n",
       "<style scoped>\n",
       "    .dataframe tbody tr th:only-of-type {\n",
       "        vertical-align: middle;\n",
       "    }\n",
       "\n",
       "    .dataframe tbody tr th {\n",
       "        vertical-align: top;\n",
       "    }\n",
       "\n",
       "    .dataframe thead th {\n",
       "        text-align: right;\n",
       "    }\n",
       "</style>\n",
       "<table border=\"1\" class=\"dataframe\">\n",
       "  <thead>\n",
       "    <tr style=\"text-align: right;\">\n",
       "      <th></th>\n",
       "      <th>geoNetwork.country</th>\n",
       "      <th>mean</th>\n",
       "      <th>median</th>\n",
       "      <th>sum</th>\n",
       "      <th>std</th>\n",
       "      <th>mean_scl</th>\n",
       "      <th>median_scl</th>\n",
       "      <th>sum_scl</th>\n",
       "      <th>std_scl</th>\n",
       "      <th>country_cluster</th>\n",
       "    </tr>\n",
       "  </thead>\n",
       "  <tbody>\n",
       "    <tr>\n",
       "      <th>36</th>\n",
       "      <td>Canada</td>\n",
       "      <td>5.078517</td>\n",
       "      <td>2.0</td>\n",
       "      <td>131366.0</td>\n",
       "      <td>7.846749</td>\n",
       "      <td>0.291323</td>\n",
       "      <td>0.071429</td>\n",
       "      <td>0.064651</td>\n",
       "      <td>0.264662</td>\n",
       "      <td>4</td>\n",
       "    </tr>\n",
       "    <tr>\n",
       "      <th>49</th>\n",
       "      <td>Costa Rica</td>\n",
       "      <td>3.828520</td>\n",
       "      <td>2.0</td>\n",
       "      <td>2121.0</td>\n",
       "      <td>6.217096</td>\n",
       "      <td>0.202037</td>\n",
       "      <td>0.071429</td>\n",
       "      <td>0.001043</td>\n",
       "      <td>0.209696</td>\n",
       "      <td>4</td>\n",
       "    </tr>\n",
       "    <tr>\n",
       "      <th>61</th>\n",
       "      <td>El Salvador</td>\n",
       "      <td>4.905852</td>\n",
       "      <td>2.0</td>\n",
       "      <td>1928.0</td>\n",
       "      <td>8.484006</td>\n",
       "      <td>0.278989</td>\n",
       "      <td>0.071429</td>\n",
       "      <td>0.000948</td>\n",
       "      <td>0.286156</td>\n",
       "      <td>4</td>\n",
       "    </tr>\n",
       "    <tr>\n",
       "      <th>71</th>\n",
       "      <td>French Polynesia</td>\n",
       "      <td>3.950000</td>\n",
       "      <td>1.5</td>\n",
       "      <td>79.0</td>\n",
       "      <td>6.508901</td>\n",
       "      <td>0.210714</td>\n",
       "      <td>0.035714</td>\n",
       "      <td>0.000038</td>\n",
       "      <td>0.219538</td>\n",
       "      <td>4</td>\n",
       "    </tr>\n",
       "    <tr>\n",
       "      <th>83</th>\n",
       "      <td>Guatemala</td>\n",
       "      <td>4.800344</td>\n",
       "      <td>2.0</td>\n",
       "      <td>2789.0</td>\n",
       "      <td>7.908620</td>\n",
       "      <td>0.271453</td>\n",
       "      <td>0.071429</td>\n",
       "      <td>0.001372</td>\n",
       "      <td>0.266749</td>\n",
       "      <td>4</td>\n",
       "    </tr>\n",
       "    <tr>\n",
       "      <th>84</th>\n",
       "      <td>Guernsey</td>\n",
       "      <td>5.200000</td>\n",
       "      <td>2.0</td>\n",
       "      <td>130.0</td>\n",
       "      <td>7.979139</td>\n",
       "      <td>0.300000</td>\n",
       "      <td>0.071429</td>\n",
       "      <td>0.000063</td>\n",
       "      <td>0.269128</td>\n",
       "      <td>4</td>\n",
       "    </tr>\n",
       "    <tr>\n",
       "      <th>90</th>\n",
       "      <td>Hong Kong</td>\n",
       "      <td>3.638253</td>\n",
       "      <td>1.0</td>\n",
       "      <td>17158.0</td>\n",
       "      <td>7.413479</td>\n",
       "      <td>0.188447</td>\n",
       "      <td>0.000000</td>\n",
       "      <td>0.008444</td>\n",
       "      <td>0.250048</td>\n",
       "      <td>4</td>\n",
       "    </tr>\n",
       "    <tr>\n",
       "      <th>98</th>\n",
       "      <td>Isle of Man</td>\n",
       "      <td>5.666667</td>\n",
       "      <td>3.0</td>\n",
       "      <td>17.0</td>\n",
       "      <td>6.429101</td>\n",
       "      <td>0.333333</td>\n",
       "      <td>0.142857</td>\n",
       "      <td>0.000008</td>\n",
       "      <td>0.216846</td>\n",
       "      <td>4</td>\n",
       "    </tr>\n",
       "    <tr>\n",
       "      <th>110</th>\n",
       "      <td>Laos</td>\n",
       "      <td>3.701863</td>\n",
       "      <td>1.0</td>\n",
       "      <td>596.0</td>\n",
       "      <td>14.640630</td>\n",
       "      <td>0.192990</td>\n",
       "      <td>0.000000</td>\n",
       "      <td>0.000293</td>\n",
       "      <td>0.493812</td>\n",
       "      <td>4</td>\n",
       "    </tr>\n",
       "    <tr>\n",
       "      <th>128</th>\n",
       "      <td>Martinique</td>\n",
       "      <td>4.459016</td>\n",
       "      <td>1.0</td>\n",
       "      <td>272.0</td>\n",
       "      <td>9.484327</td>\n",
       "      <td>0.247073</td>\n",
       "      <td>0.000000</td>\n",
       "      <td>0.000133</td>\n",
       "      <td>0.319896</td>\n",
       "      <td>4</td>\n",
       "    </tr>\n",
       "    <tr>\n",
       "      <th>134</th>\n",
       "      <td>Monaco</td>\n",
       "      <td>7.095238</td>\n",
       "      <td>3.0</td>\n",
       "      <td>149.0</td>\n",
       "      <td>11.282308</td>\n",
       "      <td>0.435374</td>\n",
       "      <td>0.142857</td>\n",
       "      <td>0.000073</td>\n",
       "      <td>0.380540</td>\n",
       "      <td>4</td>\n",
       "    </tr>\n",
       "    <tr>\n",
       "      <th>139</th>\n",
       "      <td>Myanmar (Burma)</td>\n",
       "      <td>4.234694</td>\n",
       "      <td>2.0</td>\n",
       "      <td>830.0</td>\n",
       "      <td>6.696805</td>\n",
       "      <td>0.231050</td>\n",
       "      <td>0.071429</td>\n",
       "      <td>0.000408</td>\n",
       "      <td>0.225876</td>\n",
       "      <td>4</td>\n",
       "    </tr>\n",
       "    <tr>\n",
       "      <th>145</th>\n",
       "      <td>Nicaragua</td>\n",
       "      <td>4.122302</td>\n",
       "      <td>1.0</td>\n",
       "      <td>573.0</td>\n",
       "      <td>6.902489</td>\n",
       "      <td>0.223022</td>\n",
       "      <td>0.000000</td>\n",
       "      <td>0.000282</td>\n",
       "      <td>0.232813</td>\n",
       "      <td>4</td>\n",
       "    </tr>\n",
       "    <tr>\n",
       "      <th>154</th>\n",
       "      <td>Panama</td>\n",
       "      <td>4.075630</td>\n",
       "      <td>1.0</td>\n",
       "      <td>1940.0</td>\n",
       "      <td>7.580207</td>\n",
       "      <td>0.219688</td>\n",
       "      <td>0.000000</td>\n",
       "      <td>0.000954</td>\n",
       "      <td>0.255672</td>\n",
       "      <td>4</td>\n",
       "    </tr>\n",
       "    <tr>\n",
       "      <th>156</th>\n",
       "      <td>Paraguay</td>\n",
       "      <td>4.409091</td>\n",
       "      <td>2.0</td>\n",
       "      <td>582.0</td>\n",
       "      <td>7.617732</td>\n",
       "      <td>0.243506</td>\n",
       "      <td>0.071429</td>\n",
       "      <td>0.000286</td>\n",
       "      <td>0.256938</td>\n",
       "      <td>4</td>\n",
       "    </tr>\n",
       "    <tr>\n",
       "      <th>161</th>\n",
       "      <td>Puerto Rico</td>\n",
       "      <td>5.467213</td>\n",
       "      <td>2.0</td>\n",
       "      <td>4002.0</td>\n",
       "      <td>9.080745</td>\n",
       "      <td>0.319087</td>\n",
       "      <td>0.071429</td>\n",
       "      <td>0.001969</td>\n",
       "      <td>0.306283</td>\n",
       "      <td>4</td>\n",
       "    </tr>\n",
       "    <tr>\n",
       "      <th>168</th>\n",
       "      <td>San Marino</td>\n",
       "      <td>5.750000</td>\n",
       "      <td>1.5</td>\n",
       "      <td>23.0</td>\n",
       "      <td>8.845903</td>\n",
       "      <td>0.339286</td>\n",
       "      <td>0.035714</td>\n",
       "      <td>0.000011</td>\n",
       "      <td>0.298362</td>\n",
       "      <td>4</td>\n",
       "    </tr>\n",
       "    <tr>\n",
       "      <th>184</th>\n",
       "      <td>St. Kitts &amp; Nevis</td>\n",
       "      <td>4.875000</td>\n",
       "      <td>2.5</td>\n",
       "      <td>39.0</td>\n",
       "      <td>5.221863</td>\n",
       "      <td>0.276786</td>\n",
       "      <td>0.107143</td>\n",
       "      <td>0.000019</td>\n",
       "      <td>0.176128</td>\n",
       "      <td>4</td>\n",
       "    </tr>\n",
       "    <tr>\n",
       "      <th>188</th>\n",
       "      <td>St. Vincent &amp; Grenadines</td>\n",
       "      <td>5.400000</td>\n",
       "      <td>1.5</td>\n",
       "      <td>54.0</td>\n",
       "      <td>6.257440</td>\n",
       "      <td>0.314286</td>\n",
       "      <td>0.035714</td>\n",
       "      <td>0.000026</td>\n",
       "      <td>0.211056</td>\n",
       "      <td>4</td>\n",
       "    </tr>\n",
       "    <tr>\n",
       "      <th>190</th>\n",
       "      <td>Suriname</td>\n",
       "      <td>4.466667</td>\n",
       "      <td>1.0</td>\n",
       "      <td>134.0</td>\n",
       "      <td>9.283776</td>\n",
       "      <td>0.247619</td>\n",
       "      <td>0.000000</td>\n",
       "      <td>0.000065</td>\n",
       "      <td>0.313131</td>\n",
       "      <td>4</td>\n",
       "    </tr>\n",
       "    <tr>\n",
       "      <th>202</th>\n",
       "      <td>Trinidad &amp; Tobago</td>\n",
       "      <td>4.048780</td>\n",
       "      <td>2.0</td>\n",
       "      <td>664.0</td>\n",
       "      <td>6.807434</td>\n",
       "      <td>0.217770</td>\n",
       "      <td>0.071429</td>\n",
       "      <td>0.000326</td>\n",
       "      <td>0.229607</td>\n",
       "      <td>4</td>\n",
       "    </tr>\n",
       "  </tbody>\n",
       "</table>\n",
       "</div>"
      ],
      "text/plain": [
       "           geoNetwork.country      mean  median       sum        std  \\\n",
       "36                     Canada  5.078517     2.0  131366.0   7.846749   \n",
       "49                 Costa Rica  3.828520     2.0    2121.0   6.217096   \n",
       "61                El Salvador  4.905852     2.0    1928.0   8.484006   \n",
       "71           French Polynesia  3.950000     1.5      79.0   6.508901   \n",
       "83                  Guatemala  4.800344     2.0    2789.0   7.908620   \n",
       "84                   Guernsey  5.200000     2.0     130.0   7.979139   \n",
       "90                  Hong Kong  3.638253     1.0   17158.0   7.413479   \n",
       "98                Isle of Man  5.666667     3.0      17.0   6.429101   \n",
       "110                      Laos  3.701863     1.0     596.0  14.640630   \n",
       "128                Martinique  4.459016     1.0     272.0   9.484327   \n",
       "134                    Monaco  7.095238     3.0     149.0  11.282308   \n",
       "139           Myanmar (Burma)  4.234694     2.0     830.0   6.696805   \n",
       "145                 Nicaragua  4.122302     1.0     573.0   6.902489   \n",
       "154                    Panama  4.075630     1.0    1940.0   7.580207   \n",
       "156                  Paraguay  4.409091     2.0     582.0   7.617732   \n",
       "161               Puerto Rico  5.467213     2.0    4002.0   9.080745   \n",
       "168                San Marino  5.750000     1.5      23.0   8.845903   \n",
       "184         St. Kitts & Nevis  4.875000     2.5      39.0   5.221863   \n",
       "188  St. Vincent & Grenadines  5.400000     1.5      54.0   6.257440   \n",
       "190                  Suriname  4.466667     1.0     134.0   9.283776   \n",
       "202         Trinidad & Tobago  4.048780     2.0     664.0   6.807434   \n",
       "\n",
       "     mean_scl  median_scl   sum_scl   std_scl  country_cluster  \n",
       "36   0.291323    0.071429  0.064651  0.264662                4  \n",
       "49   0.202037    0.071429  0.001043  0.209696                4  \n",
       "61   0.278989    0.071429  0.000948  0.286156                4  \n",
       "71   0.210714    0.035714  0.000038  0.219538                4  \n",
       "83   0.271453    0.071429  0.001372  0.266749                4  \n",
       "84   0.300000    0.071429  0.000063  0.269128                4  \n",
       "90   0.188447    0.000000  0.008444  0.250048                4  \n",
       "98   0.333333    0.142857  0.000008  0.216846                4  \n",
       "110  0.192990    0.000000  0.000293  0.493812                4  \n",
       "128  0.247073    0.000000  0.000133  0.319896                4  \n",
       "134  0.435374    0.142857  0.000073  0.380540                4  \n",
       "139  0.231050    0.071429  0.000408  0.225876                4  \n",
       "145  0.223022    0.000000  0.000282  0.232813                4  \n",
       "154  0.219688    0.000000  0.000954  0.255672                4  \n",
       "156  0.243506    0.071429  0.000286  0.256938                4  \n",
       "161  0.319087    0.071429  0.001969  0.306283                4  \n",
       "168  0.339286    0.035714  0.000011  0.298362                4  \n",
       "184  0.276786    0.107143  0.000019  0.176128                4  \n",
       "188  0.314286    0.035714  0.000026  0.211056                4  \n",
       "190  0.247619    0.000000  0.000065  0.313131                4  \n",
       "202  0.217770    0.071429  0.000326  0.229607                4  "
      ]
     },
     "execution_count": 94,
     "metadata": {},
     "output_type": "execute_result"
    }
   ],
   "source": [
    "df_country.loc[df_country.country_cluster == 4]"
   ]
  },
  {
   "cell_type": "markdown",
   "metadata": {},
   "source": [
    "#### Apply Clusters to Test Data"
   ]
  },
  {
   "cell_type": "code",
   "execution_count": 95,
   "metadata": {},
   "outputs": [],
   "source": [
    "non_zero_txn_tst = test.loc[pd.notnull(test['totals.pageviews'])]\n",
    "tx_user_tst = pd.DataFrame(non_zero_txn_tst['fullVisitorId'].unique())\n",
    "tx_user_tst.columns = ['fullVisitorId']\n",
    "test['date_format'] = pd.to_datetime(test['date'], format=\"%Y%m%d\")\n",
    "\n",
    "# Recency\n",
    "tx_max_purchase_tst = test.groupby('fullVisitorId').date_format.max().reset_index()\n",
    "tx_max_purchase_tst.columns = ['fullVisitorId','date_format']\n",
    "tx_max_purchase_tst['recency'] = (tx_max_purchase_tst['date_format'].max() - tx_max_purchase_tst['date_format']).dt.days\n",
    "tx_user_tst = pd.merge(tx_user_tst, tx_max_purchase_tst[['fullVisitorId','recency']], on='fullVisitorId')\n",
    "model_file = '../feature_models/kmeans_recency.sav'\n",
    "mod1 = pickle.load(open(model_file, 'rb'))\n",
    "tx_user_tst['recency_cluster'] = mod1.predict(tx_user_tst[['recency']])\n",
    "\n",
    "# Frequency\n",
    "tx_frequency_tst = non_zero_txn_tst.groupby('fullVisitorId').visitId.count().reset_index()\n",
    "tx_frequency_tst.columns = ['fullVisitorId','frequency']\n",
    "tx_user_tst = pd.merge(tx_user_tst, tx_frequency_tst, on='fullVisitorId')\n",
    "model_file = '../feature_models/kmeans_frequency.sav'\n",
    "mod1 = pickle.load(open(model_file, 'rb'))\n",
    "tx_user_tst['frequency_cluster'] = mod1.predict(tx_user_tst[['frequency']])\n",
    "\n",
    "# Page Views\n",
    "tx_pv_tst = non_zero_txn_tst.groupby('fullVisitorId').agg({'totals.pageviews' : 'sum'}).reset_index()\n",
    "tx_pv_tst.columns = ['fullVisitorId','pg_views']\n",
    "tx_user_tst = pd.merge(tx_user_tst, tx_pv_tst, on='fullVisitorId')\n",
    "model_file = '../feature_models/kmeans_pg_views.sav'\n",
    "mod1 = pickle.load(open(model_file, 'rb'))\n",
    "tx_user_tst['pg_views_cluster'] = mod1.predict(tx_user_tst[['pg_views']])\n",
    "\n",
    "# Country\n",
    "\n",
    "df_country_tst = test.loc[pd.notnull(test['totals.pageviews'])].groupby(['geoNetwork.country']).agg({'totals.pageviews' : ['mean', 'median', 'sum', 'std']}).reset_index()\n",
    "df_country_tst.columns = ['geoNetwork.country', 'mean', 'median', 'sum', 'std']\n",
    "df_country_tst.fillna(0, inplace=True)\n",
    "mm = MinMaxScaler()\n",
    "for col in df_country_tst.columns[1:]:\n",
    "    df_country_tst[col + \"_scl\"] = mm.fit_transform(df_country_tst[[col]])\n",
    "model_file = '../feature_models/kmeans_country.sav'\n",
    "mod1 = pickle.load(open(model_file, 'rb'))\n",
    "df_country_tst['country_cluster'] = mod1.predict(df_country_tst[['mean_scl', 'median_scl', 'sum_scl', 'std_scl']])"
   ]
  },
  {
   "cell_type": "markdown",
   "metadata": {},
   "source": [
    "#### Join Clusters Back to Train and Test"
   ]
  },
  {
   "cell_type": "code",
   "execution_count": 96,
   "metadata": {},
   "outputs": [],
   "source": [
    "def join_rfm_clusters(main_df, cluster_df, on_clause):\n",
    "    out_df = pd.merge(main_df, cluster_df, on = on_clause)\n",
    "    clus_cols = ['recency', 'frequency', 'pg_views']\n",
    "    for clus in clus_cols:\n",
    "        out_df.loc[pd.isnull(out_df[clus]),clus] = -1\n",
    "        clus_cluster = clus + \"_cluster\"\n",
    "        out_df.loc[pd.isnull(out_df[clus_cluster]),clus_cluster] = -1 \n",
    "    return out_df\n",
    "\n",
    "def join_country_clusters(main_df, cluster_df, on_clause):\n",
    "    out_df = pd.merge(main_df, cluster_df, on = on_clause)\n",
    "    out_df.loc[pd.isnull(out_df['country_cluster']),'country_cluster'] = -1 \n",
    "    return out_df\n"
   ]
  },
  {
   "cell_type": "code",
   "execution_count": 97,
   "metadata": {},
   "outputs": [],
   "source": [
    "train = join_rfm_clusters(train, tx_user, ['fullVisitorId'])\n",
    "test = join_rfm_clusters(test, tx_user_tst, ['fullVisitorId'])"
   ]
  },
  {
   "cell_type": "code",
   "execution_count": 98,
   "metadata": {},
   "outputs": [],
   "source": [
    "train = join_country_clusters(train, df_country, ['geoNetwork.country'])\n",
    "test = join_country_clusters(test, df_country, ['geoNetwork.country'])"
   ]
  },
  {
   "cell_type": "code",
   "execution_count": 99,
   "metadata": {},
   "outputs": [
    {
     "data": {
      "text/plain": [
       "Index(['channelGrouping', 'date', 'fullVisitorId', 'visitId', 'visitNumber',\n",
       "       'visitStartTime', 'device.browser', 'device.deviceCategory',\n",
       "       'device.isMobile', 'device.operatingSystem', 'geoNetwork.city',\n",
       "       'geoNetwork.continent', 'geoNetwork.country', 'geoNetwork.metro',\n",
       "       'geoNetwork.networkDomain', 'geoNetwork.region',\n",
       "       'geoNetwork.subContinent', 'totals.bounces', 'totals.hits',\n",
       "       'totals.newVisits', 'totals.pageviews', 'totals.transactionRevenue',\n",
       "       'trafficSource.adContent', 'trafficSource.campaign',\n",
       "       'trafficSource.isTrueDirect', 'trafficSource.keyword',\n",
       "       'trafficSource.medium', 'trafficSource.referralPath',\n",
       "       'trafficSource.source', 'date_format', 'recency', 'recency_cluster',\n",
       "       'frequency', 'frequency_cluster', 'pg_views', 'pg_views_cluster',\n",
       "       'mean', 'median', 'sum', 'std', 'mean_scl', 'median_scl', 'sum_scl',\n",
       "       'std_scl', 'country_cluster'],\n",
       "      dtype='object')"
      ]
     },
     "execution_count": 99,
     "metadata": {},
     "output_type": "execute_result"
    }
   ],
   "source": [
    "train.columns"
   ]
  },
  {
   "cell_type": "code",
   "execution_count": 100,
   "metadata": {},
   "outputs": [
    {
     "data": {
      "text/plain": [
       "((903639, 45), (804617, 44))"
      ]
     },
     "execution_count": 100,
     "metadata": {},
     "output_type": "execute_result"
    }
   ],
   "source": [
    "train.shape, test.shape"
   ]
  },
  {
   "cell_type": "code",
   "execution_count": 105,
   "metadata": {},
   "outputs": [
    {
     "data": {
      "text/plain": [
       "['_11',\n",
       " '_12',\n",
       " '_24',\n",
       " '_30',\n",
       " '_34',\n",
       " '_37',\n",
       " '_39',\n",
       " '_42',\n",
       " '_44',\n",
       " '_47',\n",
       " '_58',\n",
       " '_6',\n",
       " '_64',\n",
       " '_68',\n",
       " '_71',\n",
       " '_73',\n",
       " '_76',\n",
       " '_78',\n",
       " '_8',\n",
       " '_81',\n",
       " '_82',\n",
       " '_84',\n",
       " '_85',\n",
       " '_86',\n",
       " '_87',\n",
       " '_88',\n",
       " '_89',\n",
       " '_90',\n",
       " '_91',\n",
       " '_92',\n",
       " '_93',\n",
       " '_94',\n",
       " 'test',\n",
       " 'train']"
      ]
     },
     "execution_count": 105,
     "metadata": {},
     "output_type": "execute_result"
    }
   ],
   "source": [
    "[var for var in dir() if isinstance(eval(var), pd.core.frame.DataFrame)]"
   ]
  },
  {
   "cell_type": "code",
   "execution_count": 104,
   "metadata": {},
   "outputs": [],
   "source": [
    "tx_frequency = None\n",
    "tx_frequency_tst = None\n",
    "tx_max_purchase = None\n",
    "tx_max_purchase_tst = None\n",
    "tx_pv = None\n",
    "tx_pv_tst = None\n",
    "tx_user = None\n",
    "tx_user_tst = None\n",
    "txns_by_users = None\n",
    "non_zero_txn = None\n",
    "non_zero_txn_tst = None\n",
    "pg_by_users = None\n",
    "df_country = None\n",
    "df_country_tst = None\n",
    "tmp = None"
   ]
  },
  {
   "cell_type": "markdown",
   "metadata": {},
   "source": [
    "## Upload Data to S3"
   ]
  },
  {
   "cell_type": "code",
   "execution_count": null,
   "metadata": {},
   "outputs": [],
   "source": [
    "# Country, Hits, channel Grouping, device category, device operating system, device browser, referral path, is true direct and then our clusters. "
   ]
  },
  {
   "cell_type": "code",
   "execution_count": 109,
   "metadata": {},
   "outputs": [],
   "source": [
    "feature_list = ['totals.transactionRevenue', 'country_cluster', 'totals.hits', 'channelGrouping', 'device.deviceCategory', 'device.operatingSystem', 'recency_cluster', 'frequency_cluster', 'pg_views_cluster']"
   ]
  },
  {
   "cell_type": "code",
   "execution_count": 112,
   "metadata": {},
   "outputs": [
    {
     "name": "stderr",
     "output_type": "stream",
     "text": [
      "/home/ec2-user/anaconda3/envs/mxnet_p36/lib/python3.6/site-packages/ipykernel/__main__.py:3: SettingWithCopyWarning: \n",
      "A value is trying to be set on a copy of a slice from a DataFrame.\n",
      "Try using .loc[row_indexer,col_indexer] = value instead\n",
      "\n",
      "See the caveats in the documentation: http://pandas.pydata.org/pandas-docs/stable/indexing.html#indexing-view-versus-copy\n",
      "  app.launch_new_instance()\n"
     ]
    }
   ],
   "source": [
    "train_in = train[feature_list]\n",
    "for col in [x for x in feature_list if x.find('cluster') > -1 ]:\n",
    "    train_in[col] = train_in[col].astype('str')"
   ]
  },
  {
   "cell_type": "code",
   "execution_count": 113,
   "metadata": {},
   "outputs": [
    {
     "data": {
      "text/plain": [
       "totals.transactionRevenue    float64\n",
       "country_cluster               object\n",
       "totals.hits                    int64\n",
       "channelGrouping               object\n",
       "device.deviceCategory         object\n",
       "device.operatingSystem        object\n",
       "recency_cluster               object\n",
       "frequency_cluster             object\n",
       "pg_views_cluster              object\n",
       "dtype: object"
      ]
     },
     "execution_count": 113,
     "metadata": {},
     "output_type": "execute_result"
    }
   ],
   "source": [
    "train_in.dtypes"
   ]
  },
  {
   "cell_type": "code",
   "execution_count": 114,
   "metadata": {},
   "outputs": [],
   "source": [
    "train_in = pd.get_dummies(train_in, drop_first=True)"
   ]
  },
  {
   "cell_type": "code",
   "execution_count": 115,
   "metadata": {},
   "outputs": [],
   "source": [
    "train, dev = train_test_split(train_in, test_size=0.20, random_state=42)\n",
    "\n",
    "train = train.fillna(0)\n",
    "dev = dev.fillna(0)"
   ]
  },
  {
   "cell_type": "code",
   "execution_count": 116,
   "metadata": {},
   "outputs": [],
   "source": [
    "train.to_csv('../data/train_data.csv', index = False, header = False)\n",
    "dev.to_csv('../data/dev_data.csv', index = False, header = False)"
   ]
  },
  {
   "cell_type": "code",
   "execution_count": 117,
   "metadata": {},
   "outputs": [],
   "source": [
    "# should be the name of directory you created to save your features data\n",
    "data_dir = '../data'\n",
    "\n",
    "# set prefix, a descriptive name for a directory  \n",
    "prefix = 'google_analytics'\n",
    "\n",
    "# upload all data to S3\n",
    "train_prefix = '{}/{}'.format(prefix, 'train')\n",
    "test_prefix = '{}/{}'.format(prefix, 'test')\n",
    "\n",
    "train_key = os.path.join(data_dir, 'train_data.csv')\n",
    "test_key = os.path.join(data_dir, 'dev_data.csv')\n",
    "\n",
    "train_path = sagemaker_session.upload_data(train_key, bucket = bucket, key_prefix = train_prefix)\n",
    "test_path = sagemaker_session.upload_data(test_key, bucket = bucket, key_prefix = test_prefix)"
   ]
  },
  {
   "cell_type": "markdown",
   "metadata": {},
   "source": [
    "## Modeling"
   ]
  },
  {
   "cell_type": "markdown",
   "metadata": {},
   "source": [
    "#### Benchmark"
   ]
  },
  {
   "cell_type": "markdown",
   "metadata": {},
   "source": [
    "As discussed in our project outline, we will baseline with a Linear Regression (LR), thus our `train.py` file will look like this (I used an example from a previous lesson):"
   ]
  },
  {
   "cell_type": "code",
   "execution_count": 197,
   "metadata": {},
   "outputs": [
    {
     "name": "stdout",
     "output_type": "stream",
     "text": [
      "\u001b[34mfrom\u001b[39;49;00m \u001b[04m\u001b[36m__future__\u001b[39;49;00m \u001b[34mimport\u001b[39;49;00m print_function\n",
      "\n",
      "\u001b[34mimport\u001b[39;49;00m \u001b[04m\u001b[36margparse\u001b[39;49;00m\n",
      "\u001b[34mimport\u001b[39;49;00m \u001b[04m\u001b[36mos\u001b[39;49;00m\n",
      "\u001b[34mimport\u001b[39;49;00m \u001b[04m\u001b[36mpandas\u001b[39;49;00m \u001b[34mas\u001b[39;49;00m \u001b[04m\u001b[36mpd\u001b[39;49;00m\n",
      "\n",
      "\u001b[34mfrom\u001b[39;49;00m \u001b[04m\u001b[36msklearn.externals\u001b[39;49;00m \u001b[34mimport\u001b[39;49;00m joblib\n",
      "\n",
      "\u001b[37m## TODO: Import any additional libraries you need to define a model\u001b[39;49;00m\n",
      "\u001b[34mfrom\u001b[39;49;00m \u001b[04m\u001b[36msklearn.linear_model\u001b[39;49;00m \u001b[34mimport\u001b[39;49;00m LinearRegression\n",
      "\u001b[34mfrom\u001b[39;49;00m \u001b[04m\u001b[36msklearn.ensemble\u001b[39;49;00m \u001b[34mimport\u001b[39;49;00m RandomForestClassifier\n",
      "\n",
      "\u001b[37m# Provided model load function\u001b[39;49;00m\n",
      "\u001b[34mdef\u001b[39;49;00m \u001b[32mmodel_fn\u001b[39;49;00m(model_dir):\n",
      "    \u001b[33m\"\"\"Load model from the model_dir. This is the same model that is saved\u001b[39;49;00m\n",
      "\u001b[33m    in the main if statement.\u001b[39;49;00m\n",
      "\u001b[33m    \"\"\"\u001b[39;49;00m\n",
      "    \u001b[34mprint\u001b[39;49;00m(\u001b[33m\"\u001b[39;49;00m\u001b[33mLoading model.\u001b[39;49;00m\u001b[33m\"\u001b[39;49;00m)\n",
      "    \n",
      "    \u001b[37m# load using joblib\u001b[39;49;00m\n",
      "    model = joblib.load(os.path.join(model_dir, \u001b[33m\"\u001b[39;49;00m\u001b[33mmodel.joblib\u001b[39;49;00m\u001b[33m\"\u001b[39;49;00m))\n",
      "    \u001b[34mprint\u001b[39;49;00m(\u001b[33m\"\u001b[39;49;00m\u001b[33mDone loading model.\u001b[39;49;00m\u001b[33m\"\u001b[39;49;00m)\n",
      "    \n",
      "    \u001b[34mreturn\u001b[39;49;00m model\n",
      "\n",
      "\n",
      "\u001b[37m## TODO: Complete the main code\u001b[39;49;00m\n",
      "\u001b[34mif\u001b[39;49;00m \u001b[31m__name__\u001b[39;49;00m == \u001b[33m'\u001b[39;49;00m\u001b[33m__main__\u001b[39;49;00m\u001b[33m'\u001b[39;49;00m:\n",
      "    \n",
      "    \u001b[37m# All of the model parameters and training parameters are sent as arguments\u001b[39;49;00m\n",
      "    \u001b[37m# when this script is executed, during a training job\u001b[39;49;00m\n",
      "    \n",
      "    \u001b[37m# Here we set up an argument parser to easily access the parameters\u001b[39;49;00m\n",
      "    parser = argparse.ArgumentParser()\n",
      "\n",
      "    \u001b[37m# SageMaker parameters, like the directories for training data and saving models; set automatically\u001b[39;49;00m\n",
      "    \u001b[37m# Do not need to change\u001b[39;49;00m\n",
      "    parser.add_argument(\u001b[33m'\u001b[39;49;00m\u001b[33m--output-data-dir\u001b[39;49;00m\u001b[33m'\u001b[39;49;00m, \u001b[36mtype\u001b[39;49;00m=\u001b[36mstr\u001b[39;49;00m, default=os.environ[\u001b[33m'\u001b[39;49;00m\u001b[33mSM_OUTPUT_DATA_DIR\u001b[39;49;00m\u001b[33m'\u001b[39;49;00m])\n",
      "    parser.add_argument(\u001b[33m'\u001b[39;49;00m\u001b[33m--model-dir\u001b[39;49;00m\u001b[33m'\u001b[39;49;00m, \u001b[36mtype\u001b[39;49;00m=\u001b[36mstr\u001b[39;49;00m, default=os.environ[\u001b[33m'\u001b[39;49;00m\u001b[33mSM_MODEL_DIR\u001b[39;49;00m\u001b[33m'\u001b[39;49;00m])\n",
      "    parser.add_argument(\u001b[33m'\u001b[39;49;00m\u001b[33m--data-dir\u001b[39;49;00m\u001b[33m'\u001b[39;49;00m, \u001b[36mtype\u001b[39;49;00m=\u001b[36mstr\u001b[39;49;00m, default=os.environ[\u001b[33m'\u001b[39;49;00m\u001b[33mSM_CHANNEL_TRAIN\u001b[39;49;00m\u001b[33m'\u001b[39;49;00m])\n",
      "    \n",
      "    \u001b[37m## TODO: Add any additional arguments that you will need to pass into your model\u001b[39;49;00m\n",
      "\n",
      "    \u001b[37m# args holds all passed-in arguments\u001b[39;49;00m\n",
      "    args = parser.parse_args()\n",
      "\n",
      "    \u001b[37m# Read in csv training file\u001b[39;49;00m\n",
      "    training_dir = args.data_dir\n",
      "    train_data = pd.read_csv(os.path.join(training_dir, \u001b[33m\"\u001b[39;49;00m\u001b[33mtrain_data.csv\u001b[39;49;00m\u001b[33m\"\u001b[39;49;00m), header=\u001b[36mNone\u001b[39;49;00m, names=\u001b[36mNone\u001b[39;49;00m)\n",
      "\n",
      "    \u001b[37m# Labels are in the first column\u001b[39;49;00m\n",
      "    train_y = train_data.iloc[:,\u001b[34m0\u001b[39;49;00m]\n",
      "    train_x = train_data.iloc[:,\u001b[34m1\u001b[39;49;00m:]\n",
      "    \n",
      "    \n",
      "    \u001b[37m## --- Your code here --- ##\u001b[39;49;00m\n",
      "\n",
      "    \u001b[37m## TODO: Define a model \u001b[39;49;00m\n",
      "    model = LinearRegression()\n",
      "\u001b[37m#     model = RandomForestClassifier(n_estimators = args.n_estimators, max_depth = args.max_depth)\u001b[39;49;00m\n",
      "    \n",
      "    \n",
      "    \u001b[37m## TODO: Train the model\u001b[39;49;00m\n",
      "    model.fit(train_x, train_y)\n",
      "    \n",
      "    \n",
      "    \u001b[37m## --- End of your code  --- ##\u001b[39;49;00m\n",
      "    \n",
      "\n",
      "    \u001b[37m# Save the trained model\u001b[39;49;00m\n",
      "    joblib.dump(model, os.path.join(args.model_dir, \u001b[33m\"\u001b[39;49;00m\u001b[33mmodel.joblib\u001b[39;49;00m\u001b[33m\"\u001b[39;49;00m))\n"
     ]
    }
   ],
   "source": [
    "!pygmentize ../source/train.py"
   ]
  },
  {
   "cell_type": "markdown",
   "metadata": {},
   "source": [
    "#### Baseline Model: Linear Regression"
   ]
  },
  {
   "cell_type": "code",
   "execution_count": 120,
   "metadata": {},
   "outputs": [],
   "source": [
    "from sagemaker.sklearn.estimator import SKLearn\n",
    "\n",
    "# specify an output path\n",
    "output_path = 's3://{}/{}'.format(bucket, prefix)\n",
    "\n",
    "# your import and estimator code, here\n",
    "estimator = SKLearn(\n",
    "        entry_point='train.py',\n",
    "        source_dir='../source',\n",
    "        role=role,\n",
    "        train_instance_count=1,\n",
    "        train_instance_type='ml.c4.xlarge',\n",
    "        output_path=output_path,\n",
    "        sagemaker_session=sagemaker_session\n",
    ")"
   ]
  },
  {
   "cell_type": "code",
   "execution_count": 121,
   "metadata": {},
   "outputs": [
    {
     "name": "stdout",
     "output_type": "stream",
     "text": [
      "2020-06-11 22:03:05 Starting - Starting the training job...\n",
      "2020-06-11 22:03:07 Starting - Launching requested ML instances......\n",
      "2020-06-11 22:04:16 Starting - Preparing the instances for training...\n",
      "2020-06-11 22:04:55 Downloading - Downloading input data...\n",
      "2020-06-11 22:05:21 Training - Downloading the training image..\u001b[34m2020-06-11 22:05:41,525 sagemaker-containers INFO     Imported framework sagemaker_sklearn_container.training\u001b[0m\n",
      "\u001b[34m2020-06-11 22:05:41,527 sagemaker-containers INFO     No GPUs detected (normal if no gpus installed)\u001b[0m\n",
      "\u001b[34m2020-06-11 22:05:41,537 sagemaker_sklearn_container.training INFO     Invoking user training script.\u001b[0m\n",
      "\u001b[34m2020-06-11 22:05:41,815 sagemaker-containers INFO     Module train does not provide a setup.py. \u001b[0m\n",
      "\u001b[34mGenerating setup.py\u001b[0m\n",
      "\u001b[34m2020-06-11 22:05:41,815 sagemaker-containers INFO     Generating setup.cfg\u001b[0m\n",
      "\u001b[34m2020-06-11 22:05:41,815 sagemaker-containers INFO     Generating MANIFEST.in\u001b[0m\n",
      "\u001b[34m2020-06-11 22:05:41,816 sagemaker-containers INFO     Installing module with the following command:\u001b[0m\n",
      "\u001b[34m/miniconda3/bin/python -m pip install . \u001b[0m\n",
      "\u001b[34mProcessing /opt/ml/code\u001b[0m\n",
      "\u001b[34mBuilding wheels for collected packages: train\n",
      "  Building wheel for train (setup.py): started\n",
      "  Building wheel for train (setup.py): finished with status 'done'\n",
      "  Created wheel for train: filename=train-1.0.0-py2.py3-none-any.whl size=7086 sha256=427c20b35926cf5ba89f57beee2e6c0e63b70dac5871c6c9c5e1d742442e5a16\n",
      "  Stored in directory: /tmp/pip-ephem-wheel-cache-4a3eirc7/wheels/35/24/16/37574d11bf9bde50616c67372a334f94fa8356bc7164af8ca3\u001b[0m\n",
      "\u001b[34mSuccessfully built train\u001b[0m\n",
      "\u001b[34mInstalling collected packages: train\u001b[0m\n",
      "\u001b[34mSuccessfully installed train-1.0.0\u001b[0m\n",
      "\u001b[34m2020-06-11 22:05:43,073 sagemaker-containers INFO     No GPUs detected (normal if no gpus installed)\u001b[0m\n",
      "\u001b[34m2020-06-11 22:05:43,084 sagemaker-containers INFO     Invoking user script\n",
      "\u001b[0m\n",
      "\u001b[34mTraining Env:\n",
      "\u001b[0m\n",
      "\u001b[34m{\n",
      "    \"additional_framework_parameters\": {},\n",
      "    \"channel_input_dirs\": {\n",
      "        \"train\": \"/opt/ml/input/data/train\"\n",
      "    },\n",
      "    \"current_host\": \"algo-1\",\n",
      "    \"framework_module\": \"sagemaker_sklearn_container.training:main\",\n",
      "    \"hosts\": [\n",
      "        \"algo-1\"\n",
      "    ],\n",
      "    \"hyperparameters\": {},\n",
      "    \"input_config_dir\": \"/opt/ml/input/config\",\n",
      "    \"input_data_config\": {\n",
      "        \"train\": {\n",
      "            \"TrainingInputMode\": \"File\",\n",
      "            \"S3DistributionType\": \"FullyReplicated\",\n",
      "            \"RecordWrapperType\": \"None\"\n",
      "        }\n",
      "    },\n",
      "    \"input_dir\": \"/opt/ml/input\",\n",
      "    \"is_master\": true,\n",
      "    \"job_name\": \"sagemaker-scikit-learn-2020-06-11-22-03-05-673\",\n",
      "    \"log_level\": 20,\n",
      "    \"master_hostname\": \"algo-1\",\n",
      "    \"model_dir\": \"/opt/ml/model\",\n",
      "    \"module_dir\": \"s3://sagemaker-us-west-1-790187941018/sagemaker-scikit-learn-2020-06-11-22-03-05-673/source/sourcedir.tar.gz\",\n",
      "    \"module_name\": \"train\",\n",
      "    \"network_interface_name\": \"eth0\",\n",
      "    \"num_cpus\": 4,\n",
      "    \"num_gpus\": 0,\n",
      "    \"output_data_dir\": \"/opt/ml/output/data\",\n",
      "    \"output_dir\": \"/opt/ml/output\",\n",
      "    \"output_intermediate_dir\": \"/opt/ml/output/intermediate\",\n",
      "    \"resource_config\": {\n",
      "        \"current_host\": \"algo-1\",\n",
      "        \"hosts\": [\n",
      "            \"algo-1\"\n",
      "        ],\n",
      "        \"network_interface_name\": \"eth0\"\n",
      "    },\n",
      "    \"user_entry_point\": \"train.py\"\u001b[0m\n",
      "\u001b[34m}\n",
      "\u001b[0m\n",
      "\u001b[34mEnvironment variables:\n",
      "\u001b[0m\n",
      "\u001b[34mSM_HOSTS=[\"algo-1\"]\u001b[0m\n",
      "\u001b[34mSM_NETWORK_INTERFACE_NAME=eth0\u001b[0m\n",
      "\u001b[34mSM_HPS={}\u001b[0m\n",
      "\u001b[34mSM_USER_ENTRY_POINT=train.py\u001b[0m\n",
      "\u001b[34mSM_FRAMEWORK_PARAMS={}\u001b[0m\n",
      "\u001b[34mSM_RESOURCE_CONFIG={\"current_host\":\"algo-1\",\"hosts\":[\"algo-1\"],\"network_interface_name\":\"eth0\"}\u001b[0m\n",
      "\u001b[34mSM_INPUT_DATA_CONFIG={\"train\":{\"RecordWrapperType\":\"None\",\"S3DistributionType\":\"FullyReplicated\",\"TrainingInputMode\":\"File\"}}\u001b[0m\n",
      "\u001b[34mSM_OUTPUT_DATA_DIR=/opt/ml/output/data\u001b[0m\n",
      "\u001b[34mSM_CHANNELS=[\"train\"]\u001b[0m\n",
      "\u001b[34mSM_CURRENT_HOST=algo-1\u001b[0m\n",
      "\u001b[34mSM_MODULE_NAME=train\u001b[0m\n",
      "\u001b[34mSM_LOG_LEVEL=20\u001b[0m\n",
      "\u001b[34mSM_FRAMEWORK_MODULE=sagemaker_sklearn_container.training:main\u001b[0m\n",
      "\u001b[34mSM_INPUT_DIR=/opt/ml/input\u001b[0m\n",
      "\u001b[34mSM_INPUT_CONFIG_DIR=/opt/ml/input/config\u001b[0m\n",
      "\u001b[34mSM_OUTPUT_DIR=/opt/ml/output\u001b[0m\n",
      "\u001b[34mSM_NUM_CPUS=4\u001b[0m\n",
      "\u001b[34mSM_NUM_GPUS=0\u001b[0m\n",
      "\u001b[34mSM_MODEL_DIR=/opt/ml/model\u001b[0m\n",
      "\u001b[34mSM_MODULE_DIR=s3://sagemaker-us-west-1-790187941018/sagemaker-scikit-learn-2020-06-11-22-03-05-673/source/sourcedir.tar.gz\u001b[0m\n",
      "\u001b[34mSM_TRAINING_ENV={\"additional_framework_parameters\":{},\"channel_input_dirs\":{\"train\":\"/opt/ml/input/data/train\"},\"current_host\":\"algo-1\",\"framework_module\":\"sagemaker_sklearn_container.training:main\",\"hosts\":[\"algo-1\"],\"hyperparameters\":{},\"input_config_dir\":\"/opt/ml/input/config\",\"input_data_config\":{\"train\":{\"RecordWrapperType\":\"None\",\"S3DistributionType\":\"FullyReplicated\",\"TrainingInputMode\":\"File\"}},\"input_dir\":\"/opt/ml/input\",\"is_master\":true,\"job_name\":\"sagemaker-scikit-learn-2020-06-11-22-03-05-673\",\"log_level\":20,\"master_hostname\":\"algo-1\",\"model_dir\":\"/opt/ml/model\",\"module_dir\":\"s3://sagemaker-us-west-1-790187941018/sagemaker-scikit-learn-2020-06-11-22-03-05-673/source/sourcedir.tar.gz\",\"module_name\":\"train\",\"network_interface_name\":\"eth0\",\"num_cpus\":4,\"num_gpus\":0,\"output_data_dir\":\"/opt/ml/output/data\",\"output_dir\":\"/opt/ml/output\",\"output_intermediate_dir\":\"/opt/ml/output/intermediate\",\"resource_config\":{\"current_host\":\"algo-1\",\"hosts\":[\"algo-1\"],\"network_interface_name\":\"eth0\"},\"user_entry_point\":\"train.py\"}\u001b[0m\n",
      "\u001b[34mSM_USER_ARGS=[]\u001b[0m\n",
      "\u001b[34mSM_OUTPUT_INTERMEDIATE_DIR=/opt/ml/output/intermediate\u001b[0m\n",
      "\u001b[34mSM_CHANNEL_TRAIN=/opt/ml/input/data/train\u001b[0m\n",
      "\u001b[34mPYTHONPATH=/miniconda3/bin:/miniconda3/lib/python37.zip:/miniconda3/lib/python3.7:/miniconda3/lib/python3.7/lib-dynload:/miniconda3/lib/python3.7/site-packages\n",
      "\u001b[0m\n",
      "\u001b[34mInvoking script with the following command:\n",
      "\u001b[0m\n",
      "\u001b[34m/miniconda3/bin/python -m train\n",
      "\n",
      "\u001b[0m\n",
      "\u001b[34m/miniconda3/lib/python3.7/site-packages/sklearn/externals/joblib/externals/cloudpickle/cloudpickle.py:47: DeprecationWarning: the imp module is deprecated in favour of importlib; see the module's documentation for alternative uses\n",
      "  import imp\u001b[0m\n",
      "\u001b[34m2020-06-11 22:05:46,869 sagemaker-containers INFO     Reporting training SUCCESS\u001b[0m\n",
      "\n",
      "2020-06-11 22:05:51 Uploading - Uploading generated training model\n",
      "2020-06-11 22:06:17 Completed - Training job completed\n",
      "Training seconds: 82\n",
      "Billable seconds: 82\n",
      "CPU times: user 450 ms, sys: 21.3 ms, total: 471 ms\n",
      "Wall time: 3min 42s\n"
     ]
    }
   ],
   "source": [
    "%%time\n",
    "\n",
    "# Train your estimator on S3 training data\n",
    "estimator.fit({'train': train_path})"
   ]
  },
  {
   "cell_type": "code",
   "execution_count": 177,
   "metadata": {},
   "outputs": [
    {
     "name": "stderr",
     "output_type": "stream",
     "text": [
      "Using already existing model: sagemaker-scikit-learn-2020-06-11-22-03-05-673\n"
     ]
    },
    {
     "name": "stdout",
     "output_type": "stream",
     "text": [
      "-----------------!CPU times: user 274 ms, sys: 18 ms, total: 292 ms\n",
      "Wall time: 8min 32s\n"
     ]
    }
   ],
   "source": [
    "%%time\n",
    "\n",
    "# deploy model to create a predictor\n",
    "predictor = estimator.deploy(initial_instance_count=1, instance_type='ml.t2.medium')"
   ]
  },
  {
   "cell_type": "code",
   "execution_count": 193,
   "metadata": {},
   "outputs": [],
   "source": [
    "# read in test data, assuming it is stored locally\n",
    "test_data = pd.read_csv(os.path.join(data_dir, \"dev_data.csv\"), header=None, names=None)\n",
    "\n",
    "# labels are in the first column\n",
    "y_pred_vals = np.array([])\n",
    "for i in range(0, 200000, 10000):\n",
    "#     print(prev, i)\n",
    "    test_y = test_data.iloc[i:i+10000,0]\n",
    "    test_x = test_data.iloc[i:i+10000,1:]\n",
    "    test_y_preds = predictor.predict(test_x)\n",
    "    y_pred_vals = np.concatenate([y_pred_vals, test_y_preds])\n",
    "    prev = i"
   ]
  },
  {
   "cell_type": "code",
   "execution_count": 180,
   "metadata": {},
   "outputs": [
    {
     "data": {
      "text/plain": [
       "(180728,)"
      ]
     },
     "execution_count": 180,
     "metadata": {},
     "output_type": "execute_result"
    }
   ],
   "source": [
    "y_pred_vals.shape, test_data.shape"
   ]
  },
  {
   "cell_type": "code",
   "execution_count": 194,
   "metadata": {},
   "outputs": [
    {
     "data": {
      "text/plain": [
       "64953923.35620968"
      ]
     },
     "execution_count": 194,
     "metadata": {},
     "output_type": "execute_result"
    }
   ],
   "source": [
    "np.sqrt(mean_squared_error(y_true = test_data.iloc[:,0], y_pred = y_pred_vals))"
   ]
  },
  {
   "cell_type": "code",
   "execution_count": 195,
   "metadata": {},
   "outputs": [
    {
     "name": "stderr",
     "output_type": "stream",
     "text": [
      "/home/ec2-user/anaconda3/envs/mxnet_p36/lib/python3.6/site-packages/ipykernel/__main__.py:1: RuntimeWarning: invalid value encountered in log1p\n",
      "  if __name__ == '__main__':\n"
     ]
    },
    {
     "data": {
      "text/plain": [
       "9.398186193093983"
      ]
     },
     "execution_count": 195,
     "metadata": {},
     "output_type": "execute_result"
    }
   ],
   "source": [
    "np.sqrt(mean_squared_error(y_true = np.log1p(test_data.iloc[:,0]), y_pred = np.nan_to_num(np.log1p(y_pred_vals))))"
   ]
  },
  {
   "cell_type": "markdown",
   "metadata": {},
   "source": [
    "We see that our Linear Regression gives us a RMSE of 9.398186 for our logged outcome. Now we will take down the endpoint and try a Random Forest Model. "
   ]
  },
  {
   "cell_type": "code",
   "execution_count": 196,
   "metadata": {},
   "outputs": [],
   "source": [
    "predictor.delete_endpoint()"
   ]
  },
  {
   "cell_type": "markdown",
   "metadata": {},
   "source": [
    "#### Product Model"
   ]
  },
  {
   "cell_type": "markdown",
   "metadata": {},
   "source": [
    "Now we will try a Random Forest model which will be our final production model:"
   ]
  },
  {
   "cell_type": "code",
   "execution_count": 226,
   "metadata": {},
   "outputs": [
    {
     "name": "stdout",
     "output_type": "stream",
     "text": [
      "\u001b[34mfrom\u001b[39;49;00m \u001b[04m\u001b[36m__future__\u001b[39;49;00m \u001b[34mimport\u001b[39;49;00m print_function\n",
      "\n",
      "\u001b[34mimport\u001b[39;49;00m \u001b[04m\u001b[36margparse\u001b[39;49;00m\n",
      "\u001b[34mimport\u001b[39;49;00m \u001b[04m\u001b[36mos\u001b[39;49;00m\n",
      "\u001b[34mimport\u001b[39;49;00m \u001b[04m\u001b[36mpandas\u001b[39;49;00m \u001b[34mas\u001b[39;49;00m \u001b[04m\u001b[36mpd\u001b[39;49;00m\n",
      "\n",
      "\u001b[34mfrom\u001b[39;49;00m \u001b[04m\u001b[36msklearn.externals\u001b[39;49;00m \u001b[34mimport\u001b[39;49;00m joblib\n",
      "\n",
      "\u001b[37m## TODO: Import any additional libraries you need to define a model\u001b[39;49;00m\n",
      "\u001b[34mfrom\u001b[39;49;00m \u001b[04m\u001b[36msklearn.linear_model\u001b[39;49;00m \u001b[34mimport\u001b[39;49;00m LinearRegression\n",
      "\u001b[34mfrom\u001b[39;49;00m \u001b[04m\u001b[36msklearn.ensemble\u001b[39;49;00m \u001b[34mimport\u001b[39;49;00m RandomForestRegressor\n",
      "\n",
      "\u001b[37m# Provided model load function\u001b[39;49;00m\n",
      "\u001b[34mdef\u001b[39;49;00m \u001b[32mmodel_fn\u001b[39;49;00m(model_dir):\n",
      "    \u001b[33m\"\"\"Load model from the model_dir. This is the same model that is saved\u001b[39;49;00m\n",
      "\u001b[33m    in the main if statement.\u001b[39;49;00m\n",
      "\u001b[33m    \"\"\"\u001b[39;49;00m\n",
      "    \u001b[34mprint\u001b[39;49;00m(\u001b[33m\"\u001b[39;49;00m\u001b[33mLoading model.\u001b[39;49;00m\u001b[33m\"\u001b[39;49;00m)\n",
      "    \n",
      "    \u001b[37m# load using joblib\u001b[39;49;00m\n",
      "    model = joblib.load(os.path.join(model_dir, \u001b[33m\"\u001b[39;49;00m\u001b[33mmodel.joblib\u001b[39;49;00m\u001b[33m\"\u001b[39;49;00m))\n",
      "    \u001b[34mprint\u001b[39;49;00m(\u001b[33m\"\u001b[39;49;00m\u001b[33mDone loading model.\u001b[39;49;00m\u001b[33m\"\u001b[39;49;00m)\n",
      "    \n",
      "    \u001b[34mreturn\u001b[39;49;00m model\n",
      "\n",
      "\n",
      "\u001b[37m## TODO: Complete the main code\u001b[39;49;00m\n",
      "\u001b[34mif\u001b[39;49;00m \u001b[31m__name__\u001b[39;49;00m == \u001b[33m'\u001b[39;49;00m\u001b[33m__main__\u001b[39;49;00m\u001b[33m'\u001b[39;49;00m:\n",
      "    \n",
      "    \u001b[37m# All of the model parameters and training parameters are sent as arguments\u001b[39;49;00m\n",
      "    \u001b[37m# when this script is executed, during a training job\u001b[39;49;00m\n",
      "    \n",
      "    \u001b[37m# Here we set up an argument parser to easily access the parameters\u001b[39;49;00m\n",
      "    parser = argparse.ArgumentParser()\n",
      "\n",
      "    \u001b[37m# SageMaker parameters, like the directories for training data and saving models; set automatically\u001b[39;49;00m\n",
      "    \u001b[37m# Do not need to change\u001b[39;49;00m\n",
      "    parser.add_argument(\u001b[33m'\u001b[39;49;00m\u001b[33m--output-data-dir\u001b[39;49;00m\u001b[33m'\u001b[39;49;00m, \u001b[36mtype\u001b[39;49;00m=\u001b[36mstr\u001b[39;49;00m, default=os.environ[\u001b[33m'\u001b[39;49;00m\u001b[33mSM_OUTPUT_DATA_DIR\u001b[39;49;00m\u001b[33m'\u001b[39;49;00m])\n",
      "    parser.add_argument(\u001b[33m'\u001b[39;49;00m\u001b[33m--model-dir\u001b[39;49;00m\u001b[33m'\u001b[39;49;00m, \u001b[36mtype\u001b[39;49;00m=\u001b[36mstr\u001b[39;49;00m, default=os.environ[\u001b[33m'\u001b[39;49;00m\u001b[33mSM_MODEL_DIR\u001b[39;49;00m\u001b[33m'\u001b[39;49;00m])\n",
      "    parser.add_argument(\u001b[33m'\u001b[39;49;00m\u001b[33m--data-dir\u001b[39;49;00m\u001b[33m'\u001b[39;49;00m, \u001b[36mtype\u001b[39;49;00m=\u001b[36mstr\u001b[39;49;00m, default=os.environ[\u001b[33m'\u001b[39;49;00m\u001b[33mSM_CHANNEL_TRAIN\u001b[39;49;00m\u001b[33m'\u001b[39;49;00m])\n",
      "    \n",
      "    \u001b[37m## TODO: Add any additional arguments that you will need to pass into your model\u001b[39;49;00m\n",
      "    parser.add_argument(\u001b[33m'\u001b[39;49;00m\u001b[33m--n_estimators\u001b[39;49;00m\u001b[33m'\u001b[39;49;00m, \u001b[36mtype\u001b[39;49;00m=\u001b[36mint\u001b[39;49;00m, default=\u001b[34m50\u001b[39;49;00m)\n",
      "    parser.add_argument(\u001b[33m'\u001b[39;49;00m\u001b[33m--max_depth\u001b[39;49;00m\u001b[33m'\u001b[39;49;00m, \u001b[36mtype\u001b[39;49;00m=\u001b[36mint\u001b[39;49;00m, default=\u001b[34m5\u001b[39;49;00m)\n",
      "    parser.add_argument(\u001b[33m'\u001b[39;49;00m\u001b[33m--min_samples_leaf\u001b[39;49;00m\u001b[33m'\u001b[39;49;00m, \u001b[36mtype\u001b[39;49;00m = \u001b[36mint\u001b[39;49;00m, default = \u001b[34m5\u001b[39;49;00m)\n",
      "    parser.add_argument(\u001b[33m'\u001b[39;49;00m\u001b[33m--min_samples_split\u001b[39;49;00m\u001b[33m'\u001b[39;49;00m, \u001b[36mtype\u001b[39;49;00m = \u001b[36mint\u001b[39;49;00m, default = \u001b[34m5\u001b[39;49;00m)\n",
      "    \n",
      "    \u001b[37m# args holds all passed-in arguments\u001b[39;49;00m\n",
      "    args = parser.parse_args()\n",
      "\n",
      "    \u001b[37m# Read in csv training file\u001b[39;49;00m\n",
      "    training_dir = args.data_dir\n",
      "    train_data = pd.read_csv(os.path.join(training_dir, \u001b[33m\"\u001b[39;49;00m\u001b[33mtrain_data.csv\u001b[39;49;00m\u001b[33m\"\u001b[39;49;00m), header=\u001b[36mNone\u001b[39;49;00m, names=\u001b[36mNone\u001b[39;49;00m)\n",
      "\n",
      "    \u001b[37m# Labels are in the first column\u001b[39;49;00m\n",
      "    train_y = train_data.iloc[:,\u001b[34m0\u001b[39;49;00m]\n",
      "    train_x = train_data.iloc[:,\u001b[34m1\u001b[39;49;00m:]\n",
      "    \n",
      "    \n",
      "    \u001b[37m## --- Your code here --- ##\u001b[39;49;00m\n",
      "\n",
      "    \u001b[37m## TODO: Define a model \u001b[39;49;00m\n",
      "\u001b[37m#     model = LinearRegression()\u001b[39;49;00m\n",
      "    model = RandomForestRegressor(n_estimators = args.n_estimators, max_depth = args.max_depth, min_samples_leaf = args.min_samples_leaf, min_samples_split = args.min_samples_split)\n",
      "    \n",
      "    \n",
      "    \u001b[37m## TODO: Train the model\u001b[39;49;00m\n",
      "    model.fit(train_x, train_y)\n",
      "    \n",
      "    \n",
      "    \u001b[37m## --- End of your code  --- ##\u001b[39;49;00m\n",
      "    \n",
      "\n",
      "    \u001b[37m# Save the trained model\u001b[39;49;00m\n",
      "    joblib.dump(model, os.path.join(args.model_dir, \u001b[33m\"\u001b[39;49;00m\u001b[33mmodel.joblib\u001b[39;49;00m\u001b[33m\"\u001b[39;49;00m))\n"
     ]
    }
   ],
   "source": [
    "!pygmentize ../source/train-rf.py"
   ]
  },
  {
   "cell_type": "code",
   "execution_count": 243,
   "metadata": {},
   "outputs": [],
   "source": [
    "from sagemaker.sklearn.estimator import SKLearn\n",
    "\n",
    "# specify an output path\n",
    "output_path = 's3://{}/{}'.format(bucket, prefix)\n",
    "\n",
    "# your import and estimator code, here\n",
    "estimator = SKLearn(\n",
    "        entry_point='train-rf.py',\n",
    "        source_dir='../source',\n",
    "        role=role,\n",
    "        train_instance_count=1,\n",
    "        train_instance_type='ml.c4.xlarge',\n",
    "        output_path=output_path,\n",
    "        sagemaker_session=sagemaker_session\n",
    ")"
   ]
  },
  {
   "cell_type": "code",
   "execution_count": 244,
   "metadata": {},
   "outputs": [
    {
     "name": "stdout",
     "output_type": "stream",
     "text": [
      "2020-06-12 03:26:42 Starting - Starting the training job...\n",
      "2020-06-12 03:26:44 Starting - Launching requested ML instances.........\n",
      "2020-06-12 03:28:19 Starting - Preparing the instances for training...\n",
      "2020-06-12 03:28:57 Downloading - Downloading input data...\n",
      "2020-06-12 03:29:36 Training - Training image download completed. Training in progress.\u001b[34m2020-06-12 03:29:36,441 sagemaker-containers INFO     Imported framework sagemaker_sklearn_container.training\u001b[0m\n",
      "\u001b[34m2020-06-12 03:29:36,443 sagemaker-containers INFO     No GPUs detected (normal if no gpus installed)\u001b[0m\n",
      "\u001b[34m2020-06-12 03:29:36,453 sagemaker_sklearn_container.training INFO     Invoking user training script.\u001b[0m\n",
      "\u001b[34m2020-06-12 03:29:36,756 sagemaker-containers INFO     Module train-rf does not provide a setup.py. \u001b[0m\n",
      "\u001b[34mGenerating setup.py\u001b[0m\n",
      "\u001b[34m2020-06-12 03:29:36,756 sagemaker-containers INFO     Generating setup.cfg\u001b[0m\n",
      "\u001b[34m2020-06-12 03:29:36,756 sagemaker-containers INFO     Generating MANIFEST.in\u001b[0m\n",
      "\u001b[34m2020-06-12 03:29:36,757 sagemaker-containers INFO     Installing module with the following command:\u001b[0m\n",
      "\u001b[34m/miniconda3/bin/python -m pip install . \u001b[0m\n",
      "\u001b[34mProcessing /opt/ml/code\u001b[0m\n",
      "\u001b[34mBuilding wheels for collected packages: train-rf\n",
      "  Building wheel for train-rf (setup.py): started\n",
      "  Building wheel for train-rf (setup.py): finished with status 'done'\n",
      "  Created wheel for train-rf: filename=train_rf-1.0.0-py2.py3-none-any.whl size=10652 sha256=e090a53deff7fba59b0ffcf9a207a92b5a7486c24c3fefa1cb53d090297b6279\n",
      "  Stored in directory: /tmp/pip-ephem-wheel-cache-kutbh2oq/wheels/35/24/16/37574d11bf9bde50616c67372a334f94fa8356bc7164af8ca3\u001b[0m\n",
      "\u001b[34mSuccessfully built train-rf\u001b[0m\n",
      "\u001b[34mInstalling collected packages: train-rf\u001b[0m\n",
      "\u001b[34mSuccessfully installed train-rf-1.0.0\u001b[0m\n",
      "\u001b[34m2020-06-12 03:29:38,031 sagemaker-containers INFO     No GPUs detected (normal if no gpus installed)\u001b[0m\n",
      "\u001b[34m2020-06-12 03:29:38,042 sagemaker-containers INFO     Invoking user script\n",
      "\u001b[0m\n",
      "\u001b[34mTraining Env:\n",
      "\u001b[0m\n",
      "\u001b[34m{\n",
      "    \"additional_framework_parameters\": {},\n",
      "    \"channel_input_dirs\": {\n",
      "        \"train\": \"/opt/ml/input/data/train\"\n",
      "    },\n",
      "    \"current_host\": \"algo-1\",\n",
      "    \"framework_module\": \"sagemaker_sklearn_container.training:main\",\n",
      "    \"hosts\": [\n",
      "        \"algo-1\"\n",
      "    ],\n",
      "    \"hyperparameters\": {},\n",
      "    \"input_config_dir\": \"/opt/ml/input/config\",\n",
      "    \"input_data_config\": {\n",
      "        \"train\": {\n",
      "            \"TrainingInputMode\": \"File\",\n",
      "            \"S3DistributionType\": \"FullyReplicated\",\n",
      "            \"RecordWrapperType\": \"None\"\n",
      "        }\n",
      "    },\n",
      "    \"input_dir\": \"/opt/ml/input\",\n",
      "    \"is_master\": true,\n",
      "    \"job_name\": \"sagemaker-scikit-learn-2020-06-12-03-26-42-059\",\n",
      "    \"log_level\": 20,\n",
      "    \"master_hostname\": \"algo-1\",\n",
      "    \"model_dir\": \"/opt/ml/model\",\n",
      "    \"module_dir\": \"s3://sagemaker-us-west-1-790187941018/sagemaker-scikit-learn-2020-06-12-03-26-42-059/source/sourcedir.tar.gz\",\n",
      "    \"module_name\": \"train-rf\",\n",
      "    \"network_interface_name\": \"eth0\",\n",
      "    \"num_cpus\": 4,\n",
      "    \"num_gpus\": 0,\n",
      "    \"output_data_dir\": \"/opt/ml/output/data\",\n",
      "    \"output_dir\": \"/opt/ml/output\",\n",
      "    \"output_intermediate_dir\": \"/opt/ml/output/intermediate\",\n",
      "    \"resource_config\": {\n",
      "        \"current_host\": \"algo-1\",\n",
      "        \"hosts\": [\n",
      "            \"algo-1\"\n",
      "        ],\n",
      "        \"network_interface_name\": \"eth0\"\n",
      "    },\n",
      "    \"user_entry_point\": \"train-rf.py\"\u001b[0m\n",
      "\u001b[34m}\n",
      "\u001b[0m\n",
      "\u001b[34mEnvironment variables:\n",
      "\u001b[0m\n",
      "\u001b[34mSM_HOSTS=[\"algo-1\"]\u001b[0m\n",
      "\u001b[34mSM_NETWORK_INTERFACE_NAME=eth0\u001b[0m\n",
      "\u001b[34mSM_HPS={}\u001b[0m\n",
      "\u001b[34mSM_USER_ENTRY_POINT=train-rf.py\u001b[0m\n",
      "\u001b[34mSM_FRAMEWORK_PARAMS={}\u001b[0m\n",
      "\u001b[34mSM_RESOURCE_CONFIG={\"current_host\":\"algo-1\",\"hosts\":[\"algo-1\"],\"network_interface_name\":\"eth0\"}\u001b[0m\n",
      "\u001b[34mSM_INPUT_DATA_CONFIG={\"train\":{\"RecordWrapperType\":\"None\",\"S3DistributionType\":\"FullyReplicated\",\"TrainingInputMode\":\"File\"}}\u001b[0m\n",
      "\u001b[34mSM_OUTPUT_DATA_DIR=/opt/ml/output/data\u001b[0m\n",
      "\u001b[34mSM_CHANNELS=[\"train\"]\u001b[0m\n",
      "\u001b[34mSM_CURRENT_HOST=algo-1\u001b[0m\n",
      "\u001b[34mSM_MODULE_NAME=train-rf\u001b[0m\n",
      "\u001b[34mSM_LOG_LEVEL=20\u001b[0m\n",
      "\u001b[34mSM_FRAMEWORK_MODULE=sagemaker_sklearn_container.training:main\u001b[0m\n",
      "\u001b[34mSM_INPUT_DIR=/opt/ml/input\u001b[0m\n",
      "\u001b[34mSM_INPUT_CONFIG_DIR=/opt/ml/input/config\u001b[0m\n",
      "\u001b[34mSM_OUTPUT_DIR=/opt/ml/output\u001b[0m\n",
      "\u001b[34mSM_NUM_CPUS=4\u001b[0m\n",
      "\u001b[34mSM_NUM_GPUS=0\u001b[0m\n",
      "\u001b[34mSM_MODEL_DIR=/opt/ml/model\u001b[0m\n",
      "\u001b[34mSM_MODULE_DIR=s3://sagemaker-us-west-1-790187941018/sagemaker-scikit-learn-2020-06-12-03-26-42-059/source/sourcedir.tar.gz\u001b[0m\n",
      "\u001b[34mSM_TRAINING_ENV={\"additional_framework_parameters\":{},\"channel_input_dirs\":{\"train\":\"/opt/ml/input/data/train\"},\"current_host\":\"algo-1\",\"framework_module\":\"sagemaker_sklearn_container.training:main\",\"hosts\":[\"algo-1\"],\"hyperparameters\":{},\"input_config_dir\":\"/opt/ml/input/config\",\"input_data_config\":{\"train\":{\"RecordWrapperType\":\"None\",\"S3DistributionType\":\"FullyReplicated\",\"TrainingInputMode\":\"File\"}},\"input_dir\":\"/opt/ml/input\",\"is_master\":true,\"job_name\":\"sagemaker-scikit-learn-2020-06-12-03-26-42-059\",\"log_level\":20,\"master_hostname\":\"algo-1\",\"model_dir\":\"/opt/ml/model\",\"module_dir\":\"s3://sagemaker-us-west-1-790187941018/sagemaker-scikit-learn-2020-06-12-03-26-42-059/source/sourcedir.tar.gz\",\"module_name\":\"train-rf\",\"network_interface_name\":\"eth0\",\"num_cpus\":4,\"num_gpus\":0,\"output_data_dir\":\"/opt/ml/output/data\",\"output_dir\":\"/opt/ml/output\",\"output_intermediate_dir\":\"/opt/ml/output/intermediate\",\"resource_config\":{\"current_host\":\"algo-1\",\"hosts\":[\"algo-1\"],\"network_interface_name\":\"eth0\"},\"user_entry_point\":\"train-rf.py\"}\u001b[0m\n",
      "\u001b[34mSM_USER_ARGS=[]\u001b[0m\n",
      "\u001b[34mSM_OUTPUT_INTERMEDIATE_DIR=/opt/ml/output/intermediate\u001b[0m\n",
      "\u001b[34mSM_CHANNEL_TRAIN=/opt/ml/input/data/train\u001b[0m\n",
      "\u001b[34mPYTHONPATH=/miniconda3/bin:/miniconda3/lib/python37.zip:/miniconda3/lib/python3.7:/miniconda3/lib/python3.7/lib-dynload:/miniconda3/lib/python3.7/site-packages\n",
      "\u001b[0m\n",
      "\u001b[34mInvoking script with the following command:\n",
      "\u001b[0m\n",
      "\u001b[34m/miniconda3/bin/python -m train-rf\n",
      "\n",
      "\u001b[0m\n",
      "\u001b[34m/miniconda3/lib/python3.7/site-packages/sklearn/externals/joblib/externals/cloudpickle/cloudpickle.py:47: DeprecationWarning: the imp module is deprecated in favour of importlib; see the module's documentation for alternative uses\n",
      "  import imp\u001b[0m\n",
      "\u001b[34m2020-06-12 03:32:23,390 sagemaker-containers INFO     Reporting training SUCCESS\u001b[0m\n",
      "\n",
      "2020-06-12 03:32:34 Uploading - Uploading generated training model\n",
      "2020-06-12 03:32:34 Completed - Training job completed\n",
      "Training seconds: 217\n",
      "Billable seconds: 217\n",
      "CPU times: user 744 ms, sys: 32.5 ms, total: 777 ms\n",
      "Wall time: 6min 13s\n"
     ]
    }
   ],
   "source": [
    "%%time\n",
    "\n",
    "# Train your estimator on S3 training data\n",
    "estimator.fit({'train': train_path})"
   ]
  },
  {
   "cell_type": "code",
   "execution_count": 245,
   "metadata": {},
   "outputs": [
    {
     "name": "stdout",
     "output_type": "stream",
     "text": [
      "---------------!CPU times: user 233 ms, sys: 23.1 ms, total: 256 ms\n",
      "Wall time: 7min 32s\n"
     ]
    }
   ],
   "source": [
    "%%time\n",
    "\n",
    "# deploy model to create a predictor\n",
    "predictor = estimator.deploy(initial_instance_count=1, instance_type='ml.t2.medium')"
   ]
  },
  {
   "cell_type": "code",
   "execution_count": 246,
   "metadata": {},
   "outputs": [],
   "source": [
    "# read in test data, assuming it is stored locally\n",
    "test_data = pd.read_csv(os.path.join(data_dir, \"dev_data.csv\"), header=None, names=None)\n",
    "\n",
    "# labels are in the first column\n",
    "y_pred_vals = np.array([])\n",
    "for i in range(0, test_data.shape[0], 10000):\n",
    "    test_y = test_data.iloc[i:i+10000,0]\n",
    "    test_x = test_data.iloc[i:i+10000,1:]\n",
    "    test_y_preds = predictor.predict(test_x)\n",
    "    y_pred_vals = np.concatenate([y_pred_vals, test_y_preds])"
   ]
  },
  {
   "cell_type": "code",
   "execution_count": 247,
   "metadata": {},
   "outputs": [
    {
     "data": {
      "text/plain": [
       "61751932.936009176"
      ]
     },
     "execution_count": 247,
     "metadata": {},
     "output_type": "execute_result"
    }
   ],
   "source": [
    "np.sqrt(mean_squared_error(y_true = test_data.iloc[:,0], y_pred = y_pred_vals))"
   ]
  },
  {
   "cell_type": "code",
   "execution_count": 248,
   "metadata": {},
   "outputs": [
    {
     "data": {
      "text/plain": [
       "4.3491594153608135"
      ]
     },
     "execution_count": 248,
     "metadata": {},
     "output_type": "execute_result"
    }
   ],
   "source": [
    "np.sqrt(mean_squared_error(y_true = np.log1p(test_data.iloc[:,0]), y_pred = np.nan_to_num(np.log1p(y_pred_vals))))"
   ]
  },
  {
   "cell_type": "code",
   "execution_count": 249,
   "metadata": {},
   "outputs": [],
   "source": [
    "predictor.delete_endpoint()"
   ]
  },
  {
   "cell_type": "code",
   "execution_count": null,
   "metadata": {},
   "outputs": [],
   "source": []
  }
 ],
 "metadata": {
  "kernelspec": {
   "display_name": "conda_mxnet_p36",
   "language": "python",
   "name": "conda_mxnet_p36"
  },
  "language_info": {
   "codemirror_mode": {
    "name": "ipython",
    "version": 3
   },
   "file_extension": ".py",
   "mimetype": "text/x-python",
   "name": "python",
   "nbconvert_exporter": "python",
   "pygments_lexer": "ipython3",
   "version": "3.6.5"
  }
 },
 "nbformat": 4,
 "nbformat_minor": 4
}
